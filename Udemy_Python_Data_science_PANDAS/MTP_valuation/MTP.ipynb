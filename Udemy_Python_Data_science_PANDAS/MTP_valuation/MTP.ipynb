{
 "cells": [
  {
   "cell_type": "markdown",
   "metadata": {},
   "source": [
    "# 파일 경로 지정 및 라이브러리 실행"
   ]
  },
  {
   "cell_type": "code",
   "execution_count": 44,
   "metadata": {},
   "outputs": [],
   "source": [
    "import pandas as pd\n",
    "import numpy as np\n",
    "import xlwings as xw"
   ]
  },
  {
   "cell_type": "code",
   "execution_count": 75,
   "metadata": {},
   "outputs": [],
   "source": [
    "# Backdata(Dataframe)\n",
    "financial_data_path = r\"https://raw.githubusercontent.com/DongwooChae/QuantifyPro/master/Udemy_Python_Data_science_PANDAS/MTP_valuation/241Q%EC%9E%AC%EB%AC%B4%EB%8D%B0%EC%9D%B4%ED%84%B0.csv\"\n",
    "stock_count_path = r\"https://raw.githubusercontent.com/DongwooChae/QuantifyPro/master/Udemy_Python_Data_science_PANDAS/MTP_valuation/241Q%EC%A3%BC%EC%8B%9D%EC%88%98.csv\"\n",
    "main_products_path = r\"C:\\Users\\User\\Documents\\GitHub\\QuantifyPro\\Udemy_Python_Data_science_PANDAS\\MTP_valuation\\주요상품.csv\"\n",
    "stockprice2_path = r\"C:\\Users\\User\\Documents\\GitHub\\QuantifyPro\\Udemy_Python_Data_science_PANDAS\\MTP_valuation\\stockprice_0722.csv\"\n",
    "industry_path = r\"https://raw.githubusercontent.com/DongwooChae/QuantifyPro/master/Udemy_Python_Data_science_PANDAS/MTP_valuation/%ED%91%9C%EC%A4%80%EC%82%B0%EC%97%85%EB%B6%84%EB%A5%98.csv\""
   ]
  },
  {
   "cell_type": "code",
   "execution_count": 74,
   "metadata": {},
   "outputs": [],
   "source": [
    "# 엑셀 파일 경로 및 파일 열기\n",
    "\n",
    "file_path = r'C:\\Users\\User\\Documents\\GitHub\\QuantifyPro\\Udemy_Python_Data_science_PANDAS\\MTP_valuation\\multiple_valuation.xlsx'\n",
    "wb = xw.Book(file_path)  # 엑셀 파일 열기\n",
    "input_sheet = wb.sheets['input']"
   ]
  },
  {
   "cell_type": "markdown",
   "metadata": {},
   "source": [
    "# 필요한 인풋 파라미터 정리\n",
    "- 평가기준일\n",
    "- 평가대상기업의 표준산업분류, 주요사업, 주요상품 >> 유사기업 선정의 근거\n",
    "- main_products 데이터프레임에 영업정지, 관리여부 추가할 것"
   ]
  },
  {
   "cell_type": "markdown",
   "metadata": {},
   "source": [
    "# 데이터 불러오기 및 주요 데이터 병합"
   ]
  },
  {
   "cell_type": "code",
   "execution_count": 47,
   "metadata": {},
   "outputs": [],
   "source": [
    "stockprice2 = pd.read_csv(stockprice2_path, index_col =\"company\")\n",
    "# 열 이름을 'Timestamp' 형식으로 변환\n",
    "stockprice2.columns = pd.to_datetime(stockprice2.columns)\n"
   ]
  },
  {
   "cell_type": "code",
   "execution_count": 48,
   "metadata": {},
   "outputs": [],
   "source": [
    "financial_data = pd.read_csv(financial_data_path, index_col=\"company\")\n",
    "stock_count = pd.read_csv(stock_count_path, index_col=\"company\")\n",
    "main_products = pd.read_csv(main_products_path, index_col=\"company\")"
   ]
  },
  {
   "cell_type": "markdown",
   "metadata": {},
   "source": []
  },
  {
   "cell_type": "code",
   "execution_count": 49,
   "metadata": {},
   "outputs": [],
   "source": [
    "# 인덱스 기준으로 병합 (company 인덱스를 기준으로 stock_count와 main_products 병합)\n",
    "# '10차표준(세분류)', '주요상품', '영업현황'을 결합\n",
    "merged_data = stock_count.join(main_products[['10차표준(세분류)', '주요상품', '영업현황']], how='left')\n"
   ]
  },
  {
   "cell_type": "code",
   "execution_count": 69,
   "metadata": {},
   "outputs": [],
   "source": [
    "# merged_data.head()"
   ]
  },
  {
   "cell_type": "markdown",
   "metadata": {},
   "source": [
    "## 유통보통주식수, EPS, BPS, SPS 계산은 불필요(이미 완료되어 있음)"
   ]
  },
  {
   "cell_type": "markdown",
   "metadata": {},
   "source": [
    "### stock_count 데이터프레임에 주식수부터 EPS, BPS, SPS가 입력되어 있으므로 financial_data 데이터프레임은 불필요"
   ]
  },
  {
   "cell_type": "code",
   "execution_count": 70,
   "metadata": {},
   "outputs": [],
   "source": [
    "# stock_count.head(50)"
   ]
  },
  {
   "cell_type": "code",
   "execution_count": 52,
   "metadata": {},
   "outputs": [],
   "source": [
    "# 엑셀에서 평가기준일, 배수종료일, 배수시작일 가져오기\n",
    "evaluation_date = input_sheet.range('B3').value  # 평가기준일: 2024-06-30\n",
    "end_date = input_sheet.range('B4').value  # 배수종료일: 2024-04-30\n",
    "start_date = input_sheet.range('B5').value  # 배수시작일: 2023-10-31\n",
    "\n",
    "# 배수시작일부터 배수종료일까지 주가 데이터를 필터링\n",
    "filtered_data = stockprice2.loc[:, start_date:end_date]\n"
   ]
  },
  {
   "cell_type": "code",
   "execution_count": 53,
   "metadata": {},
   "outputs": [
    {
     "name": "stdout",
     "output_type": "stream",
     "text": [
      "성공적으로 날짜를 불러왔습니다. 평가기준일:2024-06-30 00:00:00, 배수종료일:2024-04-30 00:00:00, 배수시작일2023-10-31 00:00:00\n"
     ]
    }
   ],
   "source": [
    "print(f\"성공적으로 날짜를 불러왔습니다. 평가기준일:{evaluation_date}, 배수종료일:{end_date}, 배수시작일{start_date}\")"
   ]
  },
  {
   "cell_type": "code",
   "execution_count": 54,
   "metadata": {},
   "outputs": [],
   "source": [
    "# 날짜 열이 존재하는 경우에만 필터링 (날짜가 존재하는 열만 선택)\n",
    "existing_dates = stockprice2.columns[(stockprice2.columns >= start_date) & (stockprice2.columns <= end_date)]\n",
    "\n",
    "# 해당 기간 동안의 주가 데이터를 필터링\n",
    "filtered_data = stockprice2.loc[:, existing_dates]\n",
    "\n",
    "# 해당 기간 동안의 주가 평균 계산 (각 회사별 평균)\n",
    "average_prices_subset = filtered_data.mean(axis=1)\n",
    "\n",
    "# stock_count 데이터프레임에 주가 평균값을 맨 마지막 열로 추가\n",
    "stock_count['average_price'] = average_prices_subset\n"
   ]
  },
  {
   "cell_type": "code",
   "execution_count": 55,
   "metadata": {},
   "outputs": [],
   "source": [
    "# PER, PBR, PSR 계산\n",
    "# average_price를 분자로 하고, eps, bps, sps를 각각 분모로 사용\n",
    "\n",
    "# PER 계산: 주가 / EPS\n",
    "stock_count['PER'] = stock_count['average_price'] / stock_count['eps']\n",
    "\n",
    "# PBR 계산: 주가 / BPS\n",
    "stock_count['PBR'] = stock_count['average_price'] / stock_count['bps']\n",
    "\n",
    "# PSR 계산: 주가 / SPS\n",
    "stock_count['PSR'] = stock_count['average_price'] / stock_count['sps']"
   ]
  },
  {
   "cell_type": "markdown",
   "metadata": {},
   "source": [
    "# 유사기업선정 - 표준산업분류"
   ]
  },
  {
   "cell_type": "code",
   "execution_count": 56,
   "metadata": {},
   "outputs": [],
   "source": [
    "# 2. 엑셀에서 B8 ~ B32 셀의 값을 리스트로 가져오고, None 값을 제외\n",
    "keywords = [keyword for keyword in input_sheet.range('B8:B32').value if keyword is not None]"
   ]
  },
  {
   "cell_type": "code",
   "execution_count": 57,
   "metadata": {},
   "outputs": [],
   "source": [
    "# 3. main_product 데이터프레임 불러오기\n",
    "main_products_path = r'C:\\Users\\User\\Documents\\GitHub\\QuantifyPro\\Udemy_Python_Data_science_PANDAS\\MTP_valuation\\주요상품.csv'\n",
    "main_products = pd.read_csv(main_products_path, index_col=\"company\")"
   ]
  },
  {
   "cell_type": "code",
   "execution_count": 58,
   "metadata": {},
   "outputs": [],
   "source": [
    "# 4. B8 ~ B32 셀의 키워드가 '10차표준(세분류)' 열에 포함되는지를 확인하는 OR 조건 생성\n",
    "# 여러 단어를 OR 조건으로 결합하여 str.contains()에 전달\n",
    "pattern = '|'.join(keywords)"
   ]
  },
  {
   "cell_type": "code",
   "execution_count": 59,
   "metadata": {},
   "outputs": [],
   "source": [
    "# 5. 불리언 마스킹\n",
    "mask = main_products['10차표준(세분류)'].str.contains(pattern, case=False, na=False)"
   ]
  },
  {
   "cell_type": "code",
   "execution_count": 60,
   "metadata": {},
   "outputs": [],
   "source": [
    "filtered_index = main_products[mask].index"
   ]
  },
  {
   "cell_type": "code",
   "execution_count": 61,
   "metadata": {},
   "outputs": [],
   "source": [
    "filtered_stockprice = stockprice2.loc[filtered_index.intersection(stockprice2.index)]"
   ]
  },
  {
   "cell_type": "code",
   "execution_count": 62,
   "metadata": {},
   "outputs": [],
   "source": [
    "backdata_sheet = wb.sheets['backdata']  # 출력할 시트 지정\n",
    "# 필터링된 데이터 출력 (엑셀의 backdata 시트에 A1 셀부터 출력)\n",
    "backdata_sheet.range('A1').value = filtered_stockprice"
   ]
  },
  {
   "cell_type": "code",
   "execution_count": 63,
   "metadata": {},
   "outputs": [
    {
     "name": "stdout",
     "output_type": "stream",
     "text": [
      "표준산업분류 조건을 만족하는 상장기업의 수는 26개 입니다.\n"
     ]
    }
   ],
   "source": [
    "# 6. 조건을 만족하는 데이터 필터링\n",
    "filtered_data = main_products[mask]\n",
    "number_of_company = filtered_data.shape[0]\n",
    "print(f\"표준산업분류 조건을 만족하는 상장기업의 수는 {number_of_company}개 입니다.\")"
   ]
  },
  {
   "cell_type": "code",
   "execution_count": 64,
   "metadata": {},
   "outputs": [],
   "source": [
    "valid_index = filtered_data.index.intersection(merged_data.index)\n",
    "company_list = merged_data.loc[valid_index]"
   ]
  },
  {
   "cell_type": "code",
   "execution_count": 65,
   "metadata": {},
   "outputs": [],
   "source": [
    "# PER 계산: 주가 / EPS\n",
    "company_list['PER'] = stock_count['average_price'] / stock_count['eps']\n",
    "\n",
    "# PBR 계산: 주가 / BPS\n",
    "company_list['PBR'] = stock_count['average_price'] / stock_count['bps']\n",
    "\n",
    "# PSR 계산: 주가 / SPS\n",
    "company_list['PSR'] = stock_count['average_price'] / stock_count['sps']"
   ]
  },
  {
   "cell_type": "code",
   "execution_count": 66,
   "metadata": {},
   "outputs": [],
   "source": [
    "# 출력할 데이터 준비 (인덱스, 10차표준(세분류), PER, PBR, PSR)\n",
    "output_data = company_list[['10차표준(세분류)', 'PER', 'PBR', 'PSR']]\n",
    "output_data.insert(0, 'Company', company_list.index)  # 인덱스를 'Company' 열로 추가"
   ]
  },
  {
   "cell_type": "code",
   "execution_count": 67,
   "metadata": {},
   "outputs": [],
   "source": [
    "multiple = company_list[['PER','PBR','PSR']].mean()\n",
    "output_sheet = wb.sheets['output']  # 출력할 시트\n",
    "\n",
    "# multiple 값 출력 (B32, B33, B34)\n",
    "output_sheet.range('B32').value = multiple['PER']\n",
    "output_sheet.range('B33').value = multiple['PBR']\n",
    "output_sheet.range('B34').value = multiple['PSR']"
   ]
  },
  {
   "cell_type": "code",
   "execution_count": 68,
   "metadata": {},
   "outputs": [],
   "source": [
    "# 엑셀에 데이터 출력 (A2부터 시작)\n",
    "output_sheet.range('A2').value = output_data.values  # 데이터 값 출력\n",
    "output_sheet.range('A1').value = output_data.columns.tolist()  # 헤더 출력"
   ]
  },
  {
   "cell_type": "markdown",
   "metadata": {},
   "source": [
    "### ▲▲▲▲▲ 여기까지 작업 완료 ▲▲▲▲▲"
   ]
  },
  {
   "cell_type": "code",
   "execution_count": null,
   "metadata": {},
   "outputs": [],
   "source": []
  },
  {
   "cell_type": "code",
   "execution_count": null,
   "metadata": {},
   "outputs": [],
   "source": []
  },
  {
   "cell_type": "code",
   "execution_count": null,
   "metadata": {},
   "outputs": [],
   "source": []
  },
  {
   "cell_type": "code",
   "execution_count": null,
   "metadata": {},
   "outputs": [],
   "source": []
  },
  {
   "cell_type": "code",
   "execution_count": null,
   "metadata": {},
   "outputs": [],
   "source": []
  },
  {
   "cell_type": "code",
   "execution_count": null,
   "metadata": {},
   "outputs": [],
   "source": []
  },
  {
   "cell_type": "code",
   "execution_count": null,
   "metadata": {},
   "outputs": [],
   "source": []
  },
  {
   "cell_type": "code",
   "execution_count": null,
   "metadata": {},
   "outputs": [],
   "source": []
  }
 ],
 "metadata": {
  "kernelspec": {
   "display_name": "Python 3",
   "language": "python",
   "name": "python3"
  },
  "language_info": {
   "codemirror_mode": {
    "name": "ipython",
    "version": 3
   },
   "file_extension": ".py",
   "mimetype": "text/x-python",
   "name": "python",
   "nbconvert_exporter": "python",
   "pygments_lexer": "ipython3",
   "version": "3.12.5"
  }
 },
 "nbformat": 4,
 "nbformat_minor": 2
}
