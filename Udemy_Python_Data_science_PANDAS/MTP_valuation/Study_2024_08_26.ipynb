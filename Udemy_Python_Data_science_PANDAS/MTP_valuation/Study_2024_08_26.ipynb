{
 "cells": [
  {
   "cell_type": "code",
   "execution_count": 13,
   "metadata": {},
   "outputs": [],
   "source": [
    "cashflows = [ 12000, 15000, 18000, 21000, 26000 ]\n",
    "i = 0\n",
    "r = 0.015\n",
    "\n",
    "npv = -70000"
   ]
  },
  {
   "cell_type": "code",
   "execution_count": 14,
   "metadata": {},
   "outputs": [
    {
     "name": "stdout",
     "output_type": "stream",
     "text": [
      "17516.929512135568\n"
     ]
    }
   ],
   "source": [
    "for c in cashflows:\n",
    "    i = i+1\n",
    "    npv = npv + c/(1+r)**i\n",
    "print(npv)\n"
   ]
  },
  {
   "cell_type": "markdown",
   "metadata": {},
   "source": [
    "# Numpy_financial 라이브러리에서 순현재가치를 계산\n",
    "- 교재에는 SciPy라고 되어 있으나 잘못된 것임"
   ]
  },
  {
   "cell_type": "code",
   "execution_count": 20,
   "metadata": {},
   "outputs": [],
   "source": [
    "import scipy as sp\n",
    "import numpy_financial as npf"
   ]
  },
  {
   "cell_type": "code",
   "execution_count": 22,
   "metadata": {},
   "outputs": [],
   "source": [
    "cashflows = [-70000, 12000, 15000, 18000, 21000, 26000 ]\n",
    "r = 0.015"
   ]
  },
  {
   "cell_type": "code",
   "execution_count": 21,
   "metadata": {},
   "outputs": [
    {
     "name": "stdout",
     "output_type": "stream",
     "text": [
      "17516.929512135568\n"
     ]
    }
   ],
   "source": [
    "npv_npf = npf.npv( r, cashflows)\n",
    "print(npv_npf)"
   ]
  },
  {
   "cell_type": "code",
   "execution_count": 23,
   "metadata": {},
   "outputs": [
    {
     "name": "stdout",
     "output_type": "stream",
     "text": [
      "0.08663094803653171\n"
     ]
    }
   ],
   "source": [
    "irr_npf = npf.irr(cashflows)\n",
    "print(irr_npf)"
   ]
  },
  {
   "cell_type": "code",
   "execution_count": 24,
   "metadata": {},
   "outputs": [
    {
     "name": "stdout",
     "output_type": "stream",
     "text": [
      "IRR 8.663095% makes npv -0.000000\n"
     ]
    }
   ],
   "source": [
    "npv_test = npf.npv(irr_npf, cashflows)\n",
    "print('IRR {0:1%} makes npv {1:2f}'.format(irr_npf,npv_test))"
   ]
  },
  {
   "cell_type": "markdown",
   "metadata": {},
   "source": [
    "# 산술평균 및 기하평균"
   ]
  },
  {
   "cell_type": "code",
   "execution_count": 33,
   "metadata": {},
   "outputs": [],
   "source": [
    "returns = [ 0.1, 0.06, 0.05]\n",
    "sumOfReturn = 0.0 # 합계를 저장할 변수\n",
    "arimean = 0.0 # 평균을 저장할 변수\n",
    "geomean = 1.0\n",
    "\n",
    "n = len(returns) # 기간별 수익률의 데이터 개수\n"
   ]
  },
  {
   "cell_type": "code",
   "execution_count": 34,
   "metadata": {},
   "outputs": [],
   "source": [
    "for r in returns:\n",
    "    sumOfReturn = sumOfReturn + r"
   ]
  },
  {
   "cell_type": "code",
   "execution_count": 35,
   "metadata": {},
   "outputs": [
    {
     "name": "stdout",
     "output_type": "stream",
     "text": [
      "AriMean is 7.00%\n"
     ]
    }
   ],
   "source": [
    "arimean = sumOfReturn / 3\n",
    "print('AriMean is {:.2%}'.format(arimean))"
   ]
  },
  {
   "cell_type": "code",
   "execution_count": 36,
   "metadata": {},
   "outputs": [
    {
     "name": "stdout",
     "output_type": "stream",
     "text": [
      "0.07\n"
     ]
    }
   ],
   "source": [
    "arimean = sum(returns)/3\n",
    "print(arimean)"
   ]
  },
  {
   "cell_type": "code",
   "execution_count": 37,
   "metadata": {},
   "outputs": [
    {
     "name": "stdout",
     "output_type": "stream",
     "text": [
      "Geomean is 6.98%\n"
     ]
    }
   ],
   "source": [
    "# 기하평균 계산\n",
    "# returns 리스트를 for 루프로 반복. 반복하는 동안 각 수익률을 변수 r로 받음\n",
    "for r in returns:\n",
    "    geomean = geomean * (1+r)\n",
    "# 기간 수익률로 변환\n",
    "geomean = geomean ** (1/n) -1\n",
    "# 기하평균의 출력\n",
    "print('Geomean is {:.2%}'.format(geomean))\n",
    "# {:.2%}는 변수를 소수점 2자리까지 %로 표현하라는 것, .format(변수)를 이용해서 변수를 {}안에 출력하도록 함\n",
    "# 기하평균 => 곱의 평균!"
   ]
  },
  {
   "cell_type": "code",
   "execution_count": null,
   "metadata": {},
   "outputs": [],
   "source": []
  }
 ],
 "metadata": {
  "kernelspec": {
   "display_name": "myenv",
   "language": "python",
   "name": "python3"
  },
  "language_info": {
   "codemirror_mode": {
    "name": "ipython",
    "version": 3
   },
   "file_extension": ".py",
   "mimetype": "text/x-python",
   "name": "python",
   "nbconvert_exporter": "python",
   "pygments_lexer": "ipython3",
   "version": "3.12.5"
  }
 },
 "nbformat": 4,
 "nbformat_minor": 2
}
