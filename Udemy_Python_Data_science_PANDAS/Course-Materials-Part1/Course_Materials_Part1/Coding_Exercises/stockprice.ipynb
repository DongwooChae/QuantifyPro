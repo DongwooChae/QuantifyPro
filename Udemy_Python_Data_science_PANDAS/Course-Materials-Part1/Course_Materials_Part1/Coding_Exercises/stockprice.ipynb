{
 "cells": [
  {
   "cell_type": "markdown",
   "metadata": {},
   "source": [
    "# 라이브러리 불러오기"
   ]
  },
  {
   "cell_type": "code",
   "execution_count": 1,
   "metadata": {},
   "outputs": [],
   "source": [
    "import pandas as pd"
   ]
  },
  {
   "cell_type": "markdown",
   "metadata": {},
   "source": [
    "# 데이터 불러오기"
   ]
  },
  {
   "cell_type": "code",
   "execution_count": 2,
   "metadata": {},
   "outputs": [],
   "source": [
    "financial_data_path = r\"C:\\Users\\User\\Udemy_Python_Data_science_PANDAS\\241Q재무데이터.csv\"\n",
    "stock_count_path = r\"C:\\Users\\User\\Udemy_Python_Data_science_PANDAS\\241Q주식수.csv\"\n",
    "main_products_path = r\"C:\\Users\\User\\Udemy_Python_Data_science_PANDAS\\주요상품.csv\"\n",
    "stockprice2_path = r\"C:\\Users\\User\\Udemy_Python_Data_science_PANDAS\\stockprice_0722.csv\""
   ]
  },
  {
   "cell_type": "code",
   "execution_count": 8,
   "metadata": {},
   "outputs": [],
   "source": [
    "financial_data = pd.read_csv(financial_data_path, index_col=\"company\")\n",
    "stock_count = pd.read_csv(stock_count_path, index_col=\"company\")\n",
    "main_products = pd.read_csv(main_products_path, index_col=\"company\")\n",
    "stockprice2 = pd.read_csv(stockprice2_path, index_col=\"company\")"
   ]
  },
  {
   "cell_type": "markdown",
   "metadata": {},
   "source": [
    "## Step 1 : 평가기준일, 주가계산 시작일, 종료일 설정"
   ]
  },
  {
   "cell_type": "markdown",
   "metadata": {},
   "source": [
    "### 1-1 평가기준일 설정"
   ]
  },
  {
   "cell_type": "code",
   "execution_count": 3,
   "metadata": {},
   "outputs": [],
   "source": [
    "# Step 1 : parameter_date 입력 받기\n",
    "parameter_date = input(\"평가 기준일을 입력하세요 (YYYY-MM-DD): \")\n",
    "parameter_date = pd.to_datetime(parameter_date)"
   ]
  },
  {
   "cell_type": "code",
   "execution_count": 13,
   "metadata": {},
   "outputs": [
    {
     "ename": "TypeError",
     "evalue": "'<=' not supported between instances of 'str' and 'Timestamp'",
     "output_type": "error",
     "traceback": [
      "\u001b[1;31m---------------------------------------------------------------------------\u001b[0m",
      "\u001b[1;31mTypeError\u001b[0m                                 Traceback (most recent call last)",
      "Cell \u001b[1;32mIn[13], line 3\u001b[0m\n\u001b[0;32m      1\u001b[0m \u001b[38;5;66;03m# Step 2: 가장 가까운 이전 영업일 찾기\u001b[39;00m\n\u001b[0;32m      2\u001b[0m all_dates \u001b[38;5;241m=\u001b[39m stockprice2\u001b[38;5;241m.\u001b[39mcolumns\n\u001b[1;32m----> 3\u001b[0m closest_date \u001b[38;5;241m=\u001b[39m all_dates[\u001b[43mall_dates\u001b[49m\u001b[43m \u001b[49m\u001b[38;5;241;43m<\u001b[39;49m\u001b[38;5;241;43m=\u001b[39;49m\u001b[43m \u001b[49m\u001b[43mparameter_date\u001b[49m]\u001b[38;5;241m.\u001b[39mmax()\n",
      "File \u001b[1;32m~\\AppData\\Local\\Packages\\PythonSoftwareFoundation.Python.3.12_qbz5n2kfra8p0\\LocalCache\\local-packages\\Python312\\site-packages\\pandas\\core\\ops\\common.py:76\u001b[0m, in \u001b[0;36m_unpack_zerodim_and_defer.<locals>.new_method\u001b[1;34m(self, other)\u001b[0m\n\u001b[0;32m     72\u001b[0m             \u001b[38;5;28;01mreturn\u001b[39;00m \u001b[38;5;28mNotImplemented\u001b[39m\n\u001b[0;32m     74\u001b[0m other \u001b[38;5;241m=\u001b[39m item_from_zerodim(other)\n\u001b[1;32m---> 76\u001b[0m \u001b[38;5;28;01mreturn\u001b[39;00m \u001b[43mmethod\u001b[49m\u001b[43m(\u001b[49m\u001b[38;5;28;43mself\u001b[39;49m\u001b[43m,\u001b[49m\u001b[43m \u001b[49m\u001b[43mother\u001b[49m\u001b[43m)\u001b[49m\n",
      "File \u001b[1;32m~\\AppData\\Local\\Packages\\PythonSoftwareFoundation.Python.3.12_qbz5n2kfra8p0\\LocalCache\\local-packages\\Python312\\site-packages\\pandas\\core\\arraylike.py:52\u001b[0m, in \u001b[0;36mOpsMixin.__le__\u001b[1;34m(self, other)\u001b[0m\n\u001b[0;32m     50\u001b[0m \u001b[38;5;129m@unpack_zerodim_and_defer\u001b[39m(\u001b[38;5;124m\"\u001b[39m\u001b[38;5;124m__le__\u001b[39m\u001b[38;5;124m\"\u001b[39m)\n\u001b[0;32m     51\u001b[0m \u001b[38;5;28;01mdef\u001b[39;00m \u001b[38;5;21m__le__\u001b[39m(\u001b[38;5;28mself\u001b[39m, other):\n\u001b[1;32m---> 52\u001b[0m     \u001b[38;5;28;01mreturn\u001b[39;00m \u001b[38;5;28;43mself\u001b[39;49m\u001b[38;5;241;43m.\u001b[39;49m\u001b[43m_cmp_method\u001b[49m\u001b[43m(\u001b[49m\u001b[43mother\u001b[49m\u001b[43m,\u001b[49m\u001b[43m \u001b[49m\u001b[43moperator\u001b[49m\u001b[38;5;241;43m.\u001b[39;49m\u001b[43mle\u001b[49m\u001b[43m)\u001b[49m\n",
      "File \u001b[1;32m~\\AppData\\Local\\Packages\\PythonSoftwareFoundation.Python.3.12_qbz5n2kfra8p0\\LocalCache\\local-packages\\Python312\\site-packages\\pandas\\core\\indexes\\base.py:7201\u001b[0m, in \u001b[0;36mIndex._cmp_method\u001b[1;34m(self, other, op)\u001b[0m\n\u001b[0;32m   7197\u001b[0m     result \u001b[38;5;241m=\u001b[39m op(\u001b[38;5;28mself\u001b[39m\u001b[38;5;241m.\u001b[39m_values, other)\n\u001b[0;32m   7199\u001b[0m \u001b[38;5;28;01melif\u001b[39;00m is_object_dtype(\u001b[38;5;28mself\u001b[39m\u001b[38;5;241m.\u001b[39mdtype) \u001b[38;5;129;01mand\u001b[39;00m \u001b[38;5;129;01mnot\u001b[39;00m \u001b[38;5;28misinstance\u001b[39m(\u001b[38;5;28mself\u001b[39m, ABCMultiIndex):\n\u001b[0;32m   7200\u001b[0m     \u001b[38;5;66;03m# don't pass MultiIndex\u001b[39;00m\n\u001b[1;32m-> 7201\u001b[0m     result \u001b[38;5;241m=\u001b[39m \u001b[43mops\u001b[49m\u001b[38;5;241;43m.\u001b[39;49m\u001b[43mcomp_method_OBJECT_ARRAY\u001b[49m\u001b[43m(\u001b[49m\u001b[43mop\u001b[49m\u001b[43m,\u001b[49m\u001b[43m \u001b[49m\u001b[38;5;28;43mself\u001b[39;49m\u001b[38;5;241;43m.\u001b[39;49m\u001b[43m_values\u001b[49m\u001b[43m,\u001b[49m\u001b[43m \u001b[49m\u001b[43mother\u001b[49m\u001b[43m)\u001b[49m\n\u001b[0;32m   7203\u001b[0m \u001b[38;5;28;01melse\u001b[39;00m:\n\u001b[0;32m   7204\u001b[0m     result \u001b[38;5;241m=\u001b[39m ops\u001b[38;5;241m.\u001b[39mcomparison_op(\u001b[38;5;28mself\u001b[39m\u001b[38;5;241m.\u001b[39m_values, other, op)\n",
      "File \u001b[1;32m~\\AppData\\Local\\Packages\\PythonSoftwareFoundation.Python.3.12_qbz5n2kfra8p0\\LocalCache\\local-packages\\Python312\\site-packages\\pandas\\core\\ops\\array_ops.py:129\u001b[0m, in \u001b[0;36mcomp_method_OBJECT_ARRAY\u001b[1;34m(op, x, y)\u001b[0m\n\u001b[0;32m    127\u001b[0m     result \u001b[38;5;241m=\u001b[39m libops\u001b[38;5;241m.\u001b[39mvec_compare(x\u001b[38;5;241m.\u001b[39mravel(), y\u001b[38;5;241m.\u001b[39mravel(), op)\n\u001b[0;32m    128\u001b[0m \u001b[38;5;28;01melse\u001b[39;00m:\n\u001b[1;32m--> 129\u001b[0m     result \u001b[38;5;241m=\u001b[39m \u001b[43mlibops\u001b[49m\u001b[38;5;241;43m.\u001b[39;49m\u001b[43mscalar_compare\u001b[49m\u001b[43m(\u001b[49m\u001b[43mx\u001b[49m\u001b[38;5;241;43m.\u001b[39;49m\u001b[43mravel\u001b[49m\u001b[43m(\u001b[49m\u001b[43m)\u001b[49m\u001b[43m,\u001b[49m\u001b[43m \u001b[49m\u001b[43my\u001b[49m\u001b[43m,\u001b[49m\u001b[43m \u001b[49m\u001b[43mop\u001b[49m\u001b[43m)\u001b[49m\n\u001b[0;32m    130\u001b[0m \u001b[38;5;28;01mreturn\u001b[39;00m result\u001b[38;5;241m.\u001b[39mreshape(x\u001b[38;5;241m.\u001b[39mshape)\n",
      "File \u001b[1;32mops.pyx:107\u001b[0m, in \u001b[0;36mpandas._libs.ops.scalar_compare\u001b[1;34m()\u001b[0m\n",
      "\u001b[1;31mTypeError\u001b[0m: '<=' not supported between instances of 'str' and 'Timestamp'"
     ]
    }
   ],
   "source": [
    "# Step 2: 가장 가까운 이전 영업일 찾기\n",
    "all_dates = stockprice2.columns\n",
    "closest_date = all_dates[all_dates <= parameter_date].max()"
   ]
  },
  {
   "cell_type": "markdown",
   "metadata": {},
   "source": [
    "### 1-2 주가계산 종료일 설정"
   ]
  },
  {
   "cell_type": "code",
   "execution_count": 10,
   "metadata": {},
   "outputs": [
    {
     "ename": "NameError",
     "evalue": "name 'closest_date' is not defined",
     "output_type": "error",
     "traceback": [
      "\u001b[1;31m---------------------------------------------------------------------------\u001b[0m",
      "\u001b[1;31mNameError\u001b[0m                                 Traceback (most recent call last)",
      "Cell \u001b[1;32mIn[10], line 2\u001b[0m\n\u001b[0;32m      1\u001b[0m \u001b[38;5;66;03m# Step 3: end_date 계산 (closest_date로부터 2달 전)\u001b[39;00m\n\u001b[1;32m----> 2\u001b[0m end_date \u001b[38;5;241m=\u001b[39m \u001b[43mclosest_date\u001b[49m \u001b[38;5;241m-\u001b[39m pd\u001b[38;5;241m.\u001b[39mDateOffset(months\u001b[38;5;241m=\u001b[39m\u001b[38;5;241m2\u001b[39m)\n\u001b[0;32m      3\u001b[0m end_date \u001b[38;5;241m=\u001b[39m end_date \u001b[38;5;241m-\u001b[39m pd\u001b[38;5;241m.\u001b[39moffsets\u001b[38;5;241m.\u001b[39mMonthEnd(\u001b[38;5;241m0\u001b[39m)  \u001b[38;5;66;03m# 두 달 전의 마지막 날\u001b[39;00m\n",
      "\u001b[1;31mNameError\u001b[0m: name 'closest_date' is not defined"
     ]
    }
   ],
   "source": [
    "# Step 3: end_date 계산 (closest_date로부터 2달 전)\n",
    "end_date = closest_date - pd.DateOffset(months=2)\n",
    "end_date = end_date - pd.offsets.MonthEnd(0)  # 두 달 전의 마지막 날"
   ]
  },
  {
   "cell_type": "code",
   "execution_count": null,
   "metadata": {},
   "outputs": [],
   "source": [
    "# Step 4: start_date 계산 (end_date로부터 6달 전)\n",
    "start_date = end_date - pd.DateOffset(months=6)\n",
    "start_date = start_date - pd.offsets.MonthEnd(0)  # 6달 전의 마지막 날"
   ]
  },
  {
   "cell_type": "markdown",
   "metadata": {},
   "source": [
    "## 주어진 인덱스와 날짜 범위를 기준으로 평균 주가를 구하는 함수 설정"
   ]
  },
  {
   "cell_type": "code",
   "execution_count": 11,
   "metadata": {},
   "outputs": [],
   "source": [
    "# 주어진 인덱스와 날짜 범위를 기준으로 평균 주가를 구하는 함수\n",
    "def get_average_price_in_range(company, start_date, end_date):\n",
    "    selected_columns = stockprice2.columns[(stockprice2.columns >= start_date) & (stockprice2.columns <= end_date)]\n",
    "    selected_data = stockprice2.loc[company, selected_columns].dropna()\n",
    "    average_price = selected_data.mean()\n",
    "    return selected_data.values, average_price\n"
   ]
  },
  {
   "cell_type": "code",
   "execution_count": 12,
   "metadata": {},
   "outputs": [],
   "source": [
    "def calculate_average_stock_prices(companies, parameter_date):\n",
    "    results = {}\n",
    "    parameter_date = pd.to_datetime(parameter_date)\n",
    "\n",
    "    for company in companies:\n",
    "        # Step 2: 가장 가까운 이전 영업일 찾기\n",
    "        all_dates = stockprice2.columns\n",
    "        closest_date = all_dates[all_dates <= parameter_date].max()\n",
    "\n",
    "        # Step 3: end_date 계산 (closest_date로부터 2달 전)\n",
    "        end_date = closest_date - pd.DateOffset(months=2)\n",
    "        end_date = end_date - pd.offsets.MonthEnd(0)  # 두 달 전의 마지막 날\n",
    "\n",
    "        # Step 4: start_date 계산 (end_date로부터 6달 전)\n",
    "        start_date = end_date - pd.DateOffset(months=6)\n",
    "        start_date = start_date - pd.offsets.MonthEnd(0)  # 6달 전의 마지막 날\n",
    "\n",
    "        # 주어진 인덱스와 날짜 범위를 기준으로 평균 주가를 구하는 함수\n",
    "        selected_columns = stockprice2.columns[(stockprice2.columns >= start_date) & (stockprice2.columns <= end_date)]\n",
    "        selected_data = stockprice2.loc[company, selected_columns].dropna()\n",
    "        average_price = selected_data.mean()\n",
    "        \n",
    "        results[company] = {\n",
    "            \"closest_date\": closest_date,\n",
    "            \"start_date\": start_date,\n",
    "            \"end_date\": end_date,\n",
    "            \"stock_prices\": selected_data.values,\n",
    "            \"average_price\": average_price\n",
    "        }\n",
    "    \n",
    "    return results\n"
   ]
  },
  {
   "cell_type": "code",
   "execution_count": null,
   "metadata": {},
   "outputs": [],
   "source": [
    "results = calculate_average_stock_prices(companies, parameter_date)\n"
   ]
  },
  {
   "cell_type": "code",
   "execution_count": null,
   "metadata": {},
   "outputs": [],
   "source": [
    "# 결과값을 데이터프레임 형식으로 변환하는 함수\n",
    "def results_to_dataframe(results):\n",
    "    data = {\n",
    "        \"Company\": [],\n",
    "        \"Average Price\": []\n",
    "    }\n",
    "    \n",
    "    for company, result in results.items():\n",
    "        data[\"Company\"].append(company)\n",
    "        data[\"Average Price\"].append(result[\"average_price\"])\n",
    "    \n",
    "    df = pd.DataFrame(data)\n",
    "    df.set_index(\"Company\", inplace=True)\n",
    "    return df"
   ]
  },
  {
   "cell_type": "code",
   "execution_count": null,
   "metadata": {},
   "outputs": [],
   "source": [
    "# 예시\n",
    "companies = ['삼성전자', 'SK하이닉스', 'LG에너지솔루션']\n",
    "results = calculate_average_stock_prices(companies, parameter_date)\n",
    "df_results = results_to_dataframe(results)\n"
   ]
  },
  {
   "cell_type": "code",
   "execution_count": null,
   "metadata": {},
   "outputs": [],
   "source": [
    "# 데이터프레임 출력\n",
    "from IPython.display import display\n",
    "display(df_results)"
   ]
  },
  {
   "cell_type": "code",
   "execution_count": null,
   "metadata": {},
   "outputs": [],
   "source": [
    "stockprice2 = pd.read_csv(stockprice2_path, index_col =\"company\")\n",
    "# 열 이름을 'Timestamp' 형식으로 변환\n",
    "stockprice2.columns = pd.to_datetime(stockprice2.columns)\n"
   ]
  },
  {
   "cell_type": "code",
   "execution_count": null,
   "metadata": {},
   "outputs": [],
   "source": []
  },
  {
   "cell_type": "code",
   "execution_count": null,
   "metadata": {},
   "outputs": [],
   "source": [
    "# 특정 날짜와 인덱스 값을 사용하여 데이터 추출\n",
    "def get_stock_price(date, company):\n",
    "    return stockprice2.loc[company, date]"
   ]
  },
  {
   "cell_type": "code",
   "execution_count": null,
   "metadata": {},
   "outputs": [],
   "source": [
    "# 예시\n",
    "date = '2024-06-28'\n",
    "company = '삼성전자'\n",
    "stock_price = get_stock_price(date, company)\n",
    "stock_price"
   ]
  },
  {
   "cell_type": "code",
   "execution_count": null,
   "metadata": {},
   "outputs": [],
   "source": [
    "# 주어진 인덱스와 날짜 범위를 기준으로 평균 주가를 구하는 함수\n",
    "def get_average_price_in_range(company, start_date, end_date):\n",
    "    start_date = pd.to_datetime(start_date)\n",
    "    end_date = pd.to_datetime(end_date)\n",
    "    # 열 이름을 문자열로 변환하여 범위 선택\n",
    "    selected_columns = stockprice2.columns[(stockprice2.columns >= start_date) & (stockprice2.columns <= end_date)]\n",
    "    selected_data = stockprice2.loc[company, selected_columns].dropna()\n",
    "    average_price = selected_data.mean()\n",
    "    return selected_data.values, average_price\n",
    "\n",
    "# 예시\n",
    "company = '기아'\n",
    "start_date = '2023-10-31'\n",
    "end_date = '2024-04-30'\n",
    "stock_prices, average_price = get_average_price_in_range(company, start_date, end_date)\n",
    "\n"
   ]
  },
  {
   "cell_type": "code",
   "execution_count": null,
   "metadata": {},
   "outputs": [],
   "source": [
    "average_price"
   ]
  },
  {
   "cell_type": "code",
   "execution_count": null,
   "metadata": {},
   "outputs": [],
   "source": []
  }
 ],
 "metadata": {
  "kernelspec": {
   "display_name": "Python 3",
   "language": "python",
   "name": "python3"
  },
  "language_info": {
   "codemirror_mode": {
    "name": "ipython",
    "version": 3
   },
   "file_extension": ".py",
   "mimetype": "text/x-python",
   "name": "python",
   "nbconvert_exporter": "python",
   "pygments_lexer": "ipython3",
   "version": "3.12.4"
  }
 },
 "nbformat": 4,
 "nbformat_minor": 2
}
