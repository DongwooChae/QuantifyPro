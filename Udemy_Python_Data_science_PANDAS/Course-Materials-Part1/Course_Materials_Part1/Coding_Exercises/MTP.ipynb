{
 "cells": [
  {
   "cell_type": "markdown",
   "metadata": {},
   "source": [
    "# 파일 경로 지정"
   ]
  },
  {
   "cell_type": "code",
   "execution_count": 149,
   "metadata": {},
   "outputs": [],
   "source": [
    "financial_data_path = r\"C:\\Users\\User\\Udemy_Python_Data_science_PANDAS\\241Q재무데이터.csv\"\n",
    "stock_count_path = r\"C:\\Users\\User\\Udemy_Python_Data_science_PANDAS\\241Q주식수.csv\"\n",
    "main_products_path = r\"C:\\Users\\User\\Udemy_Python_Data_science_PANDAS\\주요상품.csv\"\n",
    "stockprice2_path = r\"C:\\Users\\User\\Udemy_Python_Data_science_PANDAS\\stockprice_0722.csv\""
   ]
  },
  {
   "cell_type": "markdown",
   "metadata": {},
   "source": [
    "# 라이브러리 불러오기"
   ]
  },
  {
   "cell_type": "code",
   "execution_count": 150,
   "metadata": {},
   "outputs": [],
   "source": [
    "import pandas as pd\n",
    "import numpy as np"
   ]
  },
  {
   "cell_type": "code",
   "execution_count": 151,
   "metadata": {},
   "outputs": [],
   "source": [
    "# stockprice = pd.read_csv(r\"C:\\Users\\User\\Udemy_Python_Data_science_PANDAS\\stockprice_0722_v2.csv\", parse_dates=[\"datetime\"], index_col=\"datetime\")"
   ]
  },
  {
   "cell_type": "code",
   "execution_count": 152,
   "metadata": {},
   "outputs": [],
   "source": [
    "stockprice2 = pd.read_csv(stockprice2_path, index_col =\"company\")\n",
    "# 열 이름을 'Timestamp' 형식으로 변환\n",
    "stockprice2.columns = pd.to_datetime(stockprice2.columns)\n"
   ]
  },
  {
   "cell_type": "code",
   "execution_count": 153,
   "metadata": {},
   "outputs": [],
   "source": [
    "# stockprice.info()"
   ]
  },
  {
   "cell_type": "code",
   "execution_count": 154,
   "metadata": {},
   "outputs": [],
   "source": [
    "# stockprice.index[0]"
   ]
  },
  {
   "cell_type": "code",
   "execution_count": 126,
   "metadata": {},
   "outputs": [],
   "source": [
    "# type(stockprice.iloc[0,1])"
   ]
  },
  {
   "cell_type": "code",
   "execution_count": 156,
   "metadata": {},
   "outputs": [],
   "source": [
    "financial_data = pd.read_csv(financial_data_path, index_col=\"company\")\n",
    "stock_count = pd.read_csv(stock_count_path, index_col=\"company\")\n",
    "main_products = pd.read_csv(main_products_path, index_col=\"company\")"
   ]
  },
  {
   "cell_type": "markdown",
   "metadata": {},
   "source": [
    "# 재무데이터만 불러오기"
   ]
  },
  {
   "cell_type": "code",
   "execution_count": 157,
   "metadata": {},
   "outputs": [],
   "source": [
    "# financial_data = pd.read_csv(financial_data_path, index_col=\"company\")"
   ]
  },
  {
   "cell_type": "markdown",
   "metadata": {},
   "source": [
    "## 유통보통주식수 계산"
   ]
  },
  {
   "cell_type": "code",
   "execution_count": 158,
   "metadata": {},
   "outputs": [],
   "source": [
    "stock_count['shares'] = stock_count.outstandingshares - stock_count.treasuryshares"
   ]
  },
  {
   "cell_type": "code",
   "execution_count": 174,
   "metadata": {},
   "outputs": [
    {
     "data": {
      "text/html": [
       "<div>\n",
       "<style scoped>\n",
       "    .dataframe tbody tr th:only-of-type {\n",
       "        vertical-align: middle;\n",
       "    }\n",
       "\n",
       "    .dataframe tbody tr th {\n",
       "        vertical-align: top;\n",
       "    }\n",
       "\n",
       "    .dataframe thead th {\n",
       "        text-align: right;\n",
       "    }\n",
       "</style>\n",
       "<table border=\"1\" class=\"dataframe\">\n",
       "  <thead>\n",
       "    <tr style=\"text-align: right;\">\n",
       "      <th></th>\n",
       "      <th>symbol</th>\n",
       "      <th>outstandingshares</th>\n",
       "      <th>treasuryshares</th>\n",
       "      <th>shares</th>\n",
       "    </tr>\n",
       "    <tr>\n",
       "      <th>company</th>\n",
       "      <th></th>\n",
       "      <th></th>\n",
       "      <th></th>\n",
       "      <th></th>\n",
       "    </tr>\n",
       "  </thead>\n",
       "  <tbody>\n",
       "    <tr>\n",
       "      <th>삼성전자</th>\n",
       "      <td>A005930</td>\n",
       "      <td>5969782550</td>\n",
       "      <td>0</td>\n",
       "      <td>5969782550</td>\n",
       "    </tr>\n",
       "    <tr>\n",
       "      <th>SK하이닉스</th>\n",
       "      <td>A000660</td>\n",
       "      <td>728002365</td>\n",
       "      <td>39384720</td>\n",
       "      <td>688617645</td>\n",
       "    </tr>\n",
       "    <tr>\n",
       "      <th>LG에너지솔루션</th>\n",
       "      <td>A373220</td>\n",
       "      <td>234000000</td>\n",
       "      <td>0</td>\n",
       "      <td>234000000</td>\n",
       "    </tr>\n",
       "    <tr>\n",
       "      <th>삼성바이오로직스</th>\n",
       "      <td>A207940</td>\n",
       "      <td>71174000</td>\n",
       "      <td>0</td>\n",
       "      <td>71174000</td>\n",
       "    </tr>\n",
       "    <tr>\n",
       "      <th>현대차</th>\n",
       "      <td>A005380</td>\n",
       "      <td>209416191</td>\n",
       "      <td>5580310</td>\n",
       "      <td>203835881</td>\n",
       "    </tr>\n",
       "  </tbody>\n",
       "</table>\n",
       "</div>"
      ],
      "text/plain": [
       "           symbol  outstandingshares  treasuryshares      shares\n",
       "company                                                         \n",
       "삼성전자      A005930         5969782550               0  5969782550\n",
       "SK하이닉스    A000660          728002365        39384720   688617645\n",
       "LG에너지솔루션  A373220          234000000               0   234000000\n",
       "삼성바이오로직스  A207940           71174000               0    71174000\n",
       "현대차       A005380          209416191         5580310   203835881"
      ]
     },
     "execution_count": 174,
     "metadata": {},
     "output_type": "execute_result"
    }
   ],
   "source": [
    "stock_count.head()"
   ]
  },
  {
   "cell_type": "code",
   "execution_count": 160,
   "metadata": {},
   "outputs": [
    {
     "data": {
      "text/html": [
       "<div>\n",
       "<style scoped>\n",
       "    .dataframe tbody tr th:only-of-type {\n",
       "        vertical-align: middle;\n",
       "    }\n",
       "\n",
       "    .dataframe tbody tr th {\n",
       "        vertical-align: top;\n",
       "    }\n",
       "\n",
       "    .dataframe thead th {\n",
       "        text-align: right;\n",
       "    }\n",
       "</style>\n",
       "<table border=\"1\" class=\"dataframe\">\n",
       "  <thead>\n",
       "    <tr style=\"text-align: right;\">\n",
       "      <th></th>\n",
       "      <th>symbol</th>\n",
       "      <th>지배주주지분</th>\n",
       "      <th>sales_ltm_c</th>\n",
       "      <th>지배주주순이익</th>\n",
       "      <th>equity</th>\n",
       "      <th>sales_ltm_s</th>\n",
       "      <th>ni</th>\n",
       "    </tr>\n",
       "    <tr>\n",
       "      <th>company</th>\n",
       "      <th></th>\n",
       "      <th></th>\n",
       "      <th></th>\n",
       "      <th></th>\n",
       "      <th></th>\n",
       "      <th></th>\n",
       "      <th></th>\n",
       "    </tr>\n",
       "  </thead>\n",
       "  <tbody>\n",
       "    <tr>\n",
       "      <th>삼성전자</th>\n",
       "      <td>A005930</td>\n",
       "      <td>362315069000</td>\n",
       "      <td>267105724000</td>\n",
       "      <td>19693179000</td>\n",
       "      <td>232139453000</td>\n",
       "      <td>179445028000</td>\n",
       "      <td>30976441000</td>\n",
       "    </tr>\n",
       "    <tr>\n",
       "      <th>SK하이닉스</th>\n",
       "      <td>A000660</td>\n",
       "      <td>55510235000</td>\n",
       "      <td>40107206000</td>\n",
       "      <td>-4612768000</td>\n",
       "      <td>56486083000</td>\n",
       "      <td>33598341000</td>\n",
       "      <td>-1368629000</td>\n",
       "    </tr>\n",
       "    <tr>\n",
       "      <th>LG에너지솔루션</th>\n",
       "      <td>A373220</td>\n",
       "      <td>20693029000</td>\n",
       "      <td>31127067000</td>\n",
       "      <td>736121000</td>\n",
       "      <td>16996841000</td>\n",
       "      <td>10897687000</td>\n",
       "      <td>306601000</td>\n",
       "    </tr>\n",
       "    <tr>\n",
       "      <th>삼성바이오로직스</th>\n",
       "      <td>A207940</td>\n",
       "      <td>10010237633</td>\n",
       "      <td>3920570047</td>\n",
       "      <td>895297714</td>\n",
       "      <td>8421760804</td>\n",
       "      <td>3017268251</td>\n",
       "      <td>947147533</td>\n",
       "    </tr>\n",
       "    <tr>\n",
       "      <th>현대차</th>\n",
       "      <td>A005380</td>\n",
       "      <td>95108031000</td>\n",
       "      <td>165552113000</td>\n",
       "      <td>11881128000</td>\n",
       "      <td>62726955000</td>\n",
       "      <td>78032734000</td>\n",
       "      <td>10083537000</td>\n",
       "    </tr>\n",
       "    <tr>\n",
       "      <th>기아</th>\n",
       "      <td>A000270</td>\n",
       "      <td>47278248000</td>\n",
       "      <td>102330611000</td>\n",
       "      <td>9465372000</td>\n",
       "      <td>32090324000</td>\n",
       "      <td>60079687000</td>\n",
       "      <td>9293699000</td>\n",
       "    </tr>\n",
       "    <tr>\n",
       "      <th>셀트리온</th>\n",
       "      <td>A068270</td>\n",
       "      <td>16865980249</td>\n",
       "      <td>2315847935</td>\n",
       "      <td>392825646</td>\n",
       "      <td>16935628095</td>\n",
       "      <td>1976094597</td>\n",
       "      <td>452308525</td>\n",
       "    </tr>\n",
       "    <tr>\n",
       "      <th>KB금융</th>\n",
       "      <td>A105560</td>\n",
       "      <td>57136088000</td>\n",
       "      <td>29892458000</td>\n",
       "      <td>4172357000</td>\n",
       "      <td>27191268000</td>\n",
       "      <td>38274000</td>\n",
       "      <td>2160936000</td>\n",
       "    </tr>\n",
       "    <tr>\n",
       "      <th>POSCO홀딩스</th>\n",
       "      <td>A005490</td>\n",
       "      <td>54792478637</td>\n",
       "      <td>75798269185</td>\n",
       "      <td>1512387956</td>\n",
       "      <td>48232755702</td>\n",
       "      <td>1789829203</td>\n",
       "      <td>1189175291</td>\n",
       "    </tr>\n",
       "    <tr>\n",
       "      <th>NAVER</th>\n",
       "      <td>A035420</td>\n",
       "      <td>23432991120</td>\n",
       "      <td>9916256455</td>\n",
       "      <td>1467834264</td>\n",
       "      <td>11570637548</td>\n",
       "      <td>5696019324</td>\n",
       "      <td>1376913708</td>\n",
       "    </tr>\n",
       "  </tbody>\n",
       "</table>\n",
       "</div>"
      ],
      "text/plain": [
       "           symbol        지배주주지분   sales_ltm_c      지배주주순이익        equity  \\\n",
       "company                                                                    \n",
       "삼성전자      A005930  362315069000  267105724000  19693179000  232139453000   \n",
       "SK하이닉스    A000660   55510235000   40107206000  -4612768000   56486083000   \n",
       "LG에너지솔루션  A373220   20693029000   31127067000    736121000   16996841000   \n",
       "삼성바이오로직스  A207940   10010237633    3920570047    895297714    8421760804   \n",
       "현대차       A005380   95108031000  165552113000  11881128000   62726955000   \n",
       "기아        A000270   47278248000  102330611000   9465372000   32090324000   \n",
       "셀트리온      A068270   16865980249    2315847935    392825646   16935628095   \n",
       "KB금융      A105560   57136088000   29892458000   4172357000   27191268000   \n",
       "POSCO홀딩스  A005490   54792478637   75798269185   1512387956   48232755702   \n",
       "NAVER     A035420   23432991120    9916256455   1467834264   11570637548   \n",
       "\n",
       "           sales_ltm_s           ni  \n",
       "company                              \n",
       "삼성전자      179445028000  30976441000  \n",
       "SK하이닉스     33598341000  -1368629000  \n",
       "LG에너지솔루션   10897687000    306601000  \n",
       "삼성바이오로직스    3017268251    947147533  \n",
       "현대차        78032734000  10083537000  \n",
       "기아         60079687000   9293699000  \n",
       "셀트리온        1976094597    452308525  \n",
       "KB금융          38274000   2160936000  \n",
       "POSCO홀딩스    1789829203   1189175291  \n",
       "NAVER       5696019324   1376913708  "
      ]
     },
     "execution_count": 160,
     "metadata": {},
     "output_type": "execute_result"
    }
   ],
   "source": [
    "financial_data.head(10)"
   ]
  },
  {
   "cell_type": "code",
   "execution_count": 161,
   "metadata": {},
   "outputs": [],
   "source": [
    "df_financial_data = financial_data.iloc[:, [2,4,6]]"
   ]
  },
  {
   "cell_type": "code",
   "execution_count": 162,
   "metadata": {},
   "outputs": [],
   "source": [
    "df_merged = stock_count.join(df_financial_data) # 주식수 병합하기"
   ]
  },
  {
   "cell_type": "code",
   "execution_count": 163,
   "metadata": {},
   "outputs": [
    {
     "data": {
      "text/html": [
       "<div>\n",
       "<style scoped>\n",
       "    .dataframe tbody tr th:only-of-type {\n",
       "        vertical-align: middle;\n",
       "    }\n",
       "\n",
       "    .dataframe tbody tr th {\n",
       "        vertical-align: top;\n",
       "    }\n",
       "\n",
       "    .dataframe thead th {\n",
       "        text-align: right;\n",
       "    }\n",
       "</style>\n",
       "<table border=\"1\" class=\"dataframe\">\n",
       "  <thead>\n",
       "    <tr style=\"text-align: right;\">\n",
       "      <th></th>\n",
       "      <th>symbol</th>\n",
       "      <th>outstandingshares</th>\n",
       "      <th>treasuryshares</th>\n",
       "      <th>shares</th>\n",
       "    </tr>\n",
       "    <tr>\n",
       "      <th>company</th>\n",
       "      <th></th>\n",
       "      <th></th>\n",
       "      <th></th>\n",
       "      <th></th>\n",
       "    </tr>\n",
       "  </thead>\n",
       "  <tbody>\n",
       "    <tr>\n",
       "      <th>삼성전자</th>\n",
       "      <td>A005930</td>\n",
       "      <td>5969782550</td>\n",
       "      <td>0</td>\n",
       "      <td>5969782550</td>\n",
       "    </tr>\n",
       "    <tr>\n",
       "      <th>SK하이닉스</th>\n",
       "      <td>A000660</td>\n",
       "      <td>728002365</td>\n",
       "      <td>39384720</td>\n",
       "      <td>688617645</td>\n",
       "    </tr>\n",
       "    <tr>\n",
       "      <th>LG에너지솔루션</th>\n",
       "      <td>A373220</td>\n",
       "      <td>234000000</td>\n",
       "      <td>0</td>\n",
       "      <td>234000000</td>\n",
       "    </tr>\n",
       "    <tr>\n",
       "      <th>삼성바이오로직스</th>\n",
       "      <td>A207940</td>\n",
       "      <td>71174000</td>\n",
       "      <td>0</td>\n",
       "      <td>71174000</td>\n",
       "    </tr>\n",
       "    <tr>\n",
       "      <th>현대차</th>\n",
       "      <td>A005380</td>\n",
       "      <td>209416191</td>\n",
       "      <td>5580310</td>\n",
       "      <td>203835881</td>\n",
       "    </tr>\n",
       "  </tbody>\n",
       "</table>\n",
       "</div>"
      ],
      "text/plain": [
       "           symbol  outstandingshares  treasuryshares      shares\n",
       "company                                                         \n",
       "삼성전자      A005930         5969782550               0  5969782550\n",
       "SK하이닉스    A000660          728002365        39384720   688617645\n",
       "LG에너지솔루션  A373220          234000000               0   234000000\n",
       "삼성바이오로직스  A207940           71174000               0    71174000\n",
       "현대차       A005380          209416191         5580310   203835881"
      ]
     },
     "execution_count": 163,
     "metadata": {},
     "output_type": "execute_result"
    }
   ],
   "source": [
    "stock_count.head()"
   ]
  },
  {
   "cell_type": "code",
   "execution_count": 164,
   "metadata": {},
   "outputs": [
    {
     "data": {
      "text/html": [
       "<div>\n",
       "<style scoped>\n",
       "    .dataframe tbody tr th:only-of-type {\n",
       "        vertical-align: middle;\n",
       "    }\n",
       "\n",
       "    .dataframe tbody tr th {\n",
       "        vertical-align: top;\n",
       "    }\n",
       "\n",
       "    .dataframe thead th {\n",
       "        text-align: right;\n",
       "    }\n",
       "</style>\n",
       "<table border=\"1\" class=\"dataframe\">\n",
       "  <thead>\n",
       "    <tr style=\"text-align: right;\">\n",
       "      <th></th>\n",
       "      <th>symbol</th>\n",
       "      <th>outstandingshares</th>\n",
       "      <th>treasuryshares</th>\n",
       "      <th>shares</th>\n",
       "      <th>sales_ltm_c</th>\n",
       "      <th>equity</th>\n",
       "      <th>ni</th>\n",
       "    </tr>\n",
       "    <tr>\n",
       "      <th>company</th>\n",
       "      <th></th>\n",
       "      <th></th>\n",
       "      <th></th>\n",
       "      <th></th>\n",
       "      <th></th>\n",
       "      <th></th>\n",
       "      <th></th>\n",
       "    </tr>\n",
       "  </thead>\n",
       "  <tbody>\n",
       "    <tr>\n",
       "      <th>삼성전자</th>\n",
       "      <td>A005930</td>\n",
       "      <td>5969782550</td>\n",
       "      <td>0</td>\n",
       "      <td>5969782550</td>\n",
       "      <td>267105724000</td>\n",
       "      <td>232139453000</td>\n",
       "      <td>30976441000</td>\n",
       "    </tr>\n",
       "    <tr>\n",
       "      <th>SK하이닉스</th>\n",
       "      <td>A000660</td>\n",
       "      <td>728002365</td>\n",
       "      <td>39384720</td>\n",
       "      <td>688617645</td>\n",
       "      <td>40107206000</td>\n",
       "      <td>56486083000</td>\n",
       "      <td>-1368629000</td>\n",
       "    </tr>\n",
       "    <tr>\n",
       "      <th>LG에너지솔루션</th>\n",
       "      <td>A373220</td>\n",
       "      <td>234000000</td>\n",
       "      <td>0</td>\n",
       "      <td>234000000</td>\n",
       "      <td>31127067000</td>\n",
       "      <td>16996841000</td>\n",
       "      <td>306601000</td>\n",
       "    </tr>\n",
       "    <tr>\n",
       "      <th>삼성바이오로직스</th>\n",
       "      <td>A207940</td>\n",
       "      <td>71174000</td>\n",
       "      <td>0</td>\n",
       "      <td>71174000</td>\n",
       "      <td>3920570047</td>\n",
       "      <td>8421760804</td>\n",
       "      <td>947147533</td>\n",
       "    </tr>\n",
       "    <tr>\n",
       "      <th>현대차</th>\n",
       "      <td>A005380</td>\n",
       "      <td>209416191</td>\n",
       "      <td>5580310</td>\n",
       "      <td>203835881</td>\n",
       "      <td>165552113000</td>\n",
       "      <td>62726955000</td>\n",
       "      <td>10083537000</td>\n",
       "    </tr>\n",
       "  </tbody>\n",
       "</table>\n",
       "</div>"
      ],
      "text/plain": [
       "           symbol  outstandingshares  treasuryshares      shares  \\\n",
       "company                                                            \n",
       "삼성전자      A005930         5969782550               0  5969782550   \n",
       "SK하이닉스    A000660          728002365        39384720   688617645   \n",
       "LG에너지솔루션  A373220          234000000               0   234000000   \n",
       "삼성바이오로직스  A207940           71174000               0    71174000   \n",
       "현대차       A005380          209416191         5580310   203835881   \n",
       "\n",
       "           sales_ltm_c        equity           ni  \n",
       "company                                            \n",
       "삼성전자      267105724000  232139453000  30976441000  \n",
       "SK하이닉스     40107206000   56486083000  -1368629000  \n",
       "LG에너지솔루션   31127067000   16996841000    306601000  \n",
       "삼성바이오로직스    3920570047    8421760804    947147533  \n",
       "현대차       165552113000   62726955000  10083537000  "
      ]
     },
     "execution_count": 164,
     "metadata": {},
     "output_type": "execute_result"
    }
   ],
   "source": [
    "df_merged.head()"
   ]
  },
  {
   "cell_type": "code",
   "execution_count": 165,
   "metadata": {},
   "outputs": [],
   "source": [
    "# financial_data.columns"
   ]
  },
  {
   "cell_type": "code",
   "execution_count": 17,
   "metadata": {},
   "outputs": [],
   "source": [
    "# financial_data.dtypes"
   ]
  },
  {
   "cell_type": "markdown",
   "metadata": {},
   "source": [
    "## 가치배수 계산\n",
    "- 주당 장부가, 순이익, 매출액은 계산 가능\n",
    "- Price를 고려한 가치배수를 계산하려면 '어느 시점'의 가격인지 결정해야 함"
   ]
  },
  {
   "cell_type": "code",
   "execution_count": 166,
   "metadata": {},
   "outputs": [],
   "source": [
    "df_merged[\"EPS\"] = (df_merged.ni*1000) / df_merged.shares\n",
    "df_merged[\"SPS\"] = (df_merged.sales_ltm_c*1000) / df_merged.shares\n",
    "df_merged[\"BPS\"] = (df_merged.equity*1000) / df_merged.shares"
   ]
  },
  {
   "cell_type": "code",
   "execution_count": 167,
   "metadata": {},
   "outputs": [
    {
     "data": {
      "text/html": [
       "<div>\n",
       "<style scoped>\n",
       "    .dataframe tbody tr th:only-of-type {\n",
       "        vertical-align: middle;\n",
       "    }\n",
       "\n",
       "    .dataframe tbody tr th {\n",
       "        vertical-align: top;\n",
       "    }\n",
       "\n",
       "    .dataframe thead th {\n",
       "        text-align: right;\n",
       "    }\n",
       "</style>\n",
       "<table border=\"1\" class=\"dataframe\">\n",
       "  <thead>\n",
       "    <tr style=\"text-align: right;\">\n",
       "      <th></th>\n",
       "      <th>symbol</th>\n",
       "      <th>outstandingshares</th>\n",
       "      <th>treasuryshares</th>\n",
       "      <th>shares</th>\n",
       "      <th>sales_ltm_c</th>\n",
       "      <th>equity</th>\n",
       "      <th>ni</th>\n",
       "      <th>EPS</th>\n",
       "      <th>SPS</th>\n",
       "      <th>BPS</th>\n",
       "    </tr>\n",
       "    <tr>\n",
       "      <th>company</th>\n",
       "      <th></th>\n",
       "      <th></th>\n",
       "      <th></th>\n",
       "      <th></th>\n",
       "      <th></th>\n",
       "      <th></th>\n",
       "      <th></th>\n",
       "      <th></th>\n",
       "      <th></th>\n",
       "      <th></th>\n",
       "    </tr>\n",
       "  </thead>\n",
       "  <tbody>\n",
       "    <tr>\n",
       "      <th>삼성전자</th>\n",
       "      <td>A005930</td>\n",
       "      <td>5969782550</td>\n",
       "      <td>0</td>\n",
       "      <td>5969782550</td>\n",
       "      <td>267105724000</td>\n",
       "      <td>232139453000</td>\n",
       "      <td>30976441000</td>\n",
       "      <td>5188.872583</td>\n",
       "      <td>44742.957011</td>\n",
       "      <td>38885.746852</td>\n",
       "    </tr>\n",
       "    <tr>\n",
       "      <th>SK하이닉스</th>\n",
       "      <td>A000660</td>\n",
       "      <td>728002365</td>\n",
       "      <td>39384720</td>\n",
       "      <td>688617645</td>\n",
       "      <td>40107206000</td>\n",
       "      <td>56486083000</td>\n",
       "      <td>-1368629000</td>\n",
       "      <td>-1987.502077</td>\n",
       "      <td>58243.070434</td>\n",
       "      <td>82028.224821</td>\n",
       "    </tr>\n",
       "    <tr>\n",
       "      <th>LG에너지솔루션</th>\n",
       "      <td>A373220</td>\n",
       "      <td>234000000</td>\n",
       "      <td>0</td>\n",
       "      <td>234000000</td>\n",
       "      <td>31127067000</td>\n",
       "      <td>16996841000</td>\n",
       "      <td>306601000</td>\n",
       "      <td>1310.260684</td>\n",
       "      <td>133021.653846</td>\n",
       "      <td>72636.072650</td>\n",
       "    </tr>\n",
       "    <tr>\n",
       "      <th>삼성바이오로직스</th>\n",
       "      <td>A207940</td>\n",
       "      <td>71174000</td>\n",
       "      <td>0</td>\n",
       "      <td>71174000</td>\n",
       "      <td>3920570047</td>\n",
       "      <td>8421760804</td>\n",
       "      <td>947147533</td>\n",
       "      <td>13307.493368</td>\n",
       "      <td>55084.301107</td>\n",
       "      <td>118326.366426</td>\n",
       "    </tr>\n",
       "    <tr>\n",
       "      <th>현대차</th>\n",
       "      <td>A005380</td>\n",
       "      <td>209416191</td>\n",
       "      <td>5580310</td>\n",
       "      <td>203835881</td>\n",
       "      <td>165552113000</td>\n",
       "      <td>62726955000</td>\n",
       "      <td>10083537000</td>\n",
       "      <td>49468.900914</td>\n",
       "      <td>812183.371190</td>\n",
       "      <td>307732.645952</td>\n",
       "    </tr>\n",
       "  </tbody>\n",
       "</table>\n",
       "</div>"
      ],
      "text/plain": [
       "           symbol  outstandingshares  treasuryshares      shares  \\\n",
       "company                                                            \n",
       "삼성전자      A005930         5969782550               0  5969782550   \n",
       "SK하이닉스    A000660          728002365        39384720   688617645   \n",
       "LG에너지솔루션  A373220          234000000               0   234000000   \n",
       "삼성바이오로직스  A207940           71174000               0    71174000   \n",
       "현대차       A005380          209416191         5580310   203835881   \n",
       "\n",
       "           sales_ltm_c        equity           ni           EPS  \\\n",
       "company                                                           \n",
       "삼성전자      267105724000  232139453000  30976441000   5188.872583   \n",
       "SK하이닉스     40107206000   56486083000  -1368629000  -1987.502077   \n",
       "LG에너지솔루션   31127067000   16996841000    306601000   1310.260684   \n",
       "삼성바이오로직스    3920570047    8421760804    947147533  13307.493368   \n",
       "현대차       165552113000   62726955000  10083537000  49468.900914   \n",
       "\n",
       "                    SPS            BPS  \n",
       "company                                 \n",
       "삼성전자       44742.957011   38885.746852  \n",
       "SK하이닉스     58243.070434   82028.224821  \n",
       "LG에너지솔루션  133021.653846   72636.072650  \n",
       "삼성바이오로직스   55084.301107  118326.366426  \n",
       "현대차       812183.371190  307732.645952  "
      ]
     },
     "execution_count": 167,
     "metadata": {},
     "output_type": "execute_result"
    }
   ],
   "source": [
    "df_merged.head()"
   ]
  },
  {
   "cell_type": "code",
   "execution_count": 20,
   "metadata": {},
   "outputs": [],
   "source": [
    "# stockprice.head()"
   ]
  },
  {
   "cell_type": "code",
   "execution_count": 21,
   "metadata": {},
   "outputs": [],
   "source": [
    "# financial_data.head(5)"
   ]
  },
  {
   "cell_type": "code",
   "execution_count": 22,
   "metadata": {},
   "outputs": [],
   "source": [
    "# stock_count.columns"
   ]
  },
  {
   "cell_type": "code",
   "execution_count": 23,
   "metadata": {},
   "outputs": [],
   "source": [
    "# stock_count[\"shares\"] = stock_count.outstandingshares - stock_count.treasuryshares 위에서 계산했으므로 불필요"
   ]
  },
  {
   "cell_type": "code",
   "execution_count": 168,
   "metadata": {},
   "outputs": [
    {
     "data": {
      "text/html": [
       "<div>\n",
       "<style scoped>\n",
       "    .dataframe tbody tr th:only-of-type {\n",
       "        vertical-align: middle;\n",
       "    }\n",
       "\n",
       "    .dataframe tbody tr th {\n",
       "        vertical-align: top;\n",
       "    }\n",
       "\n",
       "    .dataframe thead th {\n",
       "        text-align: right;\n",
       "    }\n",
       "</style>\n",
       "<table border=\"1\" class=\"dataframe\">\n",
       "  <thead>\n",
       "    <tr style=\"text-align: right;\">\n",
       "      <th></th>\n",
       "      <th>symbol</th>\n",
       "      <th>outstandingshares</th>\n",
       "      <th>treasuryshares</th>\n",
       "      <th>shares</th>\n",
       "    </tr>\n",
       "    <tr>\n",
       "      <th>company</th>\n",
       "      <th></th>\n",
       "      <th></th>\n",
       "      <th></th>\n",
       "      <th></th>\n",
       "    </tr>\n",
       "  </thead>\n",
       "  <tbody>\n",
       "    <tr>\n",
       "      <th>삼성전자</th>\n",
       "      <td>A005930</td>\n",
       "      <td>5969782550</td>\n",
       "      <td>0</td>\n",
       "      <td>5969782550</td>\n",
       "    </tr>\n",
       "    <tr>\n",
       "      <th>SK하이닉스</th>\n",
       "      <td>A000660</td>\n",
       "      <td>728002365</td>\n",
       "      <td>39384720</td>\n",
       "      <td>688617645</td>\n",
       "    </tr>\n",
       "    <tr>\n",
       "      <th>LG에너지솔루션</th>\n",
       "      <td>A373220</td>\n",
       "      <td>234000000</td>\n",
       "      <td>0</td>\n",
       "      <td>234000000</td>\n",
       "    </tr>\n",
       "    <tr>\n",
       "      <th>삼성바이오로직스</th>\n",
       "      <td>A207940</td>\n",
       "      <td>71174000</td>\n",
       "      <td>0</td>\n",
       "      <td>71174000</td>\n",
       "    </tr>\n",
       "    <tr>\n",
       "      <th>현대차</th>\n",
       "      <td>A005380</td>\n",
       "      <td>209416191</td>\n",
       "      <td>5580310</td>\n",
       "      <td>203835881</td>\n",
       "    </tr>\n",
       "    <tr>\n",
       "      <th>기아</th>\n",
       "      <td>A000270</td>\n",
       "      <td>399858417</td>\n",
       "      <td>8023168</td>\n",
       "      <td>391835249</td>\n",
       "    </tr>\n",
       "    <tr>\n",
       "      <th>셀트리온</th>\n",
       "      <td>A068270</td>\n",
       "      <td>216993223</td>\n",
       "      <td>10712500</td>\n",
       "      <td>206280723</td>\n",
       "    </tr>\n",
       "    <tr>\n",
       "      <th>KB금융</th>\n",
       "      <td>A105560</td>\n",
       "      <td>403511072</td>\n",
       "      <td>29245382</td>\n",
       "      <td>374265690</td>\n",
       "    </tr>\n",
       "    <tr>\n",
       "      <th>POSCO홀딩스</th>\n",
       "      <td>A005490</td>\n",
       "      <td>84571230</td>\n",
       "      <td>8695023</td>\n",
       "      <td>75876207</td>\n",
       "    </tr>\n",
       "    <tr>\n",
       "      <th>NAVER</th>\n",
       "      <td>A035420</td>\n",
       "      <td>162408594</td>\n",
       "      <td>11453085</td>\n",
       "      <td>150955509</td>\n",
       "    </tr>\n",
       "  </tbody>\n",
       "</table>\n",
       "</div>"
      ],
      "text/plain": [
       "           symbol  outstandingshares  treasuryshares      shares\n",
       "company                                                         \n",
       "삼성전자      A005930         5969782550               0  5969782550\n",
       "SK하이닉스    A000660          728002365        39384720   688617645\n",
       "LG에너지솔루션  A373220          234000000               0   234000000\n",
       "삼성바이오로직스  A207940           71174000               0    71174000\n",
       "현대차       A005380          209416191         5580310   203835881\n",
       "기아        A000270          399858417         8023168   391835249\n",
       "셀트리온      A068270          216993223        10712500   206280723\n",
       "KB금융      A105560          403511072        29245382   374265690\n",
       "POSCO홀딩스  A005490           84571230         8695023    75876207\n",
       "NAVER     A035420          162408594        11453085   150955509"
      ]
     },
     "execution_count": 168,
     "metadata": {},
     "output_type": "execute_result"
    }
   ],
   "source": [
    "stock_count.head(10)"
   ]
  },
  {
   "cell_type": "code",
   "execution_count": 25,
   "metadata": {},
   "outputs": [],
   "source": [
    "# main_products.head(10)"
   ]
  },
  {
   "cell_type": "markdown",
   "metadata": {},
   "source": [
    "# 유사기업선정"
   ]
  },
  {
   "cell_type": "markdown",
   "metadata": {},
   "source": [
    "## 표준산업분류 키워드 입력"
   ]
  },
  {
   "cell_type": "code",
   "execution_count": 147,
   "metadata": {},
   "outputs": [],
   "source": [
    "# 평가대상기업이 영위하는 표준산업분류 키워드를 입력하세요\n",
    "input_business = input(\"Enter a keyword to search in business : \")"
   ]
  },
  {
   "cell_type": "markdown",
   "metadata": {},
   "source": [
    "### 표준산업분류(10차, 세분류)에 따라 sorting하도록 하였음"
   ]
  },
  {
   "cell_type": "code",
   "execution_count": 169,
   "metadata": {},
   "outputs": [],
   "source": [
    "# main_product 데이터프레임의 10차표준(세분류) 열에서 해당 키워드를 포함하고 있는 경우, condition1 변수에 삽입\n",
    "comparable_company_conditon_1 = main_products.iloc[:,1].str.contains(input_business, case=False, na=False)\n",
    "\n",
    "# condition1 변수를 main_products 데이터프레임에 추가하여 조건 필터링, comparable_companny 변수 지정\n",
    "comparable_company = main_products.loc[comparable_company_conditon_1].copy()"
   ]
  },
  {
   "cell_type": "markdown",
   "metadata": {},
   "source": [
    "### 추후 영업정지, 관리종목 여부도 함께 고려하도록 코드 추가"
   ]
  },
  {
   "cell_type": "code",
   "execution_count": 170,
   "metadata": {},
   "outputs": [
    {
     "name": "stdout",
     "output_type": "stream",
     "text": [
      "해당 키워드를 포함하는 상장기업의 수는 26개 입니다.\n"
     ]
    }
   ],
   "source": [
    "# 해당 키워드를 포함하는 상장기업의 수 출력\n",
    "print(f\"해당 키워드를 포함하는 상장기업의 수는 {len(comparable_company)}개 입니다.\")\n"
   ]
  },
  {
   "cell_type": "markdown",
   "metadata": {},
   "source": [
    "#### comparable_company에 열 추가할 때마다 복사하고 이름 변경할 것"
   ]
  },
  {
   "cell_type": "code",
   "execution_count": 171,
   "metadata": {},
   "outputs": [
    {
     "data": {
      "text/html": [
       "<div>\n",
       "<style scoped>\n",
       "    .dataframe tbody tr th:only-of-type {\n",
       "        vertical-align: middle;\n",
       "    }\n",
       "\n",
       "    .dataframe tbody tr th {\n",
       "        vertical-align: top;\n",
       "    }\n",
       "\n",
       "    .dataframe thead th {\n",
       "        text-align: right;\n",
       "    }\n",
       "</style>\n",
       "<table border=\"1\" class=\"dataframe\">\n",
       "  <thead>\n",
       "    <tr style=\"text-align: right;\">\n",
       "      <th></th>\n",
       "      <th>symbol</th>\n",
       "      <th>10차표준(세분류)</th>\n",
       "      <th>주요상품</th>\n",
       "      <th>영업현황</th>\n",
       "    </tr>\n",
       "    <tr>\n",
       "      <th>company</th>\n",
       "      <th></th>\n",
       "      <th></th>\n",
       "      <th></th>\n",
       "      <th></th>\n",
       "    </tr>\n",
       "  </thead>\n",
       "  <tbody>\n",
       "    <tr>\n",
       "      <th>크래프톤</th>\n",
       "      <td>A259960</td>\n",
       "      <td>게임 소프트웨어 개발 및 공급업</td>\n",
       "      <td>등 게임 소프트웨어</td>\n",
       "      <td>\\n매출, 영업이익 선방\\n\\n동사는 2007년에 설립된 글로벌 게임회사로서, 게임...</td>\n",
       "    </tr>\n",
       "    <tr>\n",
       "      <th>넷마블</th>\n",
       "      <td>A251270</td>\n",
       "      <td>게임 소프트웨어 개발 및 공급업</td>\n",
       "      <td>온라인·모바일 게임 소프트웨어 개발 및 공급</td>\n",
       "      <td>\\n7분기 만에 23.4Q 영업이익 흑자\\n\\n동사의 연결실체는 모바일 게임 개발 ...</td>\n",
       "    </tr>\n",
       "    <tr>\n",
       "      <th>엔씨소프트</th>\n",
       "      <td>A036570</td>\n",
       "      <td>게임 소프트웨어 개발 및 공급업</td>\n",
       "      <td>인터넷머그게임(리니지),그룹웨어,인터넷커뮤니티 개발,유지,공급</td>\n",
       "      <td>\\n게임 라인업 부진 여파\\n\\n온라인, 모바일 게임을 개발해 운영함. PC게임 리...</td>\n",
       "    </tr>\n",
       "    <tr>\n",
       "      <th>펄어비스</th>\n",
       "      <td>A263750</td>\n",
       "      <td>게임 소프트웨어 개발 및 공급업</td>\n",
       "      <td>온라인게임 개발 서비스(검은사막)</td>\n",
       "      <td>\\n매출 감소로 영업이익 적자전환\\n\\n게임소프트웨어 개발 및 게임 서비스 공급업 ...</td>\n",
       "    </tr>\n",
       "    <tr>\n",
       "      <th>카카오게임즈</th>\n",
       "      <td>A293490</td>\n",
       "      <td>게임 소프트웨어 개발 및 공급업</td>\n",
       "      <td>모바일, PC게임 퍼블리싱</td>\n",
       "      <td>\\n신작 지연으로 실적 감소\\n\\n동사는 국내 대표 모바일 메신저 카카오톡과 인터넷...</td>\n",
       "    </tr>\n",
       "  </tbody>\n",
       "</table>\n",
       "</div>"
      ],
      "text/plain": [
       "          symbol         10차표준(세분류)                                주요상품  \\\n",
       "company                                                                   \n",
       "크래프톤     A259960  게임 소프트웨어 개발 및 공급업                          등 게임 소프트웨어   \n",
       "넷마블      A251270  게임 소프트웨어 개발 및 공급업            온라인·모바일 게임 소프트웨어 개발 및 공급   \n",
       "엔씨소프트    A036570  게임 소프트웨어 개발 및 공급업  인터넷머그게임(리니지),그룹웨어,인터넷커뮤니티 개발,유지,공급   \n",
       "펄어비스     A263750  게임 소프트웨어 개발 및 공급업                  온라인게임 개발 서비스(검은사막)   \n",
       "카카오게임즈   A293490  게임 소프트웨어 개발 및 공급업                      모바일, PC게임 퍼블리싱   \n",
       "\n",
       "                                                      영업현황  \n",
       "company                                                     \n",
       "크래프톤     \\n매출, 영업이익 선방\\n\\n동사는 2007년에 설립된 글로벌 게임회사로서, 게임...  \n",
       "넷마블      \\n7분기 만에 23.4Q 영업이익 흑자\\n\\n동사의 연결실체는 모바일 게임 개발 ...  \n",
       "엔씨소프트    \\n게임 라인업 부진 여파\\n\\n온라인, 모바일 게임을 개발해 운영함. PC게임 리...  \n",
       "펄어비스     \\n매출 감소로 영업이익 적자전환\\n\\n게임소프트웨어 개발 및 게임 서비스 공급업 ...  \n",
       "카카오게임즈   \\n신작 지연으로 실적 감소\\n\\n동사는 국내 대표 모바일 메신저 카카오톡과 인터넷...  "
      ]
     },
     "execution_count": 171,
     "metadata": {},
     "output_type": "execute_result"
    }
   ],
   "source": [
    "# europe  = cars.loc[mask1].copy()\n",
    "comparable_company.head()"
   ]
  },
  {
   "cell_type": "code",
   "execution_count": 172,
   "metadata": {},
   "outputs": [],
   "source": [
    "# df_merged에서 3, 7, 8, 9번째 열을 선택하여 comparable_company에 병합\n",
    "columns_to_merge = df_merged.columns[[3,7,8,9]]\n",
    "\n",
    "# comparable_company의 인덱스를 기준으로 df_merged에서 선택한 열들을 재인덱싱\n",
    "filtered_columns = df_merged.reindex(comparable_company.index)[columns_to_merge]\n",
    "\n",
    "# 열 병합 (인덱스를 기준으로 병합)\n",
    "comparable_company = comparable_company.join(filtered_columns)"
   ]
  },
  {
   "cell_type": "markdown",
   "metadata": {},
   "source": [
    "# 주요상품, 영업현황 열 제거, 주요 데이터 재정리해서 별도 DF에 관리할 필요 있음"
   ]
  },
  {
   "cell_type": "code",
   "execution_count": 173,
   "metadata": {},
   "outputs": [
    {
     "data": {
      "text/html": [
       "<div>\n",
       "<style scoped>\n",
       "    .dataframe tbody tr th:only-of-type {\n",
       "        vertical-align: middle;\n",
       "    }\n",
       "\n",
       "    .dataframe tbody tr th {\n",
       "        vertical-align: top;\n",
       "    }\n",
       "\n",
       "    .dataframe thead th {\n",
       "        text-align: right;\n",
       "    }\n",
       "</style>\n",
       "<table border=\"1\" class=\"dataframe\">\n",
       "  <thead>\n",
       "    <tr style=\"text-align: right;\">\n",
       "      <th></th>\n",
       "      <th>symbol</th>\n",
       "      <th>10차표준(세분류)</th>\n",
       "      <th>주요상품</th>\n",
       "      <th>영업현황</th>\n",
       "      <th>shares</th>\n",
       "      <th>EPS</th>\n",
       "      <th>SPS</th>\n",
       "      <th>BPS</th>\n",
       "    </tr>\n",
       "    <tr>\n",
       "      <th>company</th>\n",
       "      <th></th>\n",
       "      <th></th>\n",
       "      <th></th>\n",
       "      <th></th>\n",
       "      <th></th>\n",
       "      <th></th>\n",
       "      <th></th>\n",
       "      <th></th>\n",
       "    </tr>\n",
       "  </thead>\n",
       "  <tbody>\n",
       "    <tr>\n",
       "      <th>크래프톤</th>\n",
       "      <td>A259960</td>\n",
       "      <td>게임 소프트웨어 개발 및 공급업</td>\n",
       "      <td>등 게임 소프트웨어</td>\n",
       "      <td>\\n매출, 영업이익 선방\\n\\n동사는 2007년에 설립된 글로벌 게임회사로서, 게임...</td>\n",
       "      <td>45439470.0</td>\n",
       "      <td>17671.476120</td>\n",
       "      <td>44846.195983</td>\n",
       "      <td>130588.925509</td>\n",
       "    </tr>\n",
       "    <tr>\n",
       "      <th>넷마블</th>\n",
       "      <td>A251270</td>\n",
       "      <td>게임 소프트웨어 개발 및 공급업</td>\n",
       "      <td>온라인·모바일 게임 소프트웨어 개발 및 공급</td>\n",
       "      <td>\\n7분기 만에 23.4Q 영업이익 흑자\\n\\n동사의 연결실체는 모바일 게임 개발 ...</td>\n",
       "      <td>81934571.0</td>\n",
       "      <td>2505.326415</td>\n",
       "      <td>30327.022863</td>\n",
       "      <td>58209.560773</td>\n",
       "    </tr>\n",
       "    <tr>\n",
       "      <th>엔씨소프트</th>\n",
       "      <td>A036570</td>\n",
       "      <td>게임 소프트웨어 개발 및 공급업</td>\n",
       "      <td>인터넷머그게임(리니지),그룹웨어,인터넷커뮤니티 개발,유지,공급</td>\n",
       "      <td>\\n게임 라인업 부진 여파\\n\\n온라인, 모바일 게임을 개발해 운영함. PC게임 리...</td>\n",
       "      <td>19956730.0</td>\n",
       "      <td>7853.918853</td>\n",
       "      <td>85132.868862</td>\n",
       "      <td>164802.086464</td>\n",
       "    </tr>\n",
       "    <tr>\n",
       "      <th>펄어비스</th>\n",
       "      <td>A263750</td>\n",
       "      <td>게임 소프트웨어 개발 및 공급업</td>\n",
       "      <td>온라인게임 개발 서비스(검은사막)</td>\n",
       "      <td>\\n매출 감소로 영업이익 적자전환\\n\\n게임소프트웨어 개발 및 게임 서비스 공급업 ...</td>\n",
       "      <td>61419410.0</td>\n",
       "      <td>957.775010</td>\n",
       "      <td>5424.469577</td>\n",
       "      <td>12795.932524</td>\n",
       "    </tr>\n",
       "    <tr>\n",
       "      <th>카카오게임즈</th>\n",
       "      <td>A293490</td>\n",
       "      <td>게임 소프트웨어 개발 및 공급업</td>\n",
       "      <td>모바일, PC게임 퍼블리싱</td>\n",
       "      <td>\\n신작 지연으로 실적 감소\\n\\n동사는 국내 대표 모바일 메신저 카카오톡과 인터넷...</td>\n",
       "      <td>81791583.0</td>\n",
       "      <td>-5569.693583</td>\n",
       "      <td>12497.643639</td>\n",
       "      <td>12512.610509</td>\n",
       "    </tr>\n",
       "  </tbody>\n",
       "</table>\n",
       "</div>"
      ],
      "text/plain": [
       "          symbol         10차표준(세분류)                                주요상품  \\\n",
       "company                                                                   \n",
       "크래프톤     A259960  게임 소프트웨어 개발 및 공급업                          등 게임 소프트웨어   \n",
       "넷마블      A251270  게임 소프트웨어 개발 및 공급업            온라인·모바일 게임 소프트웨어 개발 및 공급   \n",
       "엔씨소프트    A036570  게임 소프트웨어 개발 및 공급업  인터넷머그게임(리니지),그룹웨어,인터넷커뮤니티 개발,유지,공급   \n",
       "펄어비스     A263750  게임 소프트웨어 개발 및 공급업                  온라인게임 개발 서비스(검은사막)   \n",
       "카카오게임즈   A293490  게임 소프트웨어 개발 및 공급업                      모바일, PC게임 퍼블리싱   \n",
       "\n",
       "                                                      영업현황      shares  \\\n",
       "company                                                                  \n",
       "크래프톤     \\n매출, 영업이익 선방\\n\\n동사는 2007년에 설립된 글로벌 게임회사로서, 게임...  45439470.0   \n",
       "넷마블      \\n7분기 만에 23.4Q 영업이익 흑자\\n\\n동사의 연결실체는 모바일 게임 개발 ...  81934571.0   \n",
       "엔씨소프트    \\n게임 라인업 부진 여파\\n\\n온라인, 모바일 게임을 개발해 운영함. PC게임 리...  19956730.0   \n",
       "펄어비스     \\n매출 감소로 영업이익 적자전환\\n\\n게임소프트웨어 개발 및 게임 서비스 공급업 ...  61419410.0   \n",
       "카카오게임즈   \\n신작 지연으로 실적 감소\\n\\n동사는 국내 대표 모바일 메신저 카카오톡과 인터넷...  81791583.0   \n",
       "\n",
       "                  EPS           SPS            BPS  \n",
       "company                                             \n",
       "크래프톤     17671.476120  44846.195983  130588.925509  \n",
       "넷마블       2505.326415  30327.022863   58209.560773  \n",
       "엔씨소프트     7853.918853  85132.868862  164802.086464  \n",
       "펄어비스       957.775010   5424.469577   12795.932524  \n",
       "카카오게임즈   -5569.693583  12497.643639   12512.610509  "
      ]
     },
     "execution_count": 173,
     "metadata": {},
     "output_type": "execute_result"
    }
   ],
   "source": [
    "comparable_company.head(5)"
   ]
  },
  {
   "cell_type": "markdown",
   "metadata": {},
   "source": [
    "## 주가기준일 입력(추후 수정주가 평균화 가능하도록 설정)"
   ]
  },
  {
   "cell_type": "code",
   "execution_count": 32,
   "metadata": {},
   "outputs": [],
   "source": [
    "# 평가기준일에 따른 주가 사용일\n",
    "price_date = input(\"적용 주가 기준일을 입력하세요.\")\n"
   ]
  },
  {
   "cell_type": "code",
   "execution_count": 33,
   "metadata": {},
   "outputs": [
    {
     "ename": "NameError",
     "evalue": "name 'selected_values_df' is not defined",
     "output_type": "error",
     "traceback": [
      "\u001b[1;31m---------------------------------------------------------------------------\u001b[0m",
      "\u001b[1;31mNameError\u001b[0m                                 Traceback (most recent call last)",
      "Cell \u001b[1;32mIn[33], line 13\u001b[0m\n\u001b[0;32m      5\u001b[0m selected_values \u001b[38;5;241m=\u001b[39m filtered_stockprice\u001b[38;5;241m.\u001b[39mloc[price_date]\n\u001b[0;32m      6\u001b[0m \u001b[38;5;66;03m# Series를 DataFrame으로 변환\u001b[39;00m\n\u001b[0;32m      7\u001b[0m \u001b[38;5;66;03m# selected_values_df = selected_values.to_frame()\u001b[39;00m\n\u001b[0;32m      8\u001b[0m \n\u001b[1;32m   (...)\u001b[0m\n\u001b[0;32m     11\u001b[0m \n\u001b[0;32m     12\u001b[0m \u001b[38;5;66;03m# 주가 데이터를 comparable_company 데이터프레임에 병합\u001b[39;00m\n\u001b[1;32m---> 13\u001b[0m comparable_company \u001b[38;5;241m=\u001b[39m comparable_company\u001b[38;5;241m.\u001b[39mjoin(\u001b[43mselected_values_df\u001b[49m)\n",
      "\u001b[1;31mNameError\u001b[0m: name 'selected_values_df' is not defined"
     ]
    }
   ],
   "source": [
    "# 주가 데이터에서 필요한 열만 선택하고 재인덱싱\n",
    "filtered_stockprice = stockprice.reindex(columns=comparable_company['symbol'])\n",
    "\n",
    "# 특정 날짜의 값을 가져오기\n",
    "selected_values = filtered_stockprice.loc[price_date]\n",
    "# Series를 DataFrame으로 변환\n",
    "# selected_values_df = selected_values.to_frame()\n",
    "\n",
    "# selected_values_df의 열 이름을 변경하여 충돌 방지\n",
    "# selected_values_df.columns = ['price']\n",
    "\n",
    "# 주가 데이터를 comparable_company 데이터프레임에 병합\n",
    "comparable_company = comparable_company.join(selected_values_df)\n"
   ]
  },
  {
   "cell_type": "code",
   "execution_count": null,
   "metadata": {},
   "outputs": [],
   "source": [
    "# comparable_company.drop(columns='price',inplace=True)"
   ]
  },
  {
   "cell_type": "code",
   "execution_count": null,
   "metadata": {},
   "outputs": [],
   "source": [
    "comparable_company.head()"
   ]
  },
  {
   "cell_type": "code",
   "execution_count": null,
   "metadata": {},
   "outputs": [],
   "source": [
    "# new_df = comparable_company.drop(columns=[\"주요상품\",\"영업현황\"]).copy()"
   ]
  },
  {
   "cell_type": "code",
   "execution_count": null,
   "metadata": {},
   "outputs": [],
   "source": [
    "new_df.rename(columns={pd.Timestamp(price_date): 'price'}, inplace=True)"
   ]
  },
  {
   "cell_type": "code",
   "execution_count": null,
   "metadata": {},
   "outputs": [],
   "source": [
    "# new_df.head()"
   ]
  },
  {
   "cell_type": "code",
   "execution_count": null,
   "metadata": {},
   "outputs": [],
   "source": [
    "# 가치배수 계산\n",
    "new_df[\"PER\"] = new_df.price / new_df.EPS\n",
    "new_df[\"PSR\"] = new_df.price / new_df.SPS\n",
    "new_df[\"PBR\"] = new_df.price / new_df.BPS"
   ]
  },
  {
   "cell_type": "code",
   "execution_count": null,
   "metadata": {},
   "outputs": [],
   "source": [
    "new_df"
   ]
  },
  {
   "cell_type": "code",
   "execution_count": null,
   "metadata": {},
   "outputs": [],
   "source": [
    "new_df.describe()"
   ]
  },
  {
   "cell_type": "markdown",
   "metadata": {},
   "source": [
    "# 평가기준일에 따른 수정주가 계산 날짜 지정"
   ]
  },
  {
   "cell_type": "code",
   "execution_count": 129,
   "metadata": {},
   "outputs": [],
   "source": [
    "# Step 1 : parameter_date 입력 받기\n",
    "parameter_date = input(\"평가 기준일을 입력하세요 (YYYY-MM-DD): \")\n",
    "parameter_date = pd.to_datetime(parameter_date)"
   ]
  },
  {
   "cell_type": "code",
   "execution_count": 130,
   "metadata": {},
   "outputs": [],
   "source": [
    "# Step 2: 가장 가까운 이전 영업일 찾기\n",
    "all_dates = stockprice2.columns\n",
    "closest_date = all_dates[all_dates <= parameter_date].max()"
   ]
  },
  {
   "cell_type": "code",
   "execution_count": 131,
   "metadata": {},
   "outputs": [],
   "source": [
    "# 평가기준일이 영업일이 아니라면 가장 가까운 이전의 영업일을 찾도록 해야 함\n",
    "# if parameter_date not in stockprice.index:\n",
    "    # closest_date = stockprice.index[stockprice.index.get_indexer([parameter_date], method='pad')[0]]\n",
    "# else:\n",
    "    # closest_date = parameter_date"
   ]
  },
  {
   "cell_type": "code",
   "execution_count": 132,
   "metadata": {},
   "outputs": [],
   "source": [
    "# Step 3: end_date 계산 (closest_date로부터 2달 전)\n",
    "end_date = closest_date - pd.DateOffset(months=2)\n",
    "end_date = end_date - pd.offsets.MonthEnd(0)  # 두 달 전의 마지막 날"
   ]
  },
  {
   "cell_type": "code",
   "execution_count": 133,
   "metadata": {},
   "outputs": [],
   "source": [
    "# Step 4: start_date 계산 (end_date로부터 6달 전)\n",
    "start_date = end_date - pd.DateOffset(months=6)\n",
    "start_date = start_date - pd.offsets.MonthEnd(0)  # 6달 전의 마지막 날"
   ]
  },
  {
   "cell_type": "code",
   "execution_count": 134,
   "metadata": {},
   "outputs": [],
   "source": [
    "# 데이터가 존재하는 범위로 제한\n",
    "valid_start_date = max(start_date, stockprice2.columns.min())\n",
    "valid_end_date = min(end_date, stockprice2.columns.max())"
   ]
  },
  {
   "cell_type": "code",
   "execution_count": 143,
   "metadata": {},
   "outputs": [],
   "source": [
    "# 예제 리스트\n",
    "selected_companies = ['삼성전자']"
   ]
  },
  {
   "cell_type": "code",
   "execution_count": 144,
   "metadata": {},
   "outputs": [],
   "source": [
    "# Filter the data for the specified period\n",
    "filtered_columns = stockprice2.loc[selected_companies, valid_start_date:valid_end_date]\n",
    "\n",
    "# Drop NaN values and calculate the mean for the selected company\n",
    "filtered_columns = filtered_columns.dropna()\n",
    "\n",
    "if filtered_columns.empty:\n",
    "    mean_value = \"No data available for the specified period.\"\n",
    "else:\n",
    "    mean_value = filtered_columns.mean()"
   ]
  },
  {
   "cell_type": "code",
   "execution_count": 145,
   "metadata": {},
   "outputs": [
    {
     "data": {
      "text/plain": [
       "(Timestamp('2024-06-30 00:00:00'),\n",
       " Timestamp('2023-07-03 00:00:00'),\n",
       " Timestamp('2023-07-03 00:00:00'),\n",
       " Timestamp('2023-05-31 00:00:00'),\n",
       "          2023-07-03\n",
       " company            \n",
       " 삼성전자          73000,\n",
       " 2023-07-03    73000.0\n",
       " dtype: float64)"
      ]
     },
     "execution_count": 145,
     "metadata": {},
     "output_type": "execute_result"
    }
   ],
   "source": [
    "# Debugging: 출력해보는 코드\n",
    "parameter_date, closest_date, valid_start_date, valid_end_date, filtered_columns, mean_value"
   ]
  },
  {
   "cell_type": "code",
   "execution_count": 146,
   "metadata": {},
   "outputs": [
    {
     "data": {
      "text/plain": [
       "2023-07-03    73000.0\n",
       "dtype: float64"
      ]
     },
     "execution_count": 146,
     "metadata": {},
     "output_type": "execute_result"
    }
   ],
   "source": [
    "mean_value"
   ]
  },
  {
   "cell_type": "code",
   "execution_count": null,
   "metadata": {},
   "outputs": [],
   "source": [
    "# 5. 결과값을 데이터프레임 형식으로 변환하는 함수 정의(미사용)\n",
    "def results_to_dataframe(results, parameter_date):\n",
    "    column_name = f\"수정주가({parameter_date})\"\n",
    "    data = {\n",
    "        \"Company\": [],\n",
    "        column_name: []\n",
    "    }\n",
    "    for company, result in results.items():\n",
    "        data[\"Company\"].append(company)\n",
    "        data[column_name].append(result[\"average_price\"])\n",
    "    df = pd.DataFrame(data)\n",
    "    df.set_index(\"Company\", inplace=True)\n",
    "    \n",
    "\n",
    "    \n",
    "    # 추가: stock_count 데이터프레임에서 필요한 열 추가\n",
    "    additional_columns = ['shares', 'eps', 'bps', 'sps']\n",
    "    for column in additional_columns:\n",
    "        df[column] = stock_count.loc[df.index, column]\n",
    "    \n",
    "    return df\n",
    "# 5. 결과값을 데이터프레임 형식으로 변환하는 함수 정의(미사용)\n",
    "def results_to_dataframe(results, parameter_date):\n",
    "    column_name = f\"수정주가({parameter_date})\"\n",
    "    data = {\n",
    "        \"Company\": [],\n",
    "        column_name: []\n",
    "    }\n",
    "    for company, result in results.items():\n",
    "        data[\"Company\"].append(company)\n",
    "        data[column_name].append(result[\"average_price\"])\n",
    "    df = pd.DataFrame(data)\n",
    "    df.set_index(\"Company\", inplace=True)\n",
    "    \n",
    "    # 포맷팅 적용\n",
    "    df[column_name] = df[column_name].apply(lambda x: f\"{round(x):,}\")\n",
    "    \n",
    "    return df\n",
    "\n"
   ]
  }
 ],
 "metadata": {
  "kernelspec": {
   "display_name": "Python 3",
   "language": "python",
   "name": "python3"
  },
  "language_info": {
   "codemirror_mode": {
    "name": "ipython",
    "version": 3
   },
   "file_extension": ".py",
   "mimetype": "text/x-python",
   "name": "python",
   "nbconvert_exporter": "python",
   "pygments_lexer": "ipython3",
   "version": "3.12.4"
  }
 },
 "nbformat": 4,
 "nbformat_minor": 2
}
