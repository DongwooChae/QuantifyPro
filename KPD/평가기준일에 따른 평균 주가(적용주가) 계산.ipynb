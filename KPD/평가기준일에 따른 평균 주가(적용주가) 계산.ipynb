{
 "cells": [
  {
   "cell_type": "code",
   "execution_count": 4,
   "metadata": {},
   "outputs": [
    {
     "name": "stdout",
     "output_type": "stream",
     "text": [
      "value_per_stock에 없는 회사들:\n",
      "['SBI핀테크솔루션즈', '비즈니스온', '유비온', '이지케어텍', '커넥트웨이브', '포시에스']\n",
      "표준산업분류에 게임이 포함된 기업의 수는 26개 입니다.\n",
      "그 중, 현재 이익을 실현하고 있어서 주당 이익이 양수의 값을 갖는 기업의 수는 16개 입니다.\n",
      "EPS가 양수인 종목의 평균값은 3314.25입니다.\n",
      "EPS가 양수인 종목의 1분위(Q1)는 152.75입니다.\n",
      "EPS가 양수인 종목의 중위값(2분위, Median)은 1288.00입니다.\n",
      "EPS가 양수인 종목의 3분위(Q3)는 3262.25입니다.\n",
      "EPS가 양수인 종목의 4분위(최댓값)는 17623.00입니다.\n",
      "<class 'pandas.core.frame.DataFrame'>\n",
      "Index: 2514 entries, 삼성전자 to 엔에이치스팩25호\n",
      "Data columns (total 33 columns):\n",
      " #   Column               Non-Null Count  Dtype  \n",
      "---  ------               --------------  -----  \n",
      " 0   Ticker               2514 non-null   object \n",
      " 1   Symbol               2514 non-null   object \n",
      " 2   종목명(Eng)             2514 non-null   object \n",
      " 3   법인번호                 2514 non-null   int64  \n",
      " 4   10차표준(세분류)           2514 non-null   object \n",
      " 5   10차표준(세세분류)          2514 non-null   object \n",
      " 6   거래소 업종               2514 non-null   object \n",
      " 7   거래소(시장)              2514 non-null   object \n",
      " 8   매출액(직전4분기)           2514 non-null   float64\n",
      " 9   영업이익                 2514 non-null   float64\n",
      " 10  세전이익                 2514 non-null   float64\n",
      " 11  자본총계                 2514 non-null   float64\n",
      " 12  베타                   2375 non-null   float64\n",
      " 13  차입금/시총               2451 non-null   float64\n",
      " 14  거래정지                 2514 non-null   object \n",
      " 15  관리종목                 2514 non-null   object \n",
      " 16  상장일자                 2514 non-null   int64  \n",
      " 17  주요상품                 2468 non-null   object \n",
      " 18  한계세율                 2514 non-null   object \n",
      " 19  홈페이지                 2514 non-null   object \n",
      " 20  EV/EBITDA            2047 non-null   float64\n",
      " 21  PBR                  2506 non-null   float64\n",
      " 22  PSR                  2514 non-null   float64\n",
      " 23  PER                  1755 non-null   float64\n",
      " 24  3개년(2023~2026) CAGR  2423 non-null   object \n",
      " 25  2020                 2514 non-null   float64\n",
      " 26  2021                 2514 non-null   float64\n",
      " 27  2022                 2514 non-null   float64\n",
      " 28  2023                 2514 non-null   float64\n",
      " 29  2024                 2514 non-null   float64\n",
      " 30  2025                 2514 non-null   float64\n",
      " 31  2026                 2514 non-null   float64\n",
      " 32  2027                 2514 non-null   float64\n",
      "dtypes: float64(18), int64(2), object(13)\n",
      "memory usage: 732.3+ KB\n"
     ]
    },
    {
     "name": "stderr",
     "output_type": "stream",
     "text": [
      "<string>:1: FutureWarning: Downcasting behavior in `replace` is deprecated and will be removed in a future version. To retain the old behavior, explicitly call `result.infer_objects(copy=False)`. To opt-in to the future behavior, set `pd.set_option('future.no_silent_downcasting', True)`\n",
      "<string>:2: FutureWarning: Downcasting behavior in `replace` is deprecated and will be removed in a future version. To retain the old behavior, explicitly call `result.infer_objects(copy=False)`. To opt-in to the future behavior, set `pd.set_option('future.no_silent_downcasting', True)`\n"
     ]
    },
    {
     "data": {
      "application/vnd.jupyter.widget-view+json": {
       "model_id": "622c6da9f9dd43e1b058410c893bc33d",
       "version_major": 2,
       "version_minor": 0
      },
      "text/plain": [
       "VBox(children=(HBox(children=(Checkbox(value=False, description='1차 비철금속 제조업'), Checkbox(value=False, descript…"
      ]
     },
     "metadata": {},
     "output_type": "display_data"
    },
    {
     "data": {
      "application/vnd.jupyter.widget-view+json": {
       "model_id": "4d3db842850346a184638739883319fe",
       "version_major": 2,
       "version_minor": 0
      },
      "text/plain": [
       "HBox(children=(Button(description='확인', style=ButtonStyle()), Button(description='리셋', style=ButtonStyle())))"
      ]
     },
     "metadata": {},
     "output_type": "display_data"
    },
    {
     "data": {
      "application/vnd.jupyter.widget-view+json": {
       "model_id": "fd93764118e44624a93d90cb3171f524",
       "version_major": 2,
       "version_minor": 0
      },
      "text/plain": [
       "Output()"
      ]
     },
     "metadata": {},
     "output_type": "display_data"
    },
    {
     "data": {
      "application/vnd.jupyter.widget-view+json": {
       "model_id": "622c6da9f9dd43e1b058410c893bc33d",
       "version_major": 2,
       "version_minor": 0
      },
      "text/plain": [
       "VBox(children=(HBox(children=(Checkbox(value=False, description='1차 비철금속 제조업'), Checkbox(value=False, descript…"
      ]
     },
     "metadata": {},
     "output_type": "display_data"
    },
    {
     "data": {
      "application/vnd.jupyter.widget-view+json": {
       "model_id": "76c7dd8a767d49e0b13368c5e7458e34",
       "version_major": 2,
       "version_minor": 0
      },
      "text/plain": [
       "HBox(children=(Dropdown(description='정렬 기준:', options=(('종목명', '종목명'), ('EPS', 'EPS'), ('SPS', 'SPS'), ('BPS',…"
      ]
     },
     "metadata": {},
     "output_type": "display_data"
    },
    {
     "data": {
      "application/vnd.jupyter.widget-view+json": {
       "model_id": "fd93764118e44624a93d90cb3171f524",
       "version_major": 2,
       "version_minor": 0
      },
      "text/plain": [
       "Output()"
      ]
     },
     "metadata": {},
     "output_type": "display_data"
    },
    {
     "data": {
      "application/vnd.jupyter.widget-view+json": {
       "model_id": "622c6da9f9dd43e1b058410c893bc33d",
       "version_major": 2,
       "version_minor": 0
      },
      "text/plain": [
       "VBox(children=(HBox(children=(Checkbox(value=False, description='1차 비철금속 제조업'), Checkbox(value=False, descript…"
      ]
     },
     "metadata": {},
     "output_type": "display_data"
    },
    {
     "data": {
      "application/vnd.jupyter.widget-view+json": {
       "model_id": "eeeed20945e742efa9efb3d397caba65",
       "version_major": 2,
       "version_minor": 0
      },
      "text/plain": [
       "HBox(children=(Button(description='확인', style=ButtonStyle()), Button(description='리셋', style=ButtonStyle())))"
      ]
     },
     "metadata": {},
     "output_type": "display_data"
    },
    {
     "data": {
      "application/vnd.jupyter.widget-view+json": {
       "model_id": "fd93764118e44624a93d90cb3171f524",
       "version_major": 2,
       "version_minor": 0
      },
      "text/plain": [
       "Output()"
      ]
     },
     "metadata": {},
     "output_type": "display_data"
    },
    {
     "ename": "ModuleNotFoundError",
     "evalue": "No module named 'Sector_to_valueperstock.ipynb'; 'Sector_to_valueperstock' is not a package",
     "output_type": "error",
     "traceback": [
      "\u001b[1;31m---------------------------------------------------------------------------\u001b[0m",
      "\u001b[1;31mModuleNotFoundError\u001b[0m                       Traceback (most recent call last)",
      "Cell \u001b[1;32mIn[4], line 2\u001b[0m\n\u001b[0;32m      1\u001b[0m \u001b[38;5;28;01mimport\u001b[39;00m\u001b[38;5;250m \u001b[39m\u001b[38;5;21;01mimport_ipynb\u001b[39;00m\n\u001b[1;32m----> 2\u001b[0m \u001b[38;5;28;01mimport\u001b[39;00m\u001b[38;5;250m \u001b[39m\u001b[38;5;21;01mSector_to_valueperstock\u001b[39;00m\u001b[38;5;21;01m.\u001b[39;00m\u001b[38;5;21;01mipynb\u001b[39;00m\n",
      "\u001b[1;31mModuleNotFoundError\u001b[0m: No module named 'Sector_to_valueperstock.ipynb'; 'Sector_to_valueperstock' is not a package"
     ]
    }
   ],
   "source": [
    "import import_ipynb\n",
    "import Sector_to_valueperstock.ipynb"
   ]
  },
  {
   "cell_type": "code",
   "execution_count": null,
   "metadata": {},
   "outputs": [],
   "source": []
  }
 ],
 "metadata": {
  "kernelspec": {
   "display_name": ".venv",
   "language": "python",
   "name": "python3"
  },
  "language_info": {
   "codemirror_mode": {
    "name": "ipython",
    "version": 3
   },
   "file_extension": ".py",
   "mimetype": "text/x-python",
   "name": "python",
   "nbconvert_exporter": "python",
   "pygments_lexer": "ipython3",
   "version": "3.11.9"
  }
 },
 "nbformat": 4,
 "nbformat_minor": 2
}
