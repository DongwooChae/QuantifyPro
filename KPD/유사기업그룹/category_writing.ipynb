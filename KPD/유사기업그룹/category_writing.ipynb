{
 "cells": [
  {
   "cell_type": "code",
   "execution_count": 127,
   "id": "94aa76bb",
   "metadata": {},
   "outputs": [],
   "source": [
    "# 라이브러리 import\n",
    "\n",
    "import pandas as pd\n",
    "import numpy as np\n",
    "\n",
    "from loader import (df_company, df_kospi_group, df_kosdaq_group, df_kospi_company, df_kosdaq_company, price, fsdata, category, category_company)\n",
    "\n"
   ]
  },
  {
   "cell_type": "code",
   "execution_count": 208,
   "id": "dfdece1d",
   "metadata": {},
   "outputs": [],
   "source": [
    "# dtype 변환\n",
    "dtype_col = ['Sector','Industry Group','Industry', '10차표준(세분류)', '10차표준(세세분류)','주요상품']\n",
    "category_company[dtype_col] = category_company[dtype_col].astype('string')"
   ]
  },
  {
   "cell_type": "code",
   "execution_count": 209,
   "id": "00915618",
   "metadata": {},
   "outputs": [
    {
     "name": "stdout",
     "output_type": "stream",
     "text": [
      "<class 'pandas.core.frame.DataFrame'>\n",
      "Index: 2514 entries, 풍산 to 유비쿼스홀딩스\n",
      "Data columns (total 6 columns):\n",
      " #   Column          Non-Null Count  Dtype \n",
      "---  ------          --------------  ----- \n",
      " 0   Sector          1862 non-null   string\n",
      " 1   Industry Group  1862 non-null   string\n",
      " 2   Industry        1973 non-null   string\n",
      " 3   10차표준(세분류)      2514 non-null   string\n",
      " 4   10차표준(세세분류)     2514 non-null   string\n",
      " 5   주요상품            2451 non-null   string\n",
      "dtypes: string(6)\n",
      "memory usage: 202.0+ KB\n"
     ]
    }
   ],
   "source": [
    "category_company.info()"
   ]
  },
  {
   "cell_type": "code",
   "execution_count": 210,
   "id": "59ed8b5c",
   "metadata": {},
   "outputs": [],
   "source": [
    "세분류에너지 = category_company['10차표준(세분류)'].str.contains('에너지')\n",
    "세분류석유 = category_company['10차표준(세분류)'].str.contains('석유')\n",
    "세분류가스= category_company['10차표준(세분류)'].str.contains('가스')\n",
    "에너지 = 세분류에너지 | 세분류석유 | 세분류가스\n",
    "category_company.loc[에너지, 'Industry'] = '에너지 시설 및 서비스, 석유 및 가스'"
   ]
  },
  {
   "cell_type": "code",
   "execution_count": 211,
   "id": "63aa044f",
   "metadata": {},
   "outputs": [],
   "source": [
    "세분류화학 = category_company['10차표준(세분류)'].str.contains('화학')\n",
    "세분류건축소재 = category_company['10차표준(세분류)'].str.contains(r'건축소재')\n",
    "세분류용기및포장 = category_company['10차표준(세분류)'].str.contains(r'용기|포장')\n",
    "세분류금속및광물 = category_company['10차표준(세분류)'].str.contains(r'금속|광물')\n",
    "세분류종이및목재 = category_company['10차표준(세분류)'].str.contains(r'종이|목재')\n",
    "소재 = 세분류화학|세분류건축소재|세분류용기및포장|세분류금속및광물|세분류종이및목재\n",
    "category_company.loc[소재, 'Industry'] = '화학, 건축소재, 용기 및 포장, 금속 및 광물, 종이 및 목재'\n"
   ]
  },
  {
   "cell_type": "code",
   "execution_count": 212,
   "id": "f4534d12",
   "metadata": {},
   "outputs": [],
   "source": [
    "세분류건축자재 = category_company['10차표준(세분류)'].str.contains(r'건축|자재')\n",
    "세분류플라스틱 = category_company['10차표준(세분류)'].str.contains(r'플라스틱')\n",
    "세분류건설 = category_company['10차표준(세분류)'].str.contains('건설')\n",
    "세분류핵반응기 = category_company['10차표준(세분류)'].str.contains('핵반응기')\n",
    "세분류항공기 = category_company['10차표준(세분류)'].str.contains('항공기')\n",
    "세분류우주선 = category_company['10차표준(세분류)'].str.contains('우주선')\n",
    "세분류전자부품 = category_company['10차표준(세분류)'].str.contains(r'전자부품')\n",
    "세분류전기장비 = category_company['10차표준(세분류)'].str.contains(r'전기장비|전기')\n",
    "세분류철강 = category_company['10차표준(세분류)'].str.contains(r'철강')\n",
    "세분류복합산업 = category_company['10차표준(세분류)'].str.contains('복합산업')\n",
    "세분류기계 = category_company['10차표준(세분류)'].str.contains('기계')\n",
    "세분류무역 = category_company['10차표준(세분류)'].str.contains('무역')\n",
    "세분류조선 = category_company['10차표준(세분류)'].str.contains('조선')\n",
    "세분류시멘트 = category_company['10차표준(세분류)'].str.contains('시멘트')\n",
    "세분류엔지니어링 = category_company['10차표준(세분류)'].str.contains('엔지니어링')\n",
    "세분류콘크리트 = category_company['10차표준(세분류)'].str.contains('콘크리트')\n",
    "자본재 = 세분류건축자재|세분류건설|세분류전기장비|세분류복합산업|세분류기계|세분류무역|세분류조선|세분류철강|세분류전자부품 |세분류시멘트 |세분류엔지니어링 |세분류콘크리트 |세분류항공기|세분류우주선|세분류핵반응기|세분류플라스틱\n",
    "category_company.loc[자본재, 'Industry'] = '건축자재, 건설, 전기장비, 복합 산업, 기계, 무역, 조선'"
   ]
  },
  {
   "cell_type": "code",
   "execution_count": 213,
   "id": "8cf7ec3e",
   "metadata": {},
   "outputs": [],
   "source": [
    "세분류상업서비스 = category_company['10차표준(세분류)'].str.contains('상업')\n",
    "세세분류상업서비스 = category_company['10차표준(세세분류)'].str.contains('상업')\n",
    "주요상품상업서비스 = category_company['주요상품'].str.contains('상업')\n",
    "상업서비스 = 세분류상업서비스 | 세세분류상업서비스 | 주요상품상업서비스\n",
    "\n",
    "category_company.loc[세분류상업서비스, 'Industry'] = '상업서비스'"
   ]
  },
  {
   "cell_type": "code",
   "execution_count": 214,
   "id": "f83cd972",
   "metadata": {},
   "outputs": [],
   "source": [
    "세분류운송 = category_company['10차표준(세분류)'].str.contains(r'운송')\n",
    "category_company.loc[세분류운송, 'Industry'] = '운송'"
   ]
  },
  {
   "cell_type": "code",
   "execution_count": 215,
   "id": "e299490b",
   "metadata": {},
   "outputs": [],
   "source": [
    "세분류자동차 = category_company['10차표준(세분류)'].str.contains(r'자동차')\n",
    "category_company.loc[세분류자동차, 'Industry'] = '자동차'"
   ]
  },
  {
   "cell_type": "code",
   "execution_count": 216,
   "id": "63320f23",
   "metadata": {},
   "outputs": [],
   "source": [
    "세분류내구소비재 = category_company['10차표준(세분류)'].str.contains(r'내구소비재')\n",
    "세분류레저용품 = category_company['10차표준(세분류)'].str.contains(r'레저')\n",
    "세분류겉옷 = category_company['10차표준(세분류)'].str.contains(r'겉옷')\n",
    "\n",
    "세분류섬유및의복 = category_company['10차표준(세분류)'].str.contains(r'섬유|의복')\n",
    "내구소비재및의류 = 세분류내구소비재 | 세분류레저용품 | 세분류섬유및의복 | 세분류겉옷\n",
    "category_company.loc[내구소비재및의류, 'Industry'] = '내구소비재, 레저용품, 섬유 및 의복'"
   ]
  },
  {
   "cell_type": "code",
   "execution_count": 217,
   "id": "76ed5d40",
   "metadata": {},
   "outputs": [],
   "source": [
    "세분류호텔및레저 = category_company['10차표준(세분류)'].str.contains(r'호텔|레저')\n",
    "세분류교육 = category_company['10차표준(세분류)'].str.contains(r'교육')\n",
    "소비자서비스 = 세분류호텔및레저 | 세분류교육\n",
    "category_company.loc[소비자서비스, 'Industry'] = '호텔 및 레저, 교육'"
   ]
  },
  {
   "cell_type": "code",
   "execution_count": 218,
   "id": "d53d72a5",
   "metadata": {},
   "outputs": [],
   "source": [
    "세분류미디어 = category_company['10차표준(세분류)'].str.contains(r'미디어')\n",
    "세세분류미디어 = category_company['10차표준(세세분류)'].str.contains(r'미디어')\n",
    "주요상품미디어 = category_company['주요상품'].str.contains(r'미디어')\n",
    "미디어 = 세분류미디어 | 세세분류미디어 | 주요상품미디어\n",
    "category_company.loc[미디어, 'Industry'] = '미디어'"
   ]
  },
  {
   "cell_type": "code",
   "execution_count": 219,
   "id": "7281453d",
   "metadata": {},
   "outputs": [],
   "source": [
    "세분류도매및소매 = category_company['10차표준(세분류)'].str.contains(r'도매|소매')\n",
    "주요상품온라인쇼핑 = category_company['주요상품'].str.contains(r'쇼핑')\n",
    "주요상품백화점 = category_company['주요상품'].str.contains(r'백화점')\n",
    "유동 = 세분류도매및소매 | 주요상품온라인쇼핑 | 주요상품백화점\n",
    "category_company.loc[유동, 'Industry'] = '도매 및 소매, 온라인 쇼핑, 백화점'"
   ]
  },
  {
   "cell_type": "code",
   "execution_count": 220,
   "id": "2caa3ae7",
   "metadata": {},
   "outputs": [],
   "source": [
    "세분류음료 = category_company['10차표준(세분류)'].str.contains(r'음료')\n",
    "세분류동물용 = category_company['10차표준(세분류)'].str.contains(r'동물용')\n",
    "세분류떡 = category_company['10차표준(세분류)'].str.contains(r'떡')\n",
    "세분류식료품 = category_company['10차표준(세분류)'].str.contains(r'식료품')\n",
    "세분류담배 = category_company['10차표준(세분류)'].str.contains(r'담배')\n",
    "음식료및담배 = 세분류음료 | 세분류식료품 | 세분류담배 | 세분류동물용 | 세분류떡\n",
    "category_company.loc[음식료및담배, 'Industry'] = '음료, 식료품, 담배'"
   ]
  },
  {
   "cell_type": "code",
   "execution_count": 221,
   "id": "32155b44",
   "metadata": {},
   "outputs": [],
   "source": [
    "세분류생활용품 = category_company['10차표준(세분류)'].str.contains(r'생활용품')\n",
    "세분류세제 = category_company['10차표준(세분류)'].str.contains(r'세제')\n",
    "세분류속옷 = category_company['10차표준(세분류)'].str.contains(r'속옷')\n",
    "세세분류생활용품 = category_company['10차표준(세세분류)'].str.contains(r'생활용품')\n",
    "주요상품생활용품 = category_company['주요상품'].str.contains(r'생활용품')\n",
    "\n",
    "생활용품 = 세분류생활용품 | 세세분류생활용품 | 주요상품생활용품 | 세분류세제 | 세분류속옷\n",
    "category_company.loc[생활용품, 'Industry'] = '생활용품'"
   ]
  },
  {
   "cell_type": "code",
   "execution_count": 222,
   "id": "100decaf",
   "metadata": {},
   "outputs": [],
   "source": [
    "세분류의료장비 = category_company['10차표준(세분류)'].str.contains(r'의료장비|의료기기')\n",
    "세분류의료용품 = category_company['10차표준(세분류)'].str.contains(r'의료용품')\n",
    "세분류의료용기기 = category_company['10차표준(세분류)'].str.contains(r'의료용기기|의료용 기기')\n",
    "세세분류의료장비 = category_company['10차표준(세세분류)'].str.contains(r'의료장비|의료기기')\n",
    "주요상품의료장비 = category_company['주요상품'].str.contains(r'의료장비|의료기기')\n",
    "의료장비및서비스 = 세분류의료장비 | 세세분류의료장비 | 주요상품의료장비 | 세분류의료용품 | 세분류의료용기기\n",
    "category_company.loc[의료장비및서비스, 'Industry'] = '의료장비 및 서비스'"
   ]
  },
  {
   "cell_type": "code",
   "execution_count": 223,
   "id": "c0aa27c4",
   "metadata": {},
   "outputs": [],
   "source": [
    "세분류바이오 = category_company['10차표준(세분류)'].str.contains(r'바이오')\n",
    "세분류의약 = category_company['10차표준(세분류)'].str.contains(r'의약')\n",
    "세분류제약 = category_company['10차표준(세분류)'].str.contains(r'제약')\n",
    "세세분류바이오 = category_company['10차표준(세세분류)'].str.contains(r'바이오')\n",
    "세세분류의학 = category_company['10차표준(세세분류)'].str.contains(r'의학')\n",
    "세세분류제약 = category_company['10차표준(세세분류)'].str.contains(r'제약')\n",
    "주요상품바이오 = category_company['주요상품'].str.contains(r'바이오')\n",
    "주요상품제약 = category_company['주요상품'].str.contains(r'제약')\n",
    "제약및바이오 = 세분류바이오| 세분류의약 | 세분류제약 | 세세분류바이오 | 세세분류제약 | 세세분류의학 | 주요상품바이오 | 주요상품제약\n",
    "category_company.loc[제약및바이오, 'Industry'] = '제약 및 바이오'"
   ]
  },
  {
   "cell_type": "code",
   "execution_count": 224,
   "id": "d2bba3f2",
   "metadata": {},
   "outputs": [],
   "source": [
    "세분류은행 = category_company['10차표준(세분류)'].str.contains(r'은행')\n",
    "세세분류은행 = category_company['10차표준(세세분류)'].str.contains(r'은행')\n",
    "주요상품은행 = category_company['주요상품'].str.contains(r'은행')\n",
    "은행 = 세분류은행 | 세세분류은행 | 주요상품은행\n",
    "category_company.loc[은행, 'Industry'] = '은행'"
   ]
  },
  {
   "cell_type": "code",
   "execution_count": 225,
   "id": "5b09b226",
   "metadata": {},
   "outputs": [],
   "source": [
    "세분류보험 = category_company['10차표준(세분류)'].str.contains(r'보험')\n",
    "세세분류보험 = category_company['10차표준(세세분류)'].str.contains(r'보험')\n",
    "주요상품보험 = category_company['주요상품'].str.contains(r'보험')\n",
    "보험 = 세분류보험 | 세세분류보험 | 주요상품보험\n",
    "category_company.loc[보험, 'Industry'] = '보험'"
   ]
  },
  {
   "cell_type": "code",
   "execution_count": 226,
   "id": "0e97a092",
   "metadata": {},
   "outputs": [],
   "source": [
    "세분류증권 = category_company['10차표준(세분류)'].str.contains(r'증권')\n",
    "세세분류증권 = category_company['10차표준(세세분류)'].str.contains(r'증권')\n",
    "주요상품증권 = category_company['주요상품'].str.contains(r'증권')\n",
    "증권 = 세분류증권 | 세세분류증권 | 주요상품증권\n",
    "category_company.loc[증권, 'Industry'] = '증권'"
   ]
  },
  {
   "cell_type": "code",
   "execution_count": 227,
   "id": "c1d453aa",
   "metadata": {},
   "outputs": [],
   "source": [
    "세분류인터넷서비스 = category_company['10차표준(세분류)'].str.contains(r'인터넷')\n",
    "세분류IT서비스 = category_company['10차표준(세분류)'].str.contains(r'IT')\n",
    "세분류일반소프트웨어 = category_company['10차표준(세분류)'].str.contains(r'소프트웨어')\n",
    "세분류게임소프트웨어 = category_company['10차표준(세분류)'].str.contains(r'게임')\n",
    "소프트웨어 = 세분류인터넷서비스 | 세분류IT서비스 | 세분류일반소프트웨어 | 세분류게임소프트웨어\n",
    "category_company.loc[소프트웨어, 'Industry'] = '인터넷 서비스, IT 서비스, 일반 소프트웨어, 게임 소프트웨어'\n"
   ]
  },
  {
   "cell_type": "code",
   "execution_count": 228,
   "id": "9c45c74e",
   "metadata": {},
   "outputs": [],
   "source": [
    "세분류IT하드웨어 = category_company['10차표준(세분류)'].str.contains(r'통신장비|휴대폰|셋톱|컴퓨터|보안장비|사무기기|전자장비')\n",
    "세세분류IT하드웨어 = category_company['10차표준(세세분류)'].str.contains(r'통신장비|휴대폰|셋톱|컴퓨터|보안장비|사무기기|전자장비')\n",
    "주요상품IT하드웨어 = category_company['주요상품'].str.contains(r'통신장비|휴대폰|셋톱|컴퓨터|보안장비|사무기기|전자장비')\n",
    "IT하드웨어 = 세분류IT하드웨어 | 세세분류IT하드웨어 | 주요상품IT하드웨어\n",
    "category_company.loc[IT하드웨어, 'Industry'] = 'IT 하드웨어'"
   ]
  },
  {
   "cell_type": "code",
   "execution_count": 229,
   "id": "eaf47fee",
   "metadata": {},
   "outputs": [],
   "source": [
    "세분류반도체및관련장비 = category_company['10차표준(세분류)'].str.contains(r'반도체|반도체장비')\n",
    "세분류일차전지 = category_company['10차표준(세분류)'].str.contains(r'일차전지|이차전지')\n",
    "세분류전자집적회로 = category_company['10차표준(세분류)'].str.contains(r'전자집적회로')\n",
    "세분류측정 = category_company['10차표준(세분류)'].str.contains(r'측정|향해')\n",
    "세세분류반도체및관련장비 = category_company['10차표준(세세분류)'].str.contains(r'반도체|반도체장비')\n",
    "주요상품반도체및관련장비 = category_company['주요상품'].str.contains(r'반도체|반도체장비')\n",
    "반도체및관련장비 = 세분류반도체및관련장비 | 세세분류반도체및관련장비 | 주요상품반도체및관련장비 |세분류일차전지|세분류전자집적회로|세분류측정\n",
    "category_company.loc[반도체및관련장비, 'Industry'] = '반도체 및 관련 장비'"
   ]
  },
  {
   "cell_type": "code",
   "execution_count": 230,
   "id": "19b69d4f",
   "metadata": {},
   "outputs": [],
   "source": [
    "세분류디스플레이및관련부품 = category_company['10차표준(세분류)'].str.contains(r'디스플레이')\n",
    "세세분류디스플레이및관련부품 = category_company['10차표준(세세분류)'].str.contains(r'디스플레이')\n",
    "주요상품디스플레이및관련부품 = category_company['주요상품'].str.contains(r'디스플레이')\n",
    "디스플레이및관련부품 = 세분류디스플레이및관련부품 | 세세분류디스플레이및관련부품 | 주요상품디스플레이및관련부품\n",
    "category_company.loc[디스플레이및관련부품, 'Industry'] = '디스플레이 및 관련 부품'"
   ]
  },
  {
   "cell_type": "code",
   "execution_count": 238,
   "id": "a63239aa",
   "metadata": {},
   "outputs": [],
   "source": [
    "세분류통신 = category_company['10차표준(세분류)'].str.contains(r'통신')\n",
    "세분류정보서비스업 = category_company['10차표준(세분류)'].str.contains(r'정보 서비스업')\n",
    "세분류광고 = category_company['10차표준(세분류)'].str.contains(r'광고')\n",
    "세세분류통신 = category_company['10차표준(세세분류)'].str.contains(r'통신')\n",
    "주요상품통신 = category_company['주요상품'].str.contains(r'통신')\n",
    "통신서비스 = 세분류통신 | 세세분류통신 | 주요상품통신 | 세분류광고 | 세분류정보서비스업\n",
    "category_company.loc[통신서비스, 'Industry'] = '유선통신, 무선통신'"
   ]
  },
  {
   "cell_type": "code",
   "execution_count": 232,
   "id": "5f9bfffe",
   "metadata": {},
   "outputs": [],
   "source": [
    "세분류유틸리티 = category_company['10차표준(세분류)'].str.contains(r'전력|가스')\n",
    "세세분류유틸리티 = category_company['10차표준(세세분류)'].str.contains(r'전력|가스')\n",
    "주요상품유틸리티 = category_company['주요상품'].str.contains(r'전력|가스')\n",
    "유틸리티 = 세분류유틸리티 | 세세분류유틸리티 | 주요상품유틸리티\n",
    "category_company.loc[유틸리티, 'Industry'] = '유틸리티'"
   ]
  },
  {
   "cell_type": "code",
   "execution_count": 233,
   "id": "7b542924",
   "metadata": {},
   "outputs": [],
   "source": [
    "세분류부동산 = category_company['10차표준(세분류)'].str.contains(r'부동산')\n",
    "세분류골프장 = category_company['10차표준(세분류)'].str.contains(r'골프장|스키장')\n",
    "세세분류부동산 = category_company['10차표준(세세분류)'].str.contains(r'부동산')\n",
    "주요상품부동산 = category_company['주요상품'].str.contains(r'부동산')\n",
    "부동산 = 세분류부동산 | 세세분류부동산 | 주요상품부동산 | 세분류골프장\n",
    "category_company.loc[부동산, 'Industry'] = '부동산'"
   ]
  },
  {
   "cell_type": "code",
   "execution_count": 237,
   "id": "bebb5027",
   "metadata": {},
   "outputs": [],
   "source": [
    "category_company.to_excel('category_company_workinginprogress.xlsx')"
   ]
  },
  {
   "cell_type": "code",
   "execution_count": null,
   "id": "c78f5da8",
   "metadata": {},
   "outputs": [
    {
     "data": {
      "text/html": [
       "<div>\n",
       "<style scoped>\n",
       "    .dataframe tbody tr th:only-of-type {\n",
       "        vertical-align: middle;\n",
       "    }\n",
       "\n",
       "    .dataframe tbody tr th {\n",
       "        vertical-align: top;\n",
       "    }\n",
       "\n",
       "    .dataframe thead th {\n",
       "        text-align: right;\n",
       "    }\n",
       "</style>\n",
       "<table border=\"1\" class=\"dataframe\">\n",
       "  <thead>\n",
       "    <tr style=\"text-align: right;\">\n",
       "      <th></th>\n",
       "      <th>Industry</th>\n",
       "      <th>count</th>\n",
       "    </tr>\n",
       "  </thead>\n",
       "  <tbody>\n",
       "    <tr>\n",
       "      <th>0</th>\n",
       "      <td>건축자재, 건설, 전기장비, 복합 산업, 기계, 무역, 조선</td>\n",
       "      <td>368</td>\n",
       "    </tr>\n",
       "    <tr>\n",
       "      <th>1</th>\n",
       "      <td>제약 및 바이오</td>\n",
       "      <td>214</td>\n",
       "    </tr>\n",
       "    <tr>\n",
       "      <th>2</th>\n",
       "      <td>화학, 건축소재, 용기 및 포장, 금속 및 광물, 종이 및 목재</td>\n",
       "      <td>172</td>\n",
       "    </tr>\n",
       "    <tr>\n",
       "      <th>3</th>\n",
       "      <td>인터넷 서비스, IT 서비스, 일반 소프트웨어, 게임 소프트웨어</td>\n",
       "      <td>169</td>\n",
       "    </tr>\n",
       "    <tr>\n",
       "      <th>4</th>\n",
       "      <td>반도체 및 관련 장비</td>\n",
       "      <td>146</td>\n",
       "    </tr>\n",
       "    <tr>\n",
       "      <th>5</th>\n",
       "      <td>통신서비스</td>\n",
       "      <td>133</td>\n",
       "    </tr>\n",
       "    <tr>\n",
       "      <th>6</th>\n",
       "      <td>자동차</td>\n",
       "      <td>106</td>\n",
       "    </tr>\n",
       "    <tr>\n",
       "      <th>7</th>\n",
       "      <td>도매 및 소매, 온라인 쇼핑, 백화점</td>\n",
       "      <td>91</td>\n",
       "    </tr>\n",
       "    <tr>\n",
       "      <th>8</th>\n",
       "      <td>디스플레이 및 관련 부품</td>\n",
       "      <td>86</td>\n",
       "    </tr>\n",
       "    <tr>\n",
       "      <th>9</th>\n",
       "      <td>IT 하드웨어</td>\n",
       "      <td>74</td>\n",
       "    </tr>\n",
       "    <tr>\n",
       "      <th>10</th>\n",
       "      <td>부동산</td>\n",
       "      <td>73</td>\n",
       "    </tr>\n",
       "    <tr>\n",
       "      <th>11</th>\n",
       "      <td>유틸리티</td>\n",
       "      <td>53</td>\n",
       "    </tr>\n",
       "    <tr>\n",
       "      <th>12</th>\n",
       "      <td>생활용품</td>\n",
       "      <td>43</td>\n",
       "    </tr>\n",
       "    <tr>\n",
       "      <th>13</th>\n",
       "      <td>내구소비재, 레저용품, 섬유 및 의복</td>\n",
       "      <td>36</td>\n",
       "    </tr>\n",
       "    <tr>\n",
       "      <th>14</th>\n",
       "      <td>운송</td>\n",
       "      <td>29</td>\n",
       "    </tr>\n",
       "    <tr>\n",
       "      <th>15</th>\n",
       "      <td>증권</td>\n",
       "      <td>18</td>\n",
       "    </tr>\n",
       "    <tr>\n",
       "      <th>16</th>\n",
       "      <td>의료장비 및 서비스</td>\n",
       "      <td>13</td>\n",
       "    </tr>\n",
       "    <tr>\n",
       "      <th>17</th>\n",
       "      <td>보험</td>\n",
       "      <td>11</td>\n",
       "    </tr>\n",
       "    <tr>\n",
       "      <th>18</th>\n",
       "      <td>음료, 식료품, 담배</td>\n",
       "      <td>10</td>\n",
       "    </tr>\n",
       "    <tr>\n",
       "      <th>19</th>\n",
       "      <td>미디어</td>\n",
       "      <td>6</td>\n",
       "    </tr>\n",
       "    <tr>\n",
       "      <th>20</th>\n",
       "      <td>은행</td>\n",
       "      <td>6</td>\n",
       "    </tr>\n",
       "    <tr>\n",
       "      <th>21</th>\n",
       "      <td>에너지 시설 및 서비스, 석유 및 가스</td>\n",
       "      <td>3</td>\n",
       "    </tr>\n",
       "    <tr>\n",
       "      <th>22</th>\n",
       "      <td>호텔 및 레저, 교육</td>\n",
       "      <td>2</td>\n",
       "    </tr>\n",
       "  </tbody>\n",
       "</table>\n",
       "</div>"
      ],
      "text/plain": [
       "                               Industry  count\n",
       "0     건축자재, 건설, 전기장비, 복합 산업, 기계, 무역, 조선    368\n",
       "1                              제약 및 바이오    214\n",
       "2   화학, 건축소재, 용기 및 포장, 금속 및 광물, 종이 및 목재    172\n",
       "3   인터넷 서비스, IT 서비스, 일반 소프트웨어, 게임 소프트웨어    169\n",
       "4                           반도체 및 관련 장비    146\n",
       "5                                 통신서비스    133\n",
       "6                                   자동차    106\n",
       "7                  도매 및 소매, 온라인 쇼핑, 백화점     91\n",
       "8                         디스플레이 및 관련 부품     86\n",
       "9                               IT 하드웨어     74\n",
       "10                                  부동산     73\n",
       "11                                 유틸리티     53\n",
       "12                                 생활용품     43\n",
       "13                 내구소비재, 레저용품, 섬유 및 의복     36\n",
       "14                                   운송     29\n",
       "15                                   증권     18\n",
       "16                           의료장비 및 서비스     13\n",
       "17                                   보험     11\n",
       "18                          음료, 식료품, 담배     10\n",
       "19                                  미디어      6\n",
       "20                                   은행      6\n",
       "21                에너지 시설 및 서비스, 석유 및 가스      3\n",
       "22                          호텔 및 레저, 교육      2"
      ]
     },
     "execution_count": 196,
     "metadata": {},
     "output_type": "execute_result"
    }
   ],
   "source": [
    "리스트 = category_company['Industry'].value_counts().reset_index()\n",
    "리스트"
   ]
  },
  {
   "cell_type": "code",
   "execution_count": null,
   "id": "72452217",
   "metadata": {},
   "outputs": [],
   "source": [
    "인더스트리그룹에너지 = category_company['Industry'].str.contains('에너지 시설 및 서비스, 석유 및 가스')\n",
    "인더스트리그룹소재 = category_company['Industry'].str.contains('화학, 건축소재, 용기 및 포장, 금속 및 광물, 종이 및 목재')\n",
    "인더스트리그룹자본재 = category_company['Industry'].str.contains('건축자재, 건설, 전기장비, 복합 산업, 기계, 무역, 조선')\n",
    "인더스트리그룹상업서비스 = category_company['Industry'].str.contains('상업서비스')\n",
    "인더스트리그룹운송 = category_company['Industry'].str.contains('운송')\n",
    "인더스트리그룹자동차및부품 = category_company['Industry'].str.contains('자동차')\n",
    "인더스트리그룹내구소비재및의류 = category_company['Industry'].str.contains('내구소비재, 레저용품, 섬유 및 의복')\n",
    "인더스트리그룹소비자서비스 = category_company['Industry'].str.contains('호텔 및 레저, 교육')\n",
    "인더스트리그룹미디어 = category_company['Industry'].str.contains('미디어')\n",
    "인더스트리그룹유통 = category_company['Industry'].str.contains('도매 및 소매, 온라인 쇼핑, 백화점')\n",
    "인더스트리그룹음식료및담배 = category_company['Industry'].str.contains('음료, 식료품, 담배')\n",
    "인더스트리그룹생활용품 = category_company['Industry'].str.contains('생활용품')\n",
    "인더스트리그룹의료장비및서비스 = category_company['Industry'].str.contains('의료장비 및 서비스')\n",
    "인더스트리그룹제약및바이오 = category_company['Industry'].str.contains('제약 및 바이오')\n",
    "인더스트리그룹은행 = category_company['Industry'].str.contains('은행')\n",
    "인더스트리그룹보험 = category_company['Industry'].str.contains('보험')\n",
    "인더스트리그룹증권 = category_company['Industry'].str.contains('증권')\n",
    "인더스트리그룹소프트웨어 = category_company['Industry'].str.contains('인터넷 서비스, IT 서비스, 일반 소프트웨어, 게임 소프트웨어')\n",
    "인더스트리IT하드웨어 = category_company['Industry'].str.contains('IT 하드웨어')\n",
    "인더스트리그룹반도체및관련장비 = category_company['Industry'].str.contains('반도체 및 관련 장비')\n",
    "인더스트리그룹디스플레이및관련부품 = category_company['Industry'].str.contains('디스플레이 및 관련 부품')\n",
    "인더스트리그룹통신서비스 = category_company['Industry'].str.contains('통신')\n",
    "인더스트리그룹유틸리티 = category_company['Industry'].str.contains('유틸리티')\n",
    "인더스트리그룹부동산 = category_company['Industry'].str.contains('부동산')"
   ]
  },
  {
   "cell_type": "code",
   "execution_count": null,
   "id": "1e4887d0",
   "metadata": {},
   "outputs": [],
   "source": [
    "category_company.loc[인더스트리그룹에너지,'Industry Group'] = '에너지'\n",
    "category_company.loc[인더스트리그룹소재,'Industry Group'] = '소재'\n",
    "category_company.loc[인더스트리그룹자본재,'Industry Group'] = '자본재'\n",
    "category_company.loc[인더스트리그룹상업서비스,'Industry Group'] = '상업서비스'\n",
    "category_company.loc[인더스트리그룹운송,'Industry Group'] = '운송'\n",
    "category_company.loc[인더스트리그룹자동차및부품,'Industry Group'] = '자동차 및 부품'\n",
    "category_company.loc[인더스트리그룹내구소비재및의류,'Industry Group'] = '내구 소비재 및 의류'\n",
    "category_company.loc[인더스트리그룹소비자서비스,'Industry Group'] = '소비자 서비스'\n",
    "category_company.loc[인더스트리그룹미디어,'Industry Group'] = '미디어'\n",
    "category_company.loc[인더스트리그룹유통,'Industry Group'] = '유통'\n",
    "category_company.loc[인더스트리그룹음식료및담배,'Industry Group'] = '음식료 및 담배'\n",
    "category_company.loc[인더스트리그룹생활용품,'Industry Group'] = '생활용품'\n",
    "category_company.loc[인더스트리그룹의료장비및서비스,'Industry Group'] = '의료장비 및 서비스'\n",
    "category_company.loc[인더스트리그룹제약및바이오,'Industry Group'] = '제약 및 바이오'\n",
    "category_company.loc[인더스트리그룹은행,'Industry Group'] = '은행'\n",
    "category_company.loc[인더스트리그룹보험,'Industry Group'] = '보험'\n",
    "category_company.loc[인더스트리그룹증권,'Industry Group'] = '증권'\n",
    "category_company.loc[인더스트리그룹소프트웨어,'Industry Group'] = '소프트웨어'\n",
    "category_company.loc[인더스트리IT하드웨어,'Industry Group'] = '하드웨어'\n",
    "category_company.loc[인더스트리그룹반도체및관련장비,'Industry Group'] = '반도체'\n",
    "category_company.loc[인더스트리그룹디스플레이및관련부품,'Industry Group'] = '디스플레이'\n",
    "category_company.loc[인더스트리그룹통신서비스,'Industry Group'] = '통신서비스'\n",
    "category_company.loc[인더스트리그룹유틸리티,'Industry Group'] = '유틸리티'\n",
    "category_company.loc[인더스트리그룹부동산,'Industry Group'] = '부동산'"
   ]
  },
  {
   "cell_type": "code",
   "execution_count": null,
   "id": "c0a7fe2d",
   "metadata": {},
   "outputs": [],
   "source": [
    "섹터에너지 = category_company['Industry Group'] == '에너지'\n",
    "섹터소재 = category_company['Industry Group'] == '소재'\n",
    "섹터자본재 = category_company['Industry Group'] == '자본재'\n",
    "섹터상업서비스 = category_company['Industry Group'] == '상업서비스'\n",
    "섹터운송 = category_company['Industry Group'] == '운송'\n",
    "섹터자동차및부품 = category_company['Industry Group'] == '자동차 및 부품'\n",
    "섹터내구소비재및의류 = category_company['Industry Group'] == '내구 소비재 및 의류'\n",
    "섹터소비자서비스 = category_company['Industry Group'] == '소비자 서비스'\n",
    "섹터미디어 = category_company['Industry Group'] == '미디어'\n",
    "섹터유통 = category_company['Industry Group'] == '유통'\n",
    "섹터음식료및담배 = category_company['Industry Group'] == '음식료 및 담배'\n",
    "섹터생활용품 = category_company['Industry Group'] == '생활용품'\n",
    "섹터의료장비및서비스 = category_company['Industry Group'] == '의료장비 및 서비스'\n",
    "섹터제약및바이오 = category_company['Industry Group'] == '제약 및 바이오'\n",
    "섹터은행 = category_company['Industry Group'] == '은행'\n",
    "섹터보험 = category_company['Industry Group'] == '보험'\n",
    "섹터증권 = category_company['Industry Group'] == '증권'\n",
    "섹터소프트웨어 = category_company['Industry Group'] == '소프트웨어'\n",
    "섹터IT하드웨어 = category_company['Industry Group'] == '하드웨어'\n",
    "섹터반도체 = category_company['Industry Group'] == '반도체'\n",
    "섹터디스플레이 = category_company['Industry Group'] == '디스플레이'\n",
    "섹터통신서비스 = category_company['Industry Group'] == '통신서비스'\n",
    "섹터유틸리티 = category_company['Industry Group'] == '유틸리티'\n",
    "섹터부동산 = category_company['Industry Group'] == '부동산'\n"
   ]
  },
  {
   "cell_type": "code",
   "execution_count": 236,
   "id": "05ef4595",
   "metadata": {},
   "outputs": [],
   "source": [
    "category_company.loc[섹터에너지,'Sector'] = '에너지'\n",
    "category_company.loc[섹터소재,'Sector'] = '소재'\n",
    "category_company.loc[섹터자본재,'Sector'] = '산업재'\n",
    "category_company.loc[섹터상업서비스,'Sector'] = '산업재'\n",
    "category_company.loc[섹터운송,'Sector'] = '산업재'\n",
    "category_company.loc[섹터자동차및부품,'Sector'] = '경기소비재'\n",
    "category_company.loc[섹터내구소비재및의류,'Sector'] = '경기소비재'\n",
    "category_company.loc[섹터소비자서비스,'Sector'] = '경기소비재'\n",
    "category_company.loc[섹터미디어,'Sector'] = '경기소비재'\n",
    "category_company.loc[섹터유통,'Sector'] = '경기소비재'\n",
    "category_company.loc[섹터음식료및담배,'Sector'] = '필수소비재'\n",
    "category_company.loc[섹터생활용품,'Sector'] = '필수소비재'\n",
    "category_company.loc[섹터의료장비및서비스,'Sector'] = '의료'\n",
    "category_company.loc[섹터제약및바이오,'Sector'] = '의료'\n",
    "category_company.loc[섹터은행,'Sector'] = '금융'\n",
    "category_company.loc[섹터보험,'Sector'] = '금융'\n",
    "category_company.loc[섹터증권,'Sector'] = '금융'\n",
    "category_company.loc[섹터소프트웨어,'Sector'] = 'IT'\n",
    "category_company.loc[섹터IT하드웨어,'Sector'] = 'IT'\n",
    "category_company.loc[섹터반도체,'Sector'] = 'IT'\n",
    "category_company.loc[섹터디스플레이,'Sector'] = 'IT'\n",
    "category_company.loc[섹터통신서비스,'Sector'] = '통신서비스'\n",
    "category_company.loc[섹터유틸리티,'Sector'] = '유틸리티'\n",
    "category_company.loc[섹터부동산,'Sector'] = '부동산'\n",
    "\n"
   ]
  },
  {
   "cell_type": "code",
   "execution_count": null,
   "id": "8dbd14e0",
   "metadata": {},
   "outputs": [],
   "source": []
  },
  {
   "cell_type": "code",
   "execution_count": null,
   "id": "755723ff",
   "metadata": {},
   "outputs": [],
   "source": []
  },
  {
   "cell_type": "code",
   "execution_count": null,
   "id": "93870cdc",
   "metadata": {},
   "outputs": [],
   "source": []
  },
  {
   "cell_type": "code",
   "execution_count": null,
   "id": "ac7b9b8c",
   "metadata": {},
   "outputs": [],
   "source": []
  },
  {
   "cell_type": "code",
   "execution_count": null,
   "id": "a2f86353",
   "metadata": {},
   "outputs": [],
   "source": []
  },
  {
   "cell_type": "code",
   "execution_count": null,
   "id": "7ef55daf",
   "metadata": {},
   "outputs": [],
   "source": []
  },
  {
   "cell_type": "code",
   "execution_count": null,
   "id": "65c5c2af",
   "metadata": {},
   "outputs": [],
   "source": []
  },
  {
   "cell_type": "code",
   "execution_count": null,
   "id": "9ca09101",
   "metadata": {},
   "outputs": [],
   "source": []
  },
  {
   "cell_type": "code",
   "execution_count": null,
   "id": "b6ae6bd7",
   "metadata": {},
   "outputs": [],
   "source": []
  }
 ],
 "metadata": {
  "kernelspec": {
   "display_name": "Python 3",
   "language": "python",
   "name": "python3"
  },
  "language_info": {
   "codemirror_mode": {
    "name": "ipython",
    "version": 3
   },
   "file_extension": ".py",
   "mimetype": "text/x-python",
   "name": "python",
   "nbconvert_exporter": "python",
   "pygments_lexer": "ipython3",
   "version": "3.11.9"
  }
 },
 "nbformat": 4,
 "nbformat_minor": 5
}
