{
 "cells": [
  {
   "cell_type": "code",
   "execution_count": 1,
   "id": "4ab85c70",
   "metadata": {},
   "outputs": [],
   "source": [
    "import requests\n",
    "import pandas as pd\n",
    "from bs4 import BeautifulSoup"
   ]
  },
  {
   "cell_type": "code",
   "execution_count": 5,
   "id": "5915c7f0",
   "metadata": {},
   "outputs": [],
   "source": [
    "infile = 'Template_ComparableCompany_copy2.xlsx'\n",
    "df_codes = pd.read_excel(infile, sheet_name=0, usecols=['symbol'])\n",
    "symbols = df_codes['symbol'].tolist()\n",
    "\n",
    "symbol = symbols[1]\n",
    "데이터 = requests.get(f'https://comp.fnguide.com/SVO2/ASP/SVD_Main.asp?pGB=1&gicode={symbol}&cID=AA&MenuYn=Y&ReportGB=D&NewMenuID=Y&stkGb=701')"
   ]
  },
  {
   "cell_type": "code",
   "execution_count": 6,
   "id": "041ecf13",
   "metadata": {},
   "outputs": [],
   "source": [
    "soup = BeautifulSoup(데이터.text, 'html.parser')"
   ]
  },
  {
   "cell_type": "code",
   "execution_count": 7,
   "id": "a99a39fe",
   "metadata": {},
   "outputs": [
    {
     "name": "stdout",
     "output_type": "stream",
     "text": [
      "\n",
      "동사는 글로벌 반도체 기업으로 4개 생산기지와 3개 연구개발법인, 미국·중국·싱가포르·대만·홍콩 판매법인 운영함. DRAM 및 NAND 중심 메모리 반도체와 Foundry 사업 영위하며, 휘발성 DRAM과 비휘발성 NAND Flash 주력 생산함. 생산기술 고도화로 투자 절감 및 부가가치 증대 위해 선행기술·응용기술 개발, 컨트롤러·펌웨어 결합 응용복합제품 개발 추진 중.2024년 결산 전년동기 대비 연결기준 매출액은 102% 증가, 영업이익 흑자전환, 당기순이익 흑자전환. 데이터센터 중심의 AI향 메모리 수요 강세와 전반적인 반도체 업황 개선으로 실적이 크게 개선됨. 생성형 AI의 상업화와 고성능 HBM3E 수요 급증에 따라 반도체 시장의 성장세가 지속될 전망이며, AI 서버 확대로 고용량 QLC 엔터프라이즈 SSD 시장도 확대될 것으로 예상됨.\n",
      "\n"
     ]
    }
   ],
   "source": [
    "content = soup.select('#bizSummaryContent')[0].text\n",
    "print(content)"
   ]
  },
  {
   "cell_type": "code",
   "execution_count": 28,
   "id": "9c41de67",
   "metadata": {},
   "outputs": [
    {
     "name": "stdout",
     "output_type": "stream",
     "text": [
      "12.08\n"
     ]
    }
   ],
   "source": [
    "# 1) div 찾기\n",
    "corp2 = soup.find('div', id='corp_group2')\n",
    "# 2) 그 안의 모든 <dd> 태그를 리스트로 꺼내기\n",
    "dd_list = corp2.find_all('dd')\n",
    "# 3) 3번째 <dl>의 <dd>이므로 인덱스 2를 가져오면 값이 나옴\n",
    "industry_per = dd_list[5].get_text(strip=True)\n",
    "print(industry_per)"
   ]
  },
  {
   "cell_type": "code",
   "execution_count": 32,
   "id": "9d5c4d7b",
   "metadata": {},
   "outputs": [
    {
     "data": {
      "text/plain": [
       "'12.08'"
      ]
     },
     "execution_count": 32,
     "metadata": {},
     "output_type": "execute_result"
    }
   ],
   "source": [
    "dd_list[5].get_text(strip=True)"
   ]
  },
  {
   "cell_type": "code",
   "execution_count": 40,
   "id": "45a14202",
   "metadata": {},
   "outputs": [],
   "source": [
    "# dd_list2 = soup.select('#corp_group2 dd')[5].get_text(strip=True)\n",
    "dd_list2 = soup.select('#corp_group2 dd')"
   ]
  },
  {
   "cell_type": "code",
   "execution_count": 42,
   "id": "fc3cc9ea",
   "metadata": {},
   "outputs": [],
   "source": [
    "values = [dd.get_text(strip=True) for dd in dd_list2]"
   ]
  },
  {
   "cell_type": "code",
   "execution_count": 46,
   "id": "68bc2e4f",
   "metadata": {},
   "outputs": [
    {
     "name": "stdout",
     "output_type": "stream",
     "text": [
      "1번째 값 -> 전일자 보통주 수정주가 / 최근 결산 EPS(주당순이익)* EPS = 당기순이익 / 수정평균발행주식수* 최근결산은 2024/12 (연간) 기준임.\n",
      "2번째 값 -> 7.02\n",
      "3번째 값 -> 전일자 보통주 수정주가 / 12개월 Forward EPS\n",
      "4번째 값 -> 4.59\n",
      "5번째 값 -> 시장대표업종||SUM(구성종목 시가총액)/SUM(구성종목 당기순이익)* 전일자 보통주 시가총액 기준* 당기순이익은  최근결산 2024/12 (연간) 기준임.\n",
      "6번째 값 -> 12.08\n",
      "7번째 값 -> 전일자 보통주 수정주가 / 최근 결산기 BPS(주당순자산)* BPS=(지배주주지분-자기주식) / 무상조정기말주식수(우선주 및 자사주 포함)* 최근결산은 2024/12 (연간) 기준임.\n",
      "8번째 값 -> 1.82\n",
      "9번째 값 -> {최근 결산기 보통주 DPS(현금, 무상조정) / 전일자 보통주 수정주가} *100* 최근결산은 2024/12 (연간) 기준임.\n",
      "10번째 값 -> 1.16%\n",
      "업종 PER는 12.08입니다.\n"
     ]
    }
   ],
   "source": [
    "for i, val in enumerate(values, start=1):\n",
    "    print(f\"{i}번째 값 -> {val}\")\n",
    "\n",
    "n = 6\n",
    "print(f\"업종 PER는 {values[n-1]}입니다.\")"
   ]
  },
  {
   "cell_type": "code",
   "execution_count": null,
   "id": "1f25e476",
   "metadata": {},
   "outputs": [],
   "source": []
  }
 ],
 "metadata": {
  "kernelspec": {
   "display_name": "Python 3",
   "language": "python",
   "name": "python3"
  },
  "language_info": {
   "codemirror_mode": {
    "name": "ipython",
    "version": 3
   },
   "file_extension": ".py",
   "mimetype": "text/x-python",
   "name": "python",
   "nbconvert_exporter": "python",
   "pygments_lexer": "ipython3",
   "version": "3.11.9"
  }
 },
 "nbformat": 4,
 "nbformat_minor": 5
}
