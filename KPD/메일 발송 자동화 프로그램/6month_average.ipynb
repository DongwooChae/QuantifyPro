{
 "cells": [
  {
   "cell_type": "code",
   "execution_count": 1,
   "id": "6c03ea1b",
   "metadata": {},
   "outputs": [],
   "source": [
    "import pandas as pd"
   ]
  },
  {
   "cell_type": "code",
   "execution_count": 2,
   "id": "bdfb262d",
   "metadata": {},
   "outputs": [],
   "source": [
    "# 예시 df1 불러오기\n",
    "df1 = pd.DataFrame({\n",
    "    '날짜': ['2024-02-01','2024-03-15','2024-03-30','2024-03-31','2024-04-02','2024-04-05'],\n",
    "    '금액': [1000,2000,3000,4000,5000,6000]\n",
    "})\n",
    "df1['날짜'] = pd.to_datetime(df1['날짜'])"
   ]
  },
  {
   "cell_type": "code",
   "execution_count": 3,
   "id": "8a622122",
   "metadata": {},
   "outputs": [
    {
     "data": {
      "text/html": [
       "<div>\n",
       "<style scoped>\n",
       "    .dataframe tbody tr th:only-of-type {\n",
       "        vertical-align: middle;\n",
       "    }\n",
       "\n",
       "    .dataframe tbody tr th {\n",
       "        vertical-align: top;\n",
       "    }\n",
       "\n",
       "    .dataframe thead th {\n",
       "        text-align: right;\n",
       "    }\n",
       "</style>\n",
       "<table border=\"1\" class=\"dataframe\">\n",
       "  <thead>\n",
       "    <tr style=\"text-align: right;\">\n",
       "      <th></th>\n",
       "      <th>날짜</th>\n",
       "      <th>금액</th>\n",
       "    </tr>\n",
       "  </thead>\n",
       "  <tbody>\n",
       "    <tr>\n",
       "      <th>0</th>\n",
       "      <td>2024-02-01</td>\n",
       "      <td>1000</td>\n",
       "    </tr>\n",
       "    <tr>\n",
       "      <th>1</th>\n",
       "      <td>2024-03-15</td>\n",
       "      <td>2000</td>\n",
       "    </tr>\n",
       "    <tr>\n",
       "      <th>2</th>\n",
       "      <td>2024-03-30</td>\n",
       "      <td>3000</td>\n",
       "    </tr>\n",
       "    <tr>\n",
       "      <th>3</th>\n",
       "      <td>2024-03-31</td>\n",
       "      <td>4000</td>\n",
       "    </tr>\n",
       "    <tr>\n",
       "      <th>4</th>\n",
       "      <td>2024-04-02</td>\n",
       "      <td>5000</td>\n",
       "    </tr>\n",
       "    <tr>\n",
       "      <th>5</th>\n",
       "      <td>2024-04-05</td>\n",
       "      <td>6000</td>\n",
       "    </tr>\n",
       "  </tbody>\n",
       "</table>\n",
       "</div>"
      ],
      "text/plain": [
       "          날짜    금액\n",
       "0 2024-02-01  1000\n",
       "1 2024-03-15  2000\n",
       "2 2024-03-30  3000\n",
       "3 2024-03-31  4000\n",
       "4 2024-04-02  5000\n",
       "5 2024-04-05  6000"
      ]
     },
     "execution_count": 3,
     "metadata": {},
     "output_type": "execute_result"
    }
   ],
   "source": [
    "df1"
   ]
  },
  {
   "cell_type": "code",
   "execution_count": 4,
   "id": "8ab9cc6b",
   "metadata": {},
   "outputs": [],
   "source": [
    "# 분기말 spot과 spot-2개월\n",
    "spot_strs = ['03-31','06-30','09-30','12-31']\n",
    "spot_dates = [pd.to_datetime(f'2024-{s}') for s in spot_strs]\n",
    "origins = []\n",
    "for d in spot_dates:\n",
    "    origins.append(d) # spot\n",
    "    origins.append(d - pd.DateOffset(months=2)) # spot - 2 개월\n",
    "    \n"
   ]
  },
  {
   "cell_type": "code",
   "execution_count": 5,
   "id": "9a2f487b",
   "metadata": {},
   "outputs": [
    {
     "data": {
      "text/plain": [
       "[Timestamp('2024-03-31 00:00:00'),\n",
       " Timestamp('2024-01-31 00:00:00'),\n",
       " Timestamp('2024-06-30 00:00:00'),\n",
       " Timestamp('2024-04-30 00:00:00'),\n",
       " Timestamp('2024-09-30 00:00:00'),\n",
       " Timestamp('2024-07-30 00:00:00'),\n",
       " Timestamp('2024-12-31 00:00:00'),\n",
       " Timestamp('2024-10-31 00:00:00')]"
      ]
     },
     "execution_count": 5,
     "metadata": {},
     "output_type": "execute_result"
    }
   ],
   "source": [
    "origins"
   ]
  },
  {
   "cell_type": "code",
   "execution_count": 7,
   "id": "60991f7a",
   "metadata": {},
   "outputs": [],
   "source": [
    "# 1) 날짜를 인덱스로 설정\n",
    "df_idx = df1.set_index('날짜')\n",
    "\n",
    "# 2) 각 origin (Spot/Spot-2개월)을 기준으로 6개월 평균 구하기\n",
    "results = {}\n",
    "for o in origins:\n",
    "    ser = df_idx.resample(\n",
    "        '6ME',\n",
    "        origin=o,\n",
    "        label='right',\n",
    "        closed='right'\n",
    "    )['금액'].mean()\n",
    "    results[o.strftime('%Y-%m-%d')] = ser"
   ]
  },
  {
   "cell_type": "code",
   "execution_count": 8,
   "id": "156d5db3",
   "metadata": {},
   "outputs": [
    {
     "data": {
      "text/html": [
       "<div>\n",
       "<style scoped>\n",
       "    .dataframe tbody tr th:only-of-type {\n",
       "        vertical-align: middle;\n",
       "    }\n",
       "\n",
       "    .dataframe tbody tr th {\n",
       "        vertical-align: top;\n",
       "    }\n",
       "\n",
       "    .dataframe thead th {\n",
       "        text-align: right;\n",
       "    }\n",
       "</style>\n",
       "<table border=\"1\" class=\"dataframe\">\n",
       "  <thead>\n",
       "    <tr style=\"text-align: right;\">\n",
       "      <th></th>\n",
       "      <th>2024-03-31</th>\n",
       "      <th>2024-01-31</th>\n",
       "      <th>2024-06-30</th>\n",
       "      <th>2024-04-30</th>\n",
       "      <th>2024-09-30</th>\n",
       "      <th>2024-07-30</th>\n",
       "      <th>2024-12-31</th>\n",
       "      <th>2024-10-31</th>\n",
       "    </tr>\n",
       "    <tr>\n",
       "      <th>날짜</th>\n",
       "      <th></th>\n",
       "      <th></th>\n",
       "      <th></th>\n",
       "      <th></th>\n",
       "      <th></th>\n",
       "      <th></th>\n",
       "      <th></th>\n",
       "      <th></th>\n",
       "    </tr>\n",
       "  </thead>\n",
       "  <tbody>\n",
       "    <tr>\n",
       "      <th>2024-02-29</th>\n",
       "      <td>1000.0</td>\n",
       "      <td>1000.0</td>\n",
       "      <td>1000.0</td>\n",
       "      <td>1000.0</td>\n",
       "      <td>1000.0</td>\n",
       "      <td>1000.0</td>\n",
       "      <td>1000.0</td>\n",
       "      <td>1000.0</td>\n",
       "    </tr>\n",
       "    <tr>\n",
       "      <th>2024-08-31</th>\n",
       "      <td>4000.0</td>\n",
       "      <td>4000.0</td>\n",
       "      <td>4000.0</td>\n",
       "      <td>4000.0</td>\n",
       "      <td>4000.0</td>\n",
       "      <td>4000.0</td>\n",
       "      <td>4000.0</td>\n",
       "      <td>4000.0</td>\n",
       "    </tr>\n",
       "  </tbody>\n",
       "</table>\n",
       "</div>"
      ],
      "text/plain": [
       "            2024-03-31  2024-01-31  2024-06-30  2024-04-30  2024-09-30  \\\n",
       "날짜                                                                       \n",
       "2024-02-29      1000.0      1000.0      1000.0      1000.0      1000.0   \n",
       "2024-08-31      4000.0      4000.0      4000.0      4000.0      4000.0   \n",
       "\n",
       "            2024-07-30  2024-12-31  2024-10-31  \n",
       "날짜                                              \n",
       "2024-02-29      1000.0      1000.0      1000.0  \n",
       "2024-08-31      4000.0      4000.0      4000.0  "
      ]
     },
     "execution_count": 8,
     "metadata": {},
     "output_type": "execute_result"
    }
   ],
   "source": [
    "pd.DataFrame(results)"
   ]
  },
  {
   "cell_type": "code",
   "execution_count": null,
   "id": "66880a4c",
   "metadata": {},
   "outputs": [],
   "source": []
  }
 ],
 "metadata": {
  "kernelspec": {
   "display_name": ".venv",
   "language": "python",
   "name": "python3"
  },
  "language_info": {
   "codemirror_mode": {
    "name": "ipython",
    "version": 3
   },
   "file_extension": ".py",
   "mimetype": "text/x-python",
   "name": "python",
   "nbconvert_exporter": "python",
   "pygments_lexer": "ipython3",
   "version": "3.11.9"
  }
 },
 "nbformat": 4,
 "nbformat_minor": 5
}
