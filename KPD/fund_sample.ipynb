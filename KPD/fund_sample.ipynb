{
 "cells": [
  {
   "cell_type": "markdown",
   "metadata": {},
   "source": [
    "# import 및 데이터프레임 불러오기(인덱스 설정)"
   ]
  },
  {
   "cell_type": "code",
   "execution_count": 49,
   "metadata": {},
   "outputs": [],
   "source": [
    "import pandas as pd\n",
    "import numpy as np\n",
    "import ipywidgets as widgets\n",
    "from IPython.display import display\n",
    "import os\n",
    "import import_ipynb\n",
    "\n",
    "# Raw_data 추출\n",
    "\n",
    "industry_url = 'https://github.com/DongwooChae/QuantifyPro/blob/master/KPD/00.%ED%91%9C%EC%A4%80%EC%82%B0%EC%97%85%EB%B6%84%EB%A5%98.xlsx?raw=true'\n",
    "price_url = 'https://github.com/DongwooChae/QuantifyPro/blob/master/KPD/01_%EC%A3%BC%EA%B0%80.xlsx?raw=true'\n",
    "value_per_stock_url = 'https://github.com/DongwooChae/QuantifyPro/blob/master/KPD/02_%EC%A3%BC%EB%8B%B9%EA%B0%80%EC%B9%98.xlsx?raw=true'\n",
    "fsdata_url = 'https://github.com/DongwooChae/QuantifyPro/blob/master/KPD/03_%EC%9E%AC%EB%AC%B4%EB%8D%B0%EC%9D%B4%ED%84%B0.xlsx?raw=true'\n",
    "fund_sample_url ='https://github.com/DongwooChae/QuantifyPro/blob/master/KPD/fund_valuation_sample.xlsx?raw=true'\n",
    "\n",
    "industry = pd.read_excel(industry_url)\n",
    "price = pd.read_excel(price_url)\n",
    "value_per_stock = pd.read_excel(value_per_stock_url)\n",
    "fsdata = pd.read_excel(fsdata_url)\n",
    "fund_sample = pd.read_excel(fund_sample_url, sheet_name=0, index_col='펀드명')\n",
    "fund_investment = pd.read_excel(fund_sample_url, sheet_name=1, index_col='종목명')"
   ]
  },
  {
   "cell_type": "markdown",
   "metadata": {},
   "source": [
    "# 데이터 전처리(dtype 설정)"
   ]
  },
  {
   "cell_type": "markdown",
   "metadata": {},
   "source": [
    "## fund_sample 데이터의 데이터타입 변환( int -> float, 좌당가치 소수점 3자리까지 표시 )"
   ]
  },
  {
   "cell_type": "code",
   "execution_count": 32,
   "metadata": {},
   "outputs": [],
   "source": [
    "int_cols = fund_sample.select_dtypes(include='int64').columns\n",
    "fund_sample[int_cols] = fund_sample[int_cols].astype(float)\n",
    "\n",
    "pd.options.display.float_format = '{:,.0f}'.format\n",
    "\n",
    "fund_sample['좌당가치'] = fund_sample['좌당가치'].round(3).apply(lambda x: f\"{x:,.3f}\")\n"
   ]
  },
  {
   "cell_type": "code",
   "execution_count": null,
   "metadata": {},
   "outputs": [
    {
     "data": {
      "text/html": [
       "<div>\n",
       "<style scoped>\n",
       "    .dataframe tbody tr th:only-of-type {\n",
       "        vertical-align: middle;\n",
       "    }\n",
       "\n",
       "    .dataframe tbody tr th {\n",
       "        vertical-align: top;\n",
       "    }\n",
       "\n",
       "    .dataframe thead th {\n",
       "        text-align: right;\n",
       "    }\n",
       "</style>\n",
       "<table border=\"1\" class=\"dataframe\">\n",
       "  <thead>\n",
       "    <tr style=\"text-align: right;\">\n",
       "      <th></th>\n",
       "      <th>투자자산(장부가)</th>\n",
       "      <th>순자산가치(장부가)</th>\n",
       "      <th>투자자산(공정가치)</th>\n",
       "      <th>순자산가치(공정가치)</th>\n",
       "      <th>출자좌수</th>\n",
       "      <th>좌당가치</th>\n",
       "      <th>좌당</th>\n",
       "    </tr>\n",
       "    <tr>\n",
       "      <th>펀드명</th>\n",
       "      <th></th>\n",
       "      <th></th>\n",
       "      <th></th>\n",
       "      <th></th>\n",
       "      <th></th>\n",
       "      <th></th>\n",
       "      <th></th>\n",
       "    </tr>\n",
       "  </thead>\n",
       "  <tbody>\n",
       "    <tr>\n",
       "      <th>그로스엑셀러레이션펀드</th>\n",
       "      <td>21,300,000,000</td>\n",
       "      <td>16,112,679,663</td>\n",
       "      <td>0</td>\n",
       "      <td>0</td>\n",
       "      <td>25,343</td>\n",
       "      <td>0.000</td>\n",
       "      <td>1,000,000</td>\n",
       "    </tr>\n",
       "    <tr>\n",
       "      <th>해시드벤처투자조합2호</th>\n",
       "      <td>25,012,310,030</td>\n",
       "      <td>19,527,518,260</td>\n",
       "      <td>0</td>\n",
       "      <td>15,760,463,526</td>\n",
       "      <td>16,802,100</td>\n",
       "      <td>938.006</td>\n",
       "      <td>1,000</td>\n",
       "    </tr>\n",
       "    <tr>\n",
       "      <th>스틱이노베이션펀드</th>\n",
       "      <td>15,123,042,130</td>\n",
       "      <td>15,309,153,151</td>\n",
       "      <td>0</td>\n",
       "      <td>16,935,933,976</td>\n",
       "      <td>149,430,000</td>\n",
       "      <td>113.337</td>\n",
       "      <td>100</td>\n",
       "    </tr>\n",
       "    <tr>\n",
       "      <th>아주좋은벤처펀드2.0</th>\n",
       "      <td>20,000,000,000</td>\n",
       "      <td>19,590,754,182</td>\n",
       "      <td>0</td>\n",
       "      <td>16,301,038,770</td>\n",
       "      <td>18,343,080,900</td>\n",
       "      <td>0.889</td>\n",
       "      <td>1</td>\n",
       "    </tr>\n",
       "    <tr>\n",
       "      <th>에스비아이성장전략M&amp;A펀드</th>\n",
       "      <td>19,800,000,000</td>\n",
       "      <td>18,912,929,282</td>\n",
       "      <td>0</td>\n",
       "      <td>34,752,439,877</td>\n",
       "      <td>25,343,801,284</td>\n",
       "      <td>1.371</td>\n",
       "      <td>1</td>\n",
       "    </tr>\n",
       "  </tbody>\n",
       "</table>\n",
       "</div>"
      ],
      "text/plain": [
       "                    투자자산(장부가)     순자산가치(장부가)  투자자산(공정가치)    순자산가치(공정가치)  \\\n",
       "펀드명                                                                       \n",
       "그로스엑셀러레이션펀드    21,300,000,000 16,112,679,663           0              0   \n",
       "해시드벤처투자조합2호    25,012,310,030 19,527,518,260           0 15,760,463,526   \n",
       "스틱이노베이션펀드      15,123,042,130 15,309,153,151           0 16,935,933,976   \n",
       "아주좋은벤처펀드2.0    20,000,000,000 19,590,754,182           0 16,301,038,770   \n",
       "에스비아이성장전략M&A펀드 19,800,000,000 18,912,929,282           0 34,752,439,877   \n",
       "\n",
       "                         출자좌수     좌당가치        좌당  \n",
       "펀드명                                               \n",
       "그로스엑셀러레이션펀드            25,343    0.000 1,000,000  \n",
       "해시드벤처투자조합2호        16,802,100  938.006     1,000  \n",
       "스틱이노베이션펀드         149,430,000  113.337       100  \n",
       "아주좋은벤처펀드2.0    18,343,080,900    0.889         1  \n",
       "에스비아이성장전략M&A펀드 25,343,801,284    1.371         1  "
      ]
     },
     "execution_count": 33,
     "metadata": {},
     "output_type": "execute_result"
    }
   ],
   "source": [
    "fund_sample.loc[:,['투자자산(장부가)','순자산가치(장부가)','투자자산(공정가치)','순자산가치(공정가치)','출자좌수','좌당가치','좌당']]"
   ]
  },
  {
   "cell_type": "markdown",
   "metadata": {},
   "source": [
    "## fund_investment 데이터프레임 중 PER, PSR, PBR, 할인율 열의 값을 소수점 2자리까지 보여주도록 변환"
   ]
  },
  {
   "cell_type": "code",
   "execution_count": null,
   "metadata": {},
   "outputs": [],
   "source": [
    "fund_investment_PER = fund_investment[['PER', 'PSR', 'PBR', '할인율']].copy()\n",
    "pd.options.display.float_format = '{:,.2f}'.format\n",
    "\n"
   ]
  },
  {
   "cell_type": "code",
   "execution_count": 41,
   "metadata": {},
   "outputs": [
    {
     "data": {
      "text/html": [
       "<div>\n",
       "<style scoped>\n",
       "    .dataframe tbody tr th:only-of-type {\n",
       "        vertical-align: middle;\n",
       "    }\n",
       "\n",
       "    .dataframe tbody tr th {\n",
       "        vertical-align: top;\n",
       "    }\n",
       "\n",
       "    .dataframe thead th {\n",
       "        text-align: right;\n",
       "    }\n",
       "</style>\n",
       "<table border=\"1\" class=\"dataframe\">\n",
       "  <thead>\n",
       "    <tr style=\"text-align: right;\">\n",
       "      <th></th>\n",
       "      <th>순자산가치(장부가)</th>\n",
       "      <th>투자자산(공정가치)</th>\n",
       "      <th>순자산가치(공정가치)</th>\n",
       "      <th>출자좌수</th>\n",
       "      <th>좌당가치</th>\n",
       "    </tr>\n",
       "    <tr>\n",
       "      <th>펀드명</th>\n",
       "      <th></th>\n",
       "      <th></th>\n",
       "      <th></th>\n",
       "      <th></th>\n",
       "      <th></th>\n",
       "    </tr>\n",
       "  </thead>\n",
       "  <tbody>\n",
       "    <tr>\n",
       "      <th>그로스엑셀러레이션펀드</th>\n",
       "      <td>16,112,679,663</td>\n",
       "      <td>0</td>\n",
       "      <td>0</td>\n",
       "      <td>25,343</td>\n",
       "      <td>0.000</td>\n",
       "    </tr>\n",
       "    <tr>\n",
       "      <th>해시드벤처투자조합2호</th>\n",
       "      <td>19,527,518,260</td>\n",
       "      <td>0</td>\n",
       "      <td>15,760,463,526</td>\n",
       "      <td>16,802,100</td>\n",
       "      <td>938.006</td>\n",
       "    </tr>\n",
       "    <tr>\n",
       "      <th>스틱이노베이션펀드</th>\n",
       "      <td>15,309,153,151</td>\n",
       "      <td>0</td>\n",
       "      <td>16,935,933,976</td>\n",
       "      <td>149,430,000</td>\n",
       "      <td>113.337</td>\n",
       "    </tr>\n",
       "    <tr>\n",
       "      <th>아주좋은벤처펀드2.0</th>\n",
       "      <td>19,590,754,182</td>\n",
       "      <td>0</td>\n",
       "      <td>16,301,038,770</td>\n",
       "      <td>18,343,080,900</td>\n",
       "      <td>0.889</td>\n",
       "    </tr>\n",
       "    <tr>\n",
       "      <th>에스비아이성장전략M&amp;A펀드</th>\n",
       "      <td>18,912,929,282</td>\n",
       "      <td>0</td>\n",
       "      <td>34,752,439,877</td>\n",
       "      <td>25,343,801,284</td>\n",
       "      <td>1.371</td>\n",
       "    </tr>\n",
       "  </tbody>\n",
       "</table>\n",
       "</div>"
      ],
      "text/plain": [
       "                   순자산가치(장부가)  투자자산(공정가치)    순자산가치(공정가치)           출자좌수  \\\n",
       "펀드명                                                                       \n",
       "그로스엑셀러레이션펀드    16,112,679,663           0              0         25,343   \n",
       "해시드벤처투자조합2호    19,527,518,260           0 15,760,463,526     16,802,100   \n",
       "스틱이노베이션펀드      15,309,153,151           0 16,935,933,976    149,430,000   \n",
       "아주좋은벤처펀드2.0    19,590,754,182           0 16,301,038,770 18,343,080,900   \n",
       "에스비아이성장전략M&A펀드 18,912,929,282           0 34,752,439,877 25,343,801,284   \n",
       "\n",
       "                   좌당가치  \n",
       "펀드명                      \n",
       "그로스엑셀러레이션펀드       0.000  \n",
       "해시드벤처투자조합2호     938.006  \n",
       "스틱이노베이션펀드       113.337  \n",
       "아주좋은벤처펀드2.0       0.889  \n",
       "에스비아이성장전략M&A펀드    1.371  "
      ]
     },
     "execution_count": 41,
     "metadata": {},
     "output_type": "execute_result"
    }
   ],
   "source": [
    "fund_sample.loc[:,['순자산가치(장부가)','투자자산(공정가치)','순자산가치(공정가치)','출자좌수','좌당가치']]"
   ]
  },
  {
   "cell_type": "code",
   "execution_count": null,
   "metadata": {},
   "outputs": [],
   "source": [
    "# 판다스에서 문자열 데이터는 기본적으로 object 타입으로 저장됨 따라서 아래와 같이 설정할 필요는 없음\n",
    "# fund_sample['펀드명'] = fund_sample['펀드명'].astype(str)\n",
    "# fund_investment['종목명'] = fund_investment['종목명'].astype(str)\n",
    "# fund_investment['표준산업분류(세분류)'] = fund_investment['표준산업분류(세분류)'].astype(str)"
   ]
  },
  {
   "cell_type": "code",
   "execution_count": 33,
   "metadata": {},
   "outputs": [],
   "source": [
    "# fund_investment"
   ]
  },
  {
   "cell_type": "code",
   "execution_count": 43,
   "metadata": {},
   "outputs": [
    {
     "data": {
      "text/plain": [
       "종목명\n",
       "당근마켓                                               102796.052632\n",
       "루나소프트                                               19115.098379\n",
       "머스트잇                                                12813.941568\n",
       "세미파이브                                               83333.333333\n",
       "스탠다드에너지                                             84745.762712\n",
       "알스퀘어                                                 5154.639175\n",
       "지오인터넷                                                6443.298969\n",
       "토스랩                                                  2143.641103\n",
       "트레바리                                                  826.993053\n",
       "프레시지                                                16782.465680\n",
       "㈜젤라또랩                                                6981.290142\n",
       "㈜프레이저테라퓨틱스                                           5599.104143\n",
       "㈜팜캐드                                                17719.186335\n",
       "㈜하이센스바이오                                            80231.065469\n",
       "㈜휴럼                                                114968.958381\n",
       "㈜생활연구소                                             180962.721679\n",
       "㈜리턴제로                                               10800.069120\n",
       "㈜와탭랩스                                                1333.333333\n",
       "㈜비바리퍼블리카                                             3572.168521\n",
       "노보렉스㈜                                                3633.562490\n",
       "㈜테크랩스                                                3252.349823\n",
       "㈜아이겐코리아                                              7362.143856\n",
       "설로인㈜                                                  143.996360\n",
       "㈜에이프릴바이오                                              143.996360\n",
       "㈜핏펫                                                102944.204241\n",
       "㈜휴이노                                                  410.399861\n",
       "㈜버넥트                                                  425.465651\n",
       "이뮤노바이옴㈜                                               483.754555\n",
       "일리미스테라퓨틱스㈜                                            725.059056\n",
       "업라이즈㈜                                                1910.716060\n",
       "㈜오럼머티리얼                                              1678.094490\n",
       "㈜앤유                                                102796.052632\n",
       "㈜와드                                                  2265.323783\n",
       "㈜마이프랜차이즈                                           102796.052632\n",
       "㈜엔알비                                               326370.757180\n",
       "㈜엘박스                                               102796.052632\n",
       "㈜레신저스                                                5706.980779\n",
       "㈜메디웨일                                              324044.069994\n",
       "㈜에이엘로봇                                                649.276446\n",
       "㈜뉴냅스                                                10314.595152\n",
       "㈜온힐                                                 10091.632019\n",
       "Name: PER연산 테스트, dtype: float64"
      ]
     },
     "execution_count": 43,
     "metadata": {},
     "output_type": "execute_result"
    }
   ],
   "source": [
    "fund_investment['PER연산 테스트'] = fund_investment['EPS'].mul(fund_investment['PER'])\n",
    "fund_investment.loc[:,'PER연산 테스트']"
   ]
  },
  {
   "cell_type": "code",
   "execution_count": 48,
   "metadata": {},
   "outputs": [
    {
     "ename": "AttributeError",
     "evalue": "'Styler' object has no attribute 'dtypes'",
     "output_type": "error",
     "traceback": [
      "\u001b[1;31m---------------------------------------------------------------------------\u001b[0m",
      "\u001b[1;31mAttributeError\u001b[0m                            Traceback (most recent call last)",
      "Cell \u001b[1;32mIn[48], line 1\u001b[0m\n\u001b[1;32m----> 1\u001b[0m \u001b[43mfund_investment\u001b[49m\u001b[38;5;241;43m.\u001b[39;49m\u001b[43mdtypes\u001b[49m\n",
      "\u001b[1;31mAttributeError\u001b[0m: 'Styler' object has no attribute 'dtypes'"
     ]
    }
   ],
   "source": [
    "fund_investment.dtypes"
   ]
  },
  {
   "cell_type": "code",
   "execution_count": 44,
   "metadata": {},
   "outputs": [
    {
     "ename": "AttributeError",
     "evalue": "'Styler' object has no attribute 'iloc'",
     "output_type": "error",
     "traceback": [
      "\u001b[1;31m---------------------------------------------------------------------------\u001b[0m",
      "\u001b[1;31mAttributeError\u001b[0m                            Traceback (most recent call last)",
      "Cell \u001b[1;32mIn[44], line 1\u001b[0m\n\u001b[1;32m----> 1\u001b[0m \u001b[43mfund_investment\u001b[49m\u001b[38;5;241;43m.\u001b[39;49m\u001b[43miloc\u001b[49m[:,\u001b[38;5;241m14\u001b[39m:\u001b[38;5;241m16\u001b[39m]\n",
      "\u001b[1;31mAttributeError\u001b[0m: 'Styler' object has no attribute 'iloc'"
     ]
    }
   ],
   "source": [
    "fund_investment.iloc[:,14:16]"
   ]
  },
  {
   "cell_type": "code",
   "execution_count": 47,
   "metadata": {},
   "outputs": [],
   "source": [
    "fund1 = fund_sample.index[0]\n",
    "fund1_book_value = fund_sample.loc[fund1, '순자산가치(장부가)']"
   ]
  },
  {
   "cell_type": "code",
   "execution_count": 49,
   "metadata": {},
   "outputs": [
    {
     "name": "stdout",
     "output_type": "stream",
     "text": [
      "현재 평가대상 펀드명은 그로스엑셀러레이션펀드 입니다.\n",
      "그로스엑셀러레이션펀드의 순자산가치(장부가)는 16112679663 입니다.\n"
     ]
    }
   ],
   "source": [
    "print(f\"현재 평가대상 펀드명은 {fund1} 입니다.\")\n",
    "print(f\"{fund1}의 순자산가치(장부가)는 {fund1_book_value} 입니다.\")\n"
   ]
  },
  {
   "cell_type": "code",
   "execution_count": 34,
   "metadata": {},
   "outputs": [
    {
     "data": {
      "text/html": [
       "<div>\n",
       "<style scoped>\n",
       "    .dataframe tbody tr th:only-of-type {\n",
       "        vertical-align: middle;\n",
       "    }\n",
       "\n",
       "    .dataframe tbody tr th {\n",
       "        vertical-align: top;\n",
       "    }\n",
       "\n",
       "    .dataframe thead th {\n",
       "        text-align: right;\n",
       "    }\n",
       "</style>\n",
       "<table border=\"1\" class=\"dataframe\">\n",
       "  <thead>\n",
       "    <tr style=\"text-align: right;\">\n",
       "      <th></th>\n",
       "      <th>현금및현금성자산</th>\n",
       "      <th>기타자산</th>\n",
       "      <th>투자자산(장부가)</th>\n",
       "      <th>미지급보수</th>\n",
       "      <th>예수금</th>\n",
       "      <th>미지급배당금</th>\n",
       "      <th>기타유동부채</th>\n",
       "      <th>운용부채</th>\n",
       "      <th>자산총계(장부가)</th>\n",
       "      <th>부채총계</th>\n",
       "      <th>순자산가치(장부가)</th>\n",
       "      <th>투자자산(공정가치)</th>\n",
       "      <th>자산총계(공정가치)</th>\n",
       "      <th>순자산가치(공정가치)</th>\n",
       "      <th>출자좌수</th>\n",
       "      <th>좌당가치</th>\n",
       "    </tr>\n",
       "    <tr>\n",
       "      <th>펀드명</th>\n",
       "      <th></th>\n",
       "      <th></th>\n",
       "      <th></th>\n",
       "      <th></th>\n",
       "      <th></th>\n",
       "      <th></th>\n",
       "      <th></th>\n",
       "      <th></th>\n",
       "      <th></th>\n",
       "      <th></th>\n",
       "      <th></th>\n",
       "      <th></th>\n",
       "      <th></th>\n",
       "      <th></th>\n",
       "      <th></th>\n",
       "      <th></th>\n",
       "    </tr>\n",
       "  </thead>\n",
       "  <tbody>\n",
       "    <tr>\n",
       "      <th>그로스엑셀러레이션펀드</th>\n",
       "      <td>262523061</td>\n",
       "      <td>0</td>\n",
       "      <td>21300000000</td>\n",
       "      <td>0</td>\n",
       "      <td>0</td>\n",
       "      <td>0</td>\n",
       "      <td>5449843398</td>\n",
       "      <td>0</td>\n",
       "      <td>21562523061</td>\n",
       "      <td>5449843398</td>\n",
       "      <td>16112679663</td>\n",
       "      <td>0</td>\n",
       "      <td>0</td>\n",
       "      <td>0</td>\n",
       "      <td>25343</td>\n",
       "      <td>0</td>\n",
       "    </tr>\n",
       "  </tbody>\n",
       "</table>\n",
       "</div>"
      ],
      "text/plain": [
       "              현금및현금성자산  기타자산    투자자산(장부가)  미지급보수  예수금  미지급배당금      기타유동부채  \\\n",
       "펀드명                                                                         \n",
       "그로스엑셀러레이션펀드  262523061     0  21300000000      0    0       0  5449843398   \n",
       "\n",
       "             운용부채    자산총계(장부가)        부채총계   순자산가치(장부가)  투자자산(공정가치)  \\\n",
       "펀드명                                                                   \n",
       "그로스엑셀러레이션펀드     0  21562523061  5449843398  16112679663           0   \n",
       "\n",
       "             자산총계(공정가치)  순자산가치(공정가치)   출자좌수  좌당가치  \n",
       "펀드명                                                \n",
       "그로스엑셀러레이션펀드           0            0  25343     0  "
      ]
     },
     "execution_count": 34,
     "metadata": {},
     "output_type": "execute_result"
    }
   ],
   "source": [
    "fund_sample"
   ]
  },
  {
   "cell_type": "code",
   "execution_count": null,
   "metadata": {},
   "outputs": [],
   "source": []
  }
 ],
 "metadata": {
  "kernelspec": {
   "display_name": ".venv",
   "language": "python",
   "name": "python3"
  },
  "language_info": {
   "codemirror_mode": {
    "name": "ipython",
    "version": 3
   },
   "file_extension": ".py",
   "mimetype": "text/x-python",
   "name": "python",
   "nbconvert_exporter": "python",
   "pygments_lexer": "ipython3",
   "version": "3.11.9"
  }
 },
 "nbformat": 4,
 "nbformat_minor": 2
}
