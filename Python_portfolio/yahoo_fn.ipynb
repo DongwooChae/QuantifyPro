{
 "cells": [
  {
   "cell_type": "markdown",
   "metadata": {},
   "source": [
    "# 패키지 및 라이브러리"
   ]
  },
  {
   "cell_type": "code",
   "execution_count": 42,
   "metadata": {},
   "outputs": [],
   "source": [
    "import os\n",
    "import pandas as pd\n",
    "import numpy as np\n",
    "import yahoo_fin.stock_info as si\n",
    "import yfinance as yf\n",
    "import xlwings as xw\n",
    "import matplotlib.pyplot as plt\n",
    "import openpyxl"
   ]
  },
  {
   "cell_type": "markdown",
   "metadata": {},
   "source": [
    "### 구글번역기 연동, 해외유사기업 Business Summary 번역 요약 제공(추후 구현예정)"
   ]
  },
  {
   "cell_type": "code",
   "execution_count": null,
   "metadata": {},
   "outputs": [],
   "source": [
    "# from googletrans import Translator\n",
    "# from sumy.parsers.plaintext import PlaintextParser\n",
    "# from sumy.nlp.tokenizers import Tokenizer\n",
    "# from sumy.summarizers.lsa import LsaSummarizer\n",
    "# from pandas_datareader import data as pdr"
   ]
  },
  {
   "cell_type": "markdown",
   "metadata": {},
   "source": [
    "# 경로 지정"
   ]
  },
  {
   "cell_type": "code",
   "execution_count": 49,
   "metadata": {},
   "outputs": [],
   "source": [
    "# 엑셀 파일 경로\n",
    "file_path = r\"C:\\Users\\User\\Documents\\GitHub\\QuantifyPro\\Python_portfolio\\해외유사기업 취합_24.3Q_coding.xlsx\"\n",
    "# Github 자료 관리할 때 경로 매번 지정해줘야 함\n",
    "\n",
    "\n",
    "# 엑셀 파일 열기\n",
    "wb = xw.Book(file_path)\n",
    "sheet = wb.sheets['TICKER']\n",
    "\n",
    "\n",
    "\n",
    "df1=pd.read_excel(file_path, sheet_name='TICKER')\n",
    "df2=pd.read_excel(file_path, sheet_name='price')"
   ]
  },
  {
   "cell_type": "code",
   "execution_count": 11,
   "metadata": {},
   "outputs": [],
   "source": [
    "# df2[df2['Date']>='2023-10-31' ]"
   ]
  },
  {
   "cell_type": "markdown",
   "metadata": {},
   "source": [
    "### 미국 및 일본에 상장된 기업의 TICKER만 추출하기"
   ]
  },
  {
   "cell_type": "code",
   "execution_count": 15,
   "metadata": {},
   "outputs": [],
   "source": [
    "# Step 1: US에 해당하는 티커 필터링 및 중복 제거\n",
    "tickers_with_country = sheet.range(\"A2:A\" + str(sheet.range(\"A2\").end('down').row)).value\n",
    "\n",
    "filtered_tickers = []\n",
    "for item in tickers_with_country:\n",
    "    if item:\n",
    "        split_item = item.split(\" \")\n",
    "        ticker = split_item[0]\n",
    "        country = split_item[1]\n",
    "        if country in ['US'] and ticker not in filtered_tickers:\n",
    "            filtered_tickers.append(ticker)\n",
    "\n",
    "# 필터링된 티커를 C열에 출력\n",
    "sheet.range(\"B2:B\" + str(len(filtered_tickers) + 1)).value = [[ticker] for ticker in filtered_tickers]"
   ]
  },
  {
   "cell_type": "markdown",
   "metadata": {},
   "source": [
    "### 추출된 TICKER를 Yahoo Finance에서 조회하여 데이터 가져오기"
   ]
  },
  {
   "cell_type": "code",
   "execution_count": 16,
   "metadata": {},
   "outputs": [
    {
     "name": "stderr",
     "output_type": "stream",
     "text": [
      "404 Client Error: Not Found for url: https://query2.finance.yahoo.com/v10/finance/quoteSummary/AYX?modules=financialData%2CquoteType%2CdefaultKeyStatistics%2CassetProfile%2CsummaryDetail&corsDomain=finance.yahoo.com&formatted=false&symbol=AYX&crumb=k0z95nSvhSp\n",
      "404 Client Error: Not Found for url: https://query2.finance.yahoo.com/v10/finance/quoteSummary/CRD/A?modules=financialData%2CquoteType%2CdefaultKeyStatistics%2CassetProfile%2CsummaryDetail&corsDomain=finance.yahoo.com&formatted=false&symbol=CRD%2FA&crumb=k0z95nSvhSp\n"
     ]
    },
    {
     "name": "stdout",
     "output_type": "stream",
     "text": [
      "Error retrieving data for ticker CRD/A: Failed to parse json response from Yahoo Finance: {'code': 'Not Found', 'description': 'HTTP 404 Not Found'}\n"
     ]
    },
    {
     "name": "stderr",
     "output_type": "stream",
     "text": [
      "404 Client Error: Not Found for url: https://query2.finance.yahoo.com/v10/finance/quoteSummary/0609567D?modules=financialData%2CquoteType%2CdefaultKeyStatistics%2CassetProfile%2CsummaryDetail&corsDomain=finance.yahoo.com&formatted=false&symbol=0609567D&crumb=k0z95nSvhSp\n"
     ]
    }
   ],
   "source": [
    "# Step 2: yfinance를 사용해 각 티커에 대한 정보 가져오기\n",
    "data = []\n",
    "for ticker in filtered_tickers:\n",
    "    try:\n",
    "        ticker_data = yf.Ticker(ticker)\n",
    "        info = ticker_data.info\n",
    "\n",
    "        # Check if info is None or empty\n",
    "        if not info:\n",
    "            print(f\"No data found for ticker {ticker}\")\n",
    "            data.append([ticker] + ['N/A'] * 21)  # 추가된 country를 고려해 21로 수정\n",
    "            continue\n",
    "\n",
    "        # 필요한 정보 추출\n",
    "        country = info.get('country', 'N/A')\n",
    "        industry = info.get('industry', 'N/A')\n",
    "        sector = info.get('sector', 'N/A')\n",
    "        business = info.get('longBusinessSummary', 'N/A')\n",
    "        beta = info.get('beta', 'N/A')\n",
    "        trailingPE = info.get('trailingPE', 'N/A')\n",
    "        forwardPE = info.get('forwardPE', 'N/A')\n",
    "        priceToBook = info.get('priceToBook', 'N/A')\n",
    "        marketCap = info.get('marketCap', 'N/A')\n",
    "        sharesOutstanding = info.get('sharesOutstanding', 'N/A')\n",
    "        bookValue = info.get('bookValue', 'N/A')\n",
    "        trailingEps = info.get('trailingEps', 'N/A')\n",
    "        forwardEps = info.get('forwardEps', 'N/A')\n",
    "        pegRatio = info.get('pegRatio', 'N/A')\n",
    "        enterpriseToRevenue = info.get('enterpriseToRevenue', 'N/A')\n",
    "        enterpriseToEbitda = info.get('enterpriseToEbitda', 'N/A')\n",
    "        totalRevenue = info.get('totalRevenue', 'N/A')\n",
    "        debtToEquity = info.get('debtToEquity', 'N/A')\n",
    "        revenuePerShare = info.get('revenuePerShare', 'N/A')\n",
    "        returnOnAssets = info.get('returnOnAssets', 'N/A')\n",
    "        returnOnEquity = info.get('returnOnEquity', 'N/A')\n",
    "\n",
    "        # 데이터 리스트에 추가 (추출한 정보 순서에 맞게 리스트 작성)\n",
    "        data.append([ticker, country, industry, sector, business, beta, trailingPE, forwardPE, priceToBook, \n",
    "                     marketCap, sharesOutstanding, bookValue, trailingEps, forwardEps, pegRatio, \n",
    "                     enterpriseToRevenue, enterpriseToEbitda, totalRevenue, debtToEquity, revenuePerShare, \n",
    "                     returnOnAssets, returnOnEquity])\n",
    "\n",
    "    except Exception as e:\n",
    "        print(f\"Error retrieving data for ticker {ticker}: {e}\")\n",
    "        data.append([ticker] + ['N/A'] * 21)  # 오류 시 21개의 'N/A'로 추가"
   ]
  },
  {
   "cell_type": "code",
   "execution_count": 17,
   "metadata": {},
   "outputs": [],
   "source": [
    "# Step 3: 데이터프레임으로 변환\n",
    "columns = ['Ticker', 'Country', 'Industry', 'Sector', 'Business', 'beta', 'trailingPE', 'forwardPE', 'priceToBook', \n",
    "           'marketCap', 'sharesOutstanding', 'bookValue', 'trailingEps', 'forwardEps', 'pegRatio',\n",
    "           'enterpriseToRevenue', 'enterpriseToEbitda', 'totalRevenue', 'debtToEquity', 'revenuePerShare',\n",
    "           'returnOnAssets', 'returnOnEquity']\n",
    "\n",
    "df = pd.DataFrame(data, columns=columns)\n",
    "df.set_index('Ticker', inplace=True)\n",
    "df = df.sort_values(by='Sector')\n"
   ]
  },
  {
   "cell_type": "markdown",
   "metadata": {},
   "source": [
    "### Step_one_index 시트에 데이터 붙여넣기"
   ]
  },
  {
   "cell_type": "code",
   "execution_count": 18,
   "metadata": {},
   "outputs": [],
   "source": [
    "# Step 4: 'Ticker_Info_Test' 시트가 있는지 확인하고, 있으면 그 시트를 사용하고 없으면 새로 추가\n",
    "if 'Step_one_index' in [sheet.name for sheet in wb.sheets]:\n",
    "    output_sheet = wb.sheets['Step_one_index']\n",
    "else:\n",
    "    output_sheet = wb.sheets.add('Step_one_index')\n",
    "    # 시트가 없을 경우에만 새로 추가\n",
    "\n",
    "# output_sheet.clear() >> clear 함수를 이용하면 완전히 clear됨. 즉, 기존 서식마저도 모두 삭제\n",
    "# 데이터프레임을 엑셀 시트에 저장\n",
    "output_sheet.range(\"A1\").value = df"
   ]
  },
  {
   "cell_type": "code",
   "execution_count": 20,
   "metadata": {},
   "outputs": [],
   "source": [
    "# Microsoft 데이터 추출 테스트\n",
    "# msft = yf.Ticker(\"MSFT\")\n",
    "# msft_price = msft.history(period=\"1y\")\n",
    "# msft_price[\"Close\"]"
   ]
  },
  {
   "cell_type": "markdown",
   "metadata": {},
   "source": [
    "# 차트 제작(분산형)"
   ]
  },
  {
   "cell_type": "markdown",
   "metadata": {},
   "source": [
    "### 추후 구현 예정"
   ]
  },
  {
   "cell_type": "code",
   "execution_count": 21,
   "metadata": {},
   "outputs": [
    {
     "data": {
      "image/png": "[encoded data removed]",
      "text/plain": [
       "<Figure size 1000x600 with 1 Axes>"
      ]
     },
     "metadata": {},
     "output_type": "display_data"
    }
   ],
   "source": [
    "import pandas as pd\n",
    "import matplotlib.pyplot as plt\n",
    "\n",
    "# Step 1: 'Healthcare' 섹터에 해당하는 데이터만 필터링\n",
    "healthcare_df = df[df['Sector'] == 'Healthcare']\n",
    "\n",
    "# Forward PE 값이 0 이상인 데이터만 필터링\n",
    "healthcare_df = healthcare_df[healthcare_df['forwardPE'] >= 0]\n",
    "\n",
    "\n",
    "# Step 2: 산점도 그리기\n",
    "plt.figure(figsize=(10, 6))\n",
    "\n",
    "# x축은 티커명 (인덱스), y축은 forwardPE 값\n",
    "plt.scatter(healthcare_df.index, healthcare_df['forwardPE'], color='blue', label='Healthcare')\n",
    "\n",
    "# 차트 제목, 축 레이블 추가\n",
    "plt.title('Forward PE for Healthcare Tickers')\n",
    "plt.xlabel('Ticker')\n",
    "plt.ylabel('Forward PE')\n",
    "\n",
    "# x축 레이블이 티커명이라 길 수 있어 각도를 45도로 조정\n",
    "plt.xticks(rotation=45)\n",
    "\n",
    "# 1. Grid 추가\n",
    "plt.grid(True, which='both', linestyle='--', linewidth=0.05)\n",
    "\n",
    "# 2. Minor 틱 추가\n",
    "plt.minorticks_on()\n",
    "\n",
    "# y축의 틱 간격을 5로 줄임\n",
    "plt.gca().yaxis.set_major_locator(plt.MultipleLocator(20))\n",
    "plt.gca().yaxis.set_minor_locator(plt.MultipleLocator(5))\n",
    "\n",
    "# 3. 각 점 위에 forwardPE 값을 표시\n",
    "for i, txt in enumerate(healthcare_df['forwardPE']):\n",
    "    plt.annotate(f\"{txt:.1f}\", (healthcare_df.index[i], healthcare_df['forwardPE'].iloc[i]), \n",
    "                 textcoords=\"offset points\", xytext=(0,5), ha='center', fontsize=8)\n",
    "\n",
    "# 범례 추가\n",
    "plt.legend()\n",
    "\n",
    "# 레이아웃 조정 및 그래프 출력\n",
    "plt.tight_layout()\n",
    "plt.show()\n"
   ]
  },
  {
   "cell_type": "markdown",
   "metadata": {},
   "source": [
    "# 6개월 주가 선별 대상"
   ]
  },
  {
   "cell_type": "code",
   "execution_count": 34,
   "metadata": {},
   "outputs": [],
   "source": [
    "# Step 1: 엑셀 파일 열기 및 TICKER 시트에서 G2:G30의 티커명 읽기\n",
    "file_path = r'C:\\Users\\User\\Documents\\GitHub\\QuantifyPro\\Python_portfolio\\해외유사기업 취합_24.3Q_coding.xlsx'\n",
    "wb = xw.Book(file_path)\n",
    "sheet = wb.sheets['TICKER']\n",
    "\n",
    "# G2부터 G30까지의 티커명 읽기\n",
    "tickers = sheet.range('F2:F30').value\n",
    "\n",
    "# None 또는 빈 문자열을 제거하여 유효한 티커만 남기기\n",
    "tickers = [ticker for ticker in tickers if ticker is not None and ticker.strip() != \"\"]\n",
    "\n",
    "# Step 2: 여러 티커에 대한 주가 데이터 가져오기 (1년간의 주가)\n",
    "data = {}\n",
    "for ticker in tickers:\n",
    "    try:\n",
    "        # 각 티커의 주가 데이터 가져오기 (1년치)\n",
    "        ticker_data = yf.Ticker(ticker)\n",
    "        price_data = ticker_data.history(period=\"1y\")['Close']\n",
    "        \n",
    "        # 데이터를 딕셔너리에 저장 (티커명을 키로 사용)\n",
    "        data[ticker] = price_data\n",
    "        \n",
    "    except Exception as e:\n",
    "        print(f\"Error retrieving data for ticker {ticker}: {e}\")\n",
    "\n",
    "# Step 3: 데이터프레임으로 변환\n",
    "selected_ticker_price = pd.DataFrame(data)\n",
    "selected_ticker_price = selected_ticker_price.sort_index(ascending=False)"
   ]
  },
  {
   "cell_type": "code",
   "execution_count": 35,
   "metadata": {},
   "outputs": [],
   "source": [
    "# Step 5: 엑셀의 'price' 시트에 붙여넣기\n",
    "if 'price' in [sheet.name for sheet in wb.sheets]:\n",
    "    price_sheet = wb.sheets['price']\n",
    "else:\n",
    "    price_sheet = wb.sheets.add('price')\n",
    "\n",
    "# 기존 데이터 지우기 (덮어쓰기)\n",
    "# price_sheet.clear()\n",
    "\n",
    "# 데이터프레임을 엑셀 시트에 붙여넣기\n",
    "price_sheet.range(\"A1\").value = selected_ticker_price\n"
   ]
  },
  {
   "cell_type": "markdown",
   "metadata": {},
   "source": [
    "# ▲▲▲▲▲ 여기까지 작업 완료 ▲▲▲▲▲"
   ]
  },
  {
   "cell_type": "code",
   "execution_count": null,
   "metadata": {},
   "outputs": [
    {
     "data": {
      "text/html": [
       "<div>\n",
       "<style scoped>\n",
       "    .dataframe tbody tr th:only-of-type {\n",
       "        vertical-align: middle;\n",
       "    }\n",
       "\n",
       "    .dataframe tbody tr th {\n",
       "        vertical-align: top;\n",
       "    }\n",
       "\n",
       "    .dataframe thead th {\n",
       "        text-align: right;\n",
       "    }\n",
       "</style>\n",
       "<table border=\"1\" class=\"dataframe\">\n",
       "  <thead>\n",
       "    <tr style=\"text-align: right;\">\n",
       "      <th></th>\n",
       "      <th>EPS Estimate</th>\n",
       "      <th>Reported EPS</th>\n",
       "      <th>Surprise(%)</th>\n",
       "    </tr>\n",
       "    <tr>\n",
       "      <th>Earnings Date</th>\n",
       "      <th></th>\n",
       "      <th></th>\n",
       "      <th></th>\n",
       "    </tr>\n",
       "  </thead>\n",
       "  <tbody>\n",
       "    <tr>\n",
       "      <th>2025-07-22 06:00:00-04:00</th>\n",
       "      <td>NaN</td>\n",
       "      <td>NaN</td>\n",
       "      <td>NaN</td>\n",
       "    </tr>\n",
       "    <tr>\n",
       "      <th>2025-04-22 06:00:00-04:00</th>\n",
       "      <td>NaN</td>\n",
       "      <td>NaN</td>\n",
       "      <td>NaN</td>\n",
       "    </tr>\n",
       "    <tr>\n",
       "      <th>2025-02-10 16:00:00-05:00</th>\n",
       "      <td>NaN</td>\n",
       "      <td>NaN</td>\n",
       "      <td>NaN</td>\n",
       "    </tr>\n",
       "    <tr>\n",
       "      <th>2024-10-22 06:00:00-04:00</th>\n",
       "      <td>1.89</td>\n",
       "      <td>NaN</td>\n",
       "      <td>NaN</td>\n",
       "    </tr>\n",
       "    <tr>\n",
       "      <th>2024-07-24 16:00:00-04:00</th>\n",
       "      <td>1.83</td>\n",
       "      <td>1.82</td>\n",
       "      <td>-0.0033</td>\n",
       "    </tr>\n",
       "    <tr>\n",
       "      <th>2024-04-24 17:00:00-04:00</th>\n",
       "      <td>1.51</td>\n",
       "      <td>1.75</td>\n",
       "      <td>0.1626</td>\n",
       "    </tr>\n",
       "    <tr>\n",
       "      <th>2024-02-12 18:00:00-05:00</th>\n",
       "      <td>1.53</td>\n",
       "      <td>1.74</td>\n",
       "      <td>0.1361</td>\n",
       "    </tr>\n",
       "    <tr>\n",
       "      <th>2023-10-24 17:00:00-04:00</th>\n",
       "      <td>1.61</td>\n",
       "      <td>1.63</td>\n",
       "      <td>0.0093</td>\n",
       "    </tr>\n",
       "    <tr>\n",
       "      <th>2023-07-25 17:00:00-04:00</th>\n",
       "      <td>1.54</td>\n",
       "      <td>1.51</td>\n",
       "      <td>-0.0203</td>\n",
       "    </tr>\n",
       "    <tr>\n",
       "      <th>2023-04-26 18:00:00-04:00</th>\n",
       "      <td>1.29</td>\n",
       "      <td>1.31</td>\n",
       "      <td>0.0193</td>\n",
       "    </tr>\n",
       "    <tr>\n",
       "      <th>2023-01-31 19:00:00-05:00</th>\n",
       "      <td>1.41</td>\n",
       "      <td>1.30</td>\n",
       "      <td>-0.0769</td>\n",
       "    </tr>\n",
       "    <tr>\n",
       "      <th>2022-10-26 07:00:00-04:00</th>\n",
       "      <td>1.51</td>\n",
       "      <td>1.56</td>\n",
       "      <td>0.0322</td>\n",
       "    </tr>\n",
       "  </tbody>\n",
       "</table>\n",
       "</div>"
      ],
      "text/plain": [
       "                           EPS Estimate  Reported EPS  Surprise(%)\n",
       "Earnings Date                                                     \n",
       "2025-07-22 06:00:00-04:00           NaN           NaN          NaN\n",
       "2025-04-22 06:00:00-04:00           NaN           NaN          NaN\n",
       "2025-02-10 16:00:00-05:00           NaN           NaN          NaN\n",
       "2024-10-22 06:00:00-04:00          1.89           NaN          NaN\n",
       "2024-07-24 16:00:00-04:00          1.83          1.82      -0.0033\n",
       "2024-04-24 17:00:00-04:00          1.51          1.75       0.1626\n",
       "2024-02-12 18:00:00-05:00          1.53          1.74       0.1361\n",
       "2023-10-24 17:00:00-04:00          1.61          1.63       0.0093\n",
       "2023-07-25 17:00:00-04:00          1.54          1.51      -0.0203\n",
       "2023-04-26 18:00:00-04:00          1.29          1.31       0.0193\n",
       "2023-01-31 19:00:00-05:00          1.41          1.30      -0.0769\n",
       "2022-10-26 07:00:00-04:00          1.51          1.56       0.0322"
      ]
     },
     "execution_count": 57,
     "metadata": {},
     "output_type": "execute_result"
    }
   ],
   "source": [
    "wm = yf.Ticker(\"WM\")\n",
    "wm.earnings_dates"
   ]
  },
  {
   "cell_type": "markdown",
   "metadata": {},
   "source": [
    "#### pfizer 데이터 추출 예시"
   ]
  },
  {
   "cell_type": "code",
   "execution_count": 51,
   "metadata": {},
   "outputs": [
    {
     "data": {
      "text/html": [
       "<div>\n",
       "<style scoped>\n",
       "    .dataframe tbody tr th:only-of-type {\n",
       "        vertical-align: middle;\n",
       "    }\n",
       "\n",
       "    .dataframe tbody tr th {\n",
       "        vertical-align: top;\n",
       "    }\n",
       "\n",
       "    .dataframe thead th {\n",
       "        text-align: right;\n",
       "    }\n",
       "</style>\n",
       "<table border=\"1\" class=\"dataframe\">\n",
       "  <thead>\n",
       "    <tr style=\"text-align: right;\">\n",
       "      <th></th>\n",
       "      <th>Key</th>\n",
       "      <th>Value</th>\n",
       "    </tr>\n",
       "  </thead>\n",
       "  <tbody>\n",
       "    <tr>\n",
       "      <th>0</th>\n",
       "      <td>address1</td>\n",
       "      <td>66 Hudson Boulevard East</td>\n",
       "    </tr>\n",
       "    <tr>\n",
       "      <th>1</th>\n",
       "      <td>city</td>\n",
       "      <td>New York</td>\n",
       "    </tr>\n",
       "    <tr>\n",
       "      <th>2</th>\n",
       "      <td>state</td>\n",
       "      <td>NY</td>\n",
       "    </tr>\n",
       "    <tr>\n",
       "      <th>3</th>\n",
       "      <td>zip</td>\n",
       "      <td>10001-2192</td>\n",
       "    </tr>\n",
       "    <tr>\n",
       "      <th>4</th>\n",
       "      <td>country</td>\n",
       "      <td>United States</td>\n",
       "    </tr>\n",
       "    <tr>\n",
       "      <th>5</th>\n",
       "      <td>phone</td>\n",
       "      <td>212 733 2323</td>\n",
       "    </tr>\n",
       "    <tr>\n",
       "      <th>6</th>\n",
       "      <td>website</td>\n",
       "      <td>https://www.pfizer.com</td>\n",
       "    </tr>\n",
       "    <tr>\n",
       "      <th>7</th>\n",
       "      <td>industry</td>\n",
       "      <td>Drug Manufacturers - General</td>\n",
       "    </tr>\n",
       "    <tr>\n",
       "      <th>8</th>\n",
       "      <td>industryKey</td>\n",
       "      <td>drug-manufacturers-general</td>\n",
       "    </tr>\n",
       "    <tr>\n",
       "      <th>9</th>\n",
       "      <td>industryDisp</td>\n",
       "      <td>Drug Manufacturers - General</td>\n",
       "    </tr>\n",
       "    <tr>\n",
       "      <th>10</th>\n",
       "      <td>sector</td>\n",
       "      <td>Healthcare</td>\n",
       "    </tr>\n",
       "    <tr>\n",
       "      <th>11</th>\n",
       "      <td>sectorKey</td>\n",
       "      <td>healthcare</td>\n",
       "    </tr>\n",
       "    <tr>\n",
       "      <th>12</th>\n",
       "      <td>sectorDisp</td>\n",
       "      <td>Healthcare</td>\n",
       "    </tr>\n",
       "    <tr>\n",
       "      <th>13</th>\n",
       "      <td>longBusinessSummary</td>\n",
       "      <td>Pfizer Inc. discovers, develops, manufactures,...</td>\n",
       "    </tr>\n",
       "    <tr>\n",
       "      <th>14</th>\n",
       "      <td>fullTimeEmployees</td>\n",
       "      <td>88000</td>\n",
       "    </tr>\n",
       "  </tbody>\n",
       "</table>\n",
       "</div>"
      ],
      "text/plain": [
       "                    Key                                              Value\n",
       "0              address1                           66 Hudson Boulevard East\n",
       "1                  city                                           New York\n",
       "2                 state                                                 NY\n",
       "3                   zip                                         10001-2192\n",
       "4               country                                      United States\n",
       "5                 phone                                       212 733 2323\n",
       "6               website                             https://www.pfizer.com\n",
       "7              industry                       Drug Manufacturers - General\n",
       "8           industryKey                         drug-manufacturers-general\n",
       "9          industryDisp                       Drug Manufacturers - General\n",
       "10               sector                                         Healthcare\n",
       "11            sectorKey                                         healthcare\n",
       "12           sectorDisp                                         Healthcare\n",
       "13  longBusinessSummary  Pfizer Inc. discovers, develops, manufactures,...\n",
       "14    fullTimeEmployees                                              88000"
      ]
     },
     "execution_count": 51,
     "metadata": {},
     "output_type": "execute_result"
    }
   ],
   "source": [
    "pfizer = yf.Ticker(\"PFE\")\n",
    "pfizer.info_df = pd.DataFrame(list(pfizer.info.items()), columns=['Key', 'Value'])\n",
    "pfizer.info_df.head(15)\n"
   ]
  },
  {
   "cell_type": "code",
   "execution_count": 43,
   "metadata": {},
   "outputs": [
    {
     "ename": "AttributeError",
     "evalue": "'Ticker' object has no attribute 'head'",
     "output_type": "error",
     "traceback": [
      "\u001b[1;31m---------------------------------------------------------------------------\u001b[0m",
      "\u001b[1;31mAttributeError\u001b[0m                            Traceback (most recent call last)",
      "Cell \u001b[1;32mIn[43], line 1\u001b[0m\n\u001b[1;32m----> 1\u001b[0m \u001b[43mpfizer\u001b[49m\u001b[38;5;241;43m.\u001b[39;49m\u001b[43mhead\u001b[49m(\u001b[38;5;241m10\u001b[39m)\n",
      "\u001b[1;31mAttributeError\u001b[0m: 'Ticker' object has no attribute 'head'"
     ]
    }
   ],
   "source": [
    "pfizer = yf.Ticker(\"PFE\")\n",
    "pfizer.info_df = pd.DataFrame(list(pfizer.info.items()), columns=['Key', 'Value'])\n",
    "pfizer.info_df.head(15)\n",
    "\n",
    "# .info 메서드를 통해 딕셔너리 형태의 데이터를 가져옴\n",
    "msft_info = msft.info\n",
    "\n",
    "# 딕셔너리를 데이터프레임으로 변환\n",
    "msft_info_df = pd.DataFrame(list(msft_info.items()), columns=['Key', 'Value'])\n",
    "\n",
    "# pandas 출력 옵션 설정: 최대 행 수를 None으로 설정하여 모두 출력\n",
    "pd.set_option('display.max_rows', None)\n"
   ]
  },
  {
   "cell_type": "markdown",
   "metadata": {},
   "source": [
    "### .info 데이터 키 값 확인"
   ]
  },
  {
   "cell_type": "code",
   "execution_count": 64,
   "metadata": {},
   "outputs": [
    {
     "ename": "TypeError",
     "evalue": "'dict' object is not callable",
     "output_type": "error",
     "traceback": [
      "\u001b[1;31m---------------------------------------------------------------------------\u001b[0m",
      "\u001b[1;31mTypeError\u001b[0m                                 Traceback (most recent call last)",
      "Cell \u001b[1;32mIn[64], line 7\u001b[0m\n\u001b[0;32m      5\u001b[0m wm \u001b[38;5;241m=\u001b[39m yf\u001b[38;5;241m.\u001b[39mTicker(\u001b[38;5;124m\"\u001b[39m\u001b[38;5;124mWM\u001b[39m\u001b[38;5;124m\"\u001b[39m)\n\u001b[0;32m      6\u001b[0m wm_info_df \u001b[38;5;241m=\u001b[39m pd\u001b[38;5;241m.\u001b[39mDataFrame(wm\u001b[38;5;241m.\u001b[39minfo)\n\u001b[1;32m----> 7\u001b[0m \u001b[43mwm\u001b[49m\u001b[38;5;241;43m.\u001b[39;49m\u001b[43minfo\u001b[49m\u001b[43m(\u001b[49m\u001b[43m)\u001b[49m\n\u001b[0;32m     10\u001b[0m \u001b[38;5;66;03m# 엑셀 시트 선택\u001b[39;00m\n\u001b[0;32m     11\u001b[0m key_sheet \u001b[38;5;241m=\u001b[39m wb\u001b[38;5;241m.\u001b[39msheets[\u001b[38;5;124m'\u001b[39m\u001b[38;5;124mPARAMETER\u001b[39m\u001b[38;5;124m'\u001b[39m]\n",
      "\u001b[1;31mTypeError\u001b[0m: 'dict' object is not callable"
     ]
    }
   ],
   "source": [
    "import yfinance as yf\n",
    "import pandas as pd\n",
    "\n",
    "# Ticker 정보 가져오기\n",
    "wm = yf.Ticker(\"WM\")\n",
    "# wm_info_df = pd.DataFrame(wm.info)\n",
    "\n",
    "\n",
    "# 엑셀 시트 선택\n",
    "key_sheet = wb.sheets['PARAMETER']\n",
    "\n",
    "# DataFrame의 값을 리스트로 변환하여 엑셀에 쓰기 (헤더 포함)\n",
    "# key_sheet.range(\"A13\").value = wm_info_df\n",
    "\n"
   ]
  },
  {
   "cell_type": "code",
   "execution_count": 48,
   "metadata": {},
   "outputs": [],
   "source": [
    "key_sheet = wb.sheets('PARAMETER')"
   ]
  },
  {
   "cell_type": "code",
   "execution_count": 38,
   "metadata": {},
   "outputs": [],
   "source": [
    "# Step 1: MSFT 티커 정보 가져오기\n",
    "msft = yf.Ticker(\"MSFT\")\n",
    "\n",
    "# Step 2: 1년간의 주가 데이터 가져오기\n",
    "msft_price = msft.history(period=\"1y\")\n",
    "\n",
    "# Step 3: 최근 재무제표에서 Basic EPS 값 가져오기\n",
    "# yfinance의 income statement에서 Basic EPS 가져오기\n",
    "income_stmt = msft.income_stmt  # income statement 정보 가져오기\n",
    "latest_eps = income_stmt.loc['Basic EPS'].iloc[0]  # 최근 재무 기준일의 Basic EPS\n",
    "\n",
    "# Step 4: 매일의 PER 계산 (종가 / Basic EPS)\n",
    "msft_price['PER'] = msft_price['Close'] / latest_eps"
   ]
  },
  {
   "cell_type": "code",
   "execution_count": null,
   "metadata": {},
   "outputs": [
    {
     "data": {
      "text/html": [
       "<div>\n",
       "<style scoped>\n",
       "    .dataframe tbody tr th:only-of-type {\n",
       "        vertical-align: middle;\n",
       "    }\n",
       "\n",
       "    .dataframe tbody tr th {\n",
       "        vertical-align: top;\n",
       "    }\n",
       "\n",
       "    .dataframe thead th {\n",
       "        text-align: right;\n",
       "    }\n",
       "</style>\n",
       "<table border=\"1\" class=\"dataframe\">\n",
       "  <thead>\n",
       "    <tr style=\"text-align: right;\">\n",
       "      <th></th>\n",
       "      <th>Close</th>\n",
       "      <th>PER</th>\n",
       "    </tr>\n",
       "    <tr>\n",
       "      <th>Date</th>\n",
       "      <th></th>\n",
       "      <th></th>\n",
       "    </tr>\n",
       "  </thead>\n",
       "  <tbody>\n",
       "    <tr>\n",
       "      <th>2023-08-21 00:00:00-04:00</th>\n",
       "      <td>319.481964</td>\n",
       "      <td>26.937771</td>\n",
       "    </tr>\n",
       "    <tr>\n",
       "      <th>2023-08-22 00:00:00-04:00</th>\n",
       "      <td>320.057617</td>\n",
       "      <td>26.986308</td>\n",
       "    </tr>\n",
       "    <tr>\n",
       "      <th>2023-08-23 00:00:00-04:00</th>\n",
       "      <td>324.563812</td>\n",
       "      <td>27.366257</td>\n",
       "    </tr>\n",
       "    <tr>\n",
       "      <th>2023-08-24 00:00:00-04:00</th>\n",
       "      <td>317.586182</td>\n",
       "      <td>26.777924</td>\n",
       "    </tr>\n",
       "    <tr>\n",
       "      <th>2023-08-25 00:00:00-04:00</th>\n",
       "      <td>320.573761</td>\n",
       "      <td>27.029828</td>\n",
       "    </tr>\n",
       "    <tr>\n",
       "      <th>...</th>\n",
       "      <td>...</td>\n",
       "      <td>...</td>\n",
       "    </tr>\n",
       "    <tr>\n",
       "      <th>2024-08-14 00:00:00-04:00</th>\n",
       "      <td>416.109985</td>\n",
       "      <td>35.085159</td>\n",
       "    </tr>\n",
       "    <tr>\n",
       "      <th>2024-08-15 00:00:00-04:00</th>\n",
       "      <td>421.029999</td>\n",
       "      <td>35.500000</td>\n",
       "    </tr>\n",
       "    <tr>\n",
       "      <th>2024-08-16 00:00:00-04:00</th>\n",
       "      <td>418.470001</td>\n",
       "      <td>35.284149</td>\n",
       "    </tr>\n",
       "    <tr>\n",
       "      <th>2024-08-19 00:00:00-04:00</th>\n",
       "      <td>421.529999</td>\n",
       "      <td>35.542158</td>\n",
       "    </tr>\n",
       "    <tr>\n",
       "      <th>2024-08-20 00:00:00-04:00</th>\n",
       "      <td>424.799988</td>\n",
       "      <td>35.817874</td>\n",
       "    </tr>\n",
       "  </tbody>\n",
       "</table>\n",
       "<p>252 rows × 2 columns</p>\n",
       "</div>"
      ],
      "text/plain": [
       "                                Close        PER\n",
       "Date                                            \n",
       "2023-08-21 00:00:00-04:00  319.481964  26.937771\n",
       "2023-08-22 00:00:00-04:00  320.057617  26.986308\n",
       "2023-08-23 00:00:00-04:00  324.563812  27.366257\n",
       "2023-08-24 00:00:00-04:00  317.586182  26.777924\n",
       "2023-08-25 00:00:00-04:00  320.573761  27.029828\n",
       "...                               ...        ...\n",
       "2024-08-14 00:00:00-04:00  416.109985  35.085159\n",
       "2024-08-15 00:00:00-04:00  421.029999  35.500000\n",
       "2024-08-16 00:00:00-04:00  418.470001  35.284149\n",
       "2024-08-19 00:00:00-04:00  421.529999  35.542158\n",
       "2024-08-20 00:00:00-04:00  424.799988  35.817874\n",
       "\n",
       "[252 rows x 2 columns]"
      ]
     },
     "execution_count": 60,
     "metadata": {},
     "output_type": "execute_result"
    }
   ],
   "source": [
    "msft_price[['Close','PER']]"
   ]
  },
  {
   "cell_type": "code",
   "execution_count": null,
   "metadata": {},
   "outputs": [],
   "source": []
  },
  {
   "cell_type": "code",
   "execution_count": null,
   "metadata": {},
   "outputs": [],
   "source": [
    "# Step 6: 그래프로 PER 시각화\n",
    "plt.figure(figsize=(20, 10))\n",
    "plt.plot(msft_price.index, msft_price['PER'], label='PER', color='black', linestyle='-', marker='o')\n",
    "plt.title('MSFT PER (Price-to-Earnings Ratio) Over Time')\n",
    "plt.xlabel('Date')\n",
    "plt.ylabel('PER')\n",
    "plt.grid(True)\n",
    "plt.legend()\n",
    "plt.show()"
   ]
  },
  {
   "cell_type": "code",
   "execution_count": null,
   "metadata": {},
   "outputs": [],
   "source": [
    "pe_ratio_ttm = info.get('trailingPE', 'N/A')\n",
    "data = {}\n",
    "df = pd.DataFrame(data)"
   ]
  },
  {
   "cell_type": "code",
   "execution_count": null,
   "metadata": {},
   "outputs": [],
   "source": []
  },
  {
   "cell_type": "code",
   "execution_count": null,
   "metadata": {},
   "outputs": [],
   "source": [
    "# Step 5: 엑셀의 'price' 시트에 붙여넣기\n",
    "if 'price' in [sheet.name for sheet in wb.sheets]:\n",
    "    price_sheet = wb.sheets['price']\n",
    "else:\n",
    "    price_sheet = wb.sheets.add('price')\n",
    "\n",
    "# 기존 데이터 지우기 (덮어쓰기)\n",
    "# price_sheet.clear()\n",
    "\n",
    "# 데이터프레임을 엑셀 시트에 붙여넣기\n",
    "price_sheet.range(\"A1\").value = selected_ticker_price\n",
    "\n"
   ]
  },
  {
   "cell_type": "code",
   "execution_count": null,
   "metadata": {},
   "outputs": [],
   "source": [
    "# Step 1: MSFT 티커 정보 가져오기\n",
    "msft = yf.Ticker(\"MSFT\")\n",
    "msft_info_df = pd.DataFrame(list(msft.info.items()), columns =['Key', 'Value'])\n",
    "\n",
    "\n",
    "\n",
    "\n",
    "# .info 메서드를 통해 딕셔너리 형태의 데이터를 가져옴\n",
    "# msft_info = msft.info\n",
    "\n",
    "# 딕셔너리를 데이터프레임으로 변환\n",
    "# msft_info_df = pd.DataFrame(list(msft_info.items()), columns=['Key', 'Value'])\n",
    "\n",
    "\n",
    "key_sheet = wb.sheets['PARAMETER']\n",
    "key_sheet.range(\"A13\").value = msft_info_df"
   ]
  },
  {
   "cell_type": "code",
   "execution_count": null,
   "metadata": {},
   "outputs": [],
   "source": [
    "# Step 4: Sector 및 priceToBook 값이 'N/A'가 아닌 행만 필터링\n",
    "df = df[df['Sector'] != 'N/A']\n",
    "df['priceToBook'] = pd.to_numeric(df['priceToBook'], errors='coerce')  # priceToBook을 숫자로 변환\n",
    "\n",
    "# Step 5: Sector별로 그룹화하고, 각 Sector에서 priceToBook 값의 평균 계산\n",
    "sector_price_to_book = df.groupby('Sector')['priceToBook'].mean()\n",
    "\n",
    "# Step 6: 그래프 시각화 (matplotlib 사용)\n",
    "plt.figure(figsize=(10, 6))\n",
    "sector_price_to_book.plot(kind='bar', color='skyblue')\n",
    "plt.title('Average Price-to-Book Ratio by Sector')\n",
    "plt.xlabel('Sector')\n",
    "plt.ylabel('Average Price-to-Book Ratio')\n",
    "plt.xticks(rotation=45, ha='right')\n",
    "plt.grid(True, axis='y')"
   ]
  },
  {
   "cell_type": "code",
   "execution_count": null,
   "metadata": {},
   "outputs": [
    {
     "data": {
      "text/plain": [
       "<Picture 'PriceToBookGraph' in <Sheet [해외유사기업 취합_24.3Q_coding.xlsx]GRAPH>>"
      ]
     },
     "execution_count": 107,
     "metadata": {},
     "output_type": "execute_result"
    }
   ],
   "source": [
    "# Step 6: 그래프 시각화 (matplotlib 사용)\n",
    "plt.figure(figsize=(10, 6))\n",
    "sector_price_to_book.plot(kind='bar', color='skyblue')\n",
    "plt.title('Average Price-to-Book Ratio by Sector')\n",
    "plt.xlabel('Sector')\n",
    "plt.ylabel('Average Price-to-Book Ratio')\n",
    "plt.xticks(rotation=45, ha='right')\n",
    "plt.grid(True, axis='y')\n",
    "\n",
    "# 그래프를 이미지 파일로 저장 (절대 경로 사용)\n",
    "image_path = r'C:\\Users\\dwchae23\\Desktop\\Python_portfolio\\img_source\\price_to_book_graph.png'\n",
    "plt.tight_layout()\n",
    "\n",
    "# savefig를 show 전에 호출해서 그래프가 제대로 저장되도록 함\n",
    "plt.savefig(image_path)\n",
    "\n",
    "# 그래프가 화면에 출력되지 않도록 plt.close()로 닫음\n",
    "plt.close()\n",
    "\n",
    "# Step 7: 이미지 파일 존재 여부 확인\n",
    "if not os.path.exists(image_path):\n",
    "    raise FileNotFoundError(f\"The image file was not found at {image_path}\")\n",
    "\n",
    "# Step 8: 엑셀 파일 열기 및 GRAPH 시트에 이미지 삽입\n",
    "file_path = r'\\\\10.10.10.11\\Ai본부\\F.AI본부\\★평가리뷰\\대체평가3팀(리뷰)\\해외유사기업\\해외유사기업 취합_24.3Q_coding.xlsx'  # 엑셀 파일 경로 설정\n",
    "wb = xw.Book(file_path)\n",
    "\n",
    "# Step 9: 'GRAPH' 시트가 있는지 확인하고, 있으면 그 시트를 사용하고 없으면 새로 추가\n",
    "if 'GRAPH' in [sheet.name for sheet in wb.sheets]:\n",
    "    graph_sheet = wb.sheets['GRAPH']\n",
    "else:\n",
    "    graph_sheet = wb.sheets.add('GRAPH')\n",
    "\n",
    "# 기존 내용 지우기 (덮어쓰기)\n",
    "graph_sheet.clear()\n",
    "\n",
    "# Step 10: 그래프 이미지 엑셀 시트에 삽입\n",
    "graph_sheet.pictures.add(image_path, name='PriceToBookGraph', update=True, left=50, top=50)\n"
   ]
  },
  {
   "cell_type": "code",
   "execution_count": null,
   "metadata": {},
   "outputs": [],
   "source": []
  }
 ],
 "metadata": {
  "kernelspec": {
   "display_name": "Python 3",
   "language": "python",
   "name": "python3"
  },
  "language_info": {
   "codemirror_mode": {
    "name": "ipython",
    "version": 3
   },
   "file_extension": ".py",
   "mimetype": "text/x-python",
   "name": "python",
   "nbconvert_exporter": "python",
   "pygments_lexer": "ipython3",
   "version": "3.12.5"
  }
 },
 "nbformat": 4,
 "nbformat_minor": 2
}
